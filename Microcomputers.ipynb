{
  "nbformat": 4,
  "nbformat_minor": 0,
  "metadata": {
    "colab": {
      "provenance": [],
      "include_colab_link": true
    },
    "kernelspec": {
      "name": "python3",
      "display_name": "Python 3"
    },
    "language_info": {
      "name": "python"
    }
  },
  "cells": [
    {
      "cell_type": "markdown",
      "metadata": {
        "id": "view-in-github",
        "colab_type": "text"
      },
      "source": [
        "<a href=\"https://colab.research.google.com/github/michelmalki/MichelMalki/blob/main/Microcomputers.ipynb\" target=\"_parent\"><img src=\"https://colab.research.google.com/assets/colab-badge.svg\" alt=\"Open In Colab\"/></a>"
      ]
    },
    {
      "cell_type": "code",
      "execution_count": null,
      "metadata": {
        "id": "28fqszfaCxIA"
      },
      "outputs": [],
      "source": []
    },
    {
      "cell_type": "code",
      "source": [
        "!apt-get install -y -qq glpk-utils # installing a solver FIRST"
      ],
      "metadata": {
        "id": "LAVtv8iccOc4"
      },
      "execution_count": 11,
      "outputs": []
    },
    {
      "cell_type": "code",
      "source": [
        "!pip install -q pyomo # install pyomo SECOND to find that solver"
      ],
      "metadata": {
        "id": "hKvlCqkfbCUG",
        "colab": {
          "base_uri": "https://localhost:8080/"
        },
        "outputId": "5065fe28-130b-465a-d518-3784cb402aa5"
      },
      "execution_count": 2,
      "outputs": [
        {
          "output_type": "stream",
          "name": "stdout",
          "text": [
            "\u001b[2K     \u001b[90m━━━━━━━━━━━━━━━━━━━━━━━━━━━━━━━━━━━━━━━━\u001b[0m \u001b[32m12.5/12.5 MB\u001b[0m \u001b[31m61.8 MB/s\u001b[0m eta \u001b[36m0:00:00\u001b[0m\n",
            "\u001b[2K     \u001b[90m━━━━━━━━━━━━━━━━━━━━━━━━━━━━━━━━━━━━━━━━\u001b[0m \u001b[32m49.6/49.6 kB\u001b[0m \u001b[31m5.2 MB/s\u001b[0m eta \u001b[36m0:00:00\u001b[0m\n",
            "\u001b[?25h"
          ]
        }
      ]
    },
    {
      "cell_type": "code",
      "execution_count": 3,
      "metadata": {
        "id": "lDU-ku2aIzw6",
        "nbpages": {
          "level": 3,
          "link": "[6.4.4.5 Step 5. Display the solution.](https://jckantor.github.io/CBE30338/06.04-Linear-Production-Model-in-Pyomo.html#6.4.4.5-Step-5.-Display-the-solution.)",
          "section": "6.4.4.5 Step 5. Display the solution."
        },
        "outputId": "5af6428b-1d70-40e2-f352-601576fdbbda",
        "colab": {
          "base_uri": "https://localhost:8080/"
        }
      },
      "outputs": [
        {
          "output_type": "stream",
          "name": "stdout",
          "text": [
            "# ==========================================================\n",
            "# = Solver Results                                         =\n",
            "# ==========================================================\n",
            "# ----------------------------------------------------------\n",
            "#   Problem Information\n",
            "# ----------------------------------------------------------\n",
            "Problem: \n",
            "- Name: unknown\n",
            "  Lower bound: 740.0\n",
            "  Upper bound: 740.0\n",
            "  Number of objectives: 1\n",
            "  Number of constraints: 3\n",
            "  Number of variables: 2\n",
            "  Number of nonzeros: 6\n",
            "  Sense: maximize\n",
            "# ----------------------------------------------------------\n",
            "#   Solver Information\n",
            "# ----------------------------------------------------------\n",
            "Solver: \n",
            "- Status: ok\n",
            "  Termination condition: optimal\n",
            "  Statistics: \n",
            "    Branch and bound: \n",
            "      Number of bounded subproblems: 0\n",
            "      Number of created subproblems: 0\n",
            "  Error rc: 0\n",
            "  Time: 0.0034475326538085938\n",
            "# ----------------------------------------------------------\n",
            "#   Solution Information\n",
            "# ----------------------------------------------------------\n",
            "Solution: \n",
            "- number of solutions: 0\n",
            "  number of solutions displayed: 0\n",
            "2 Var Declarations\n",
            "    x : Size=1, Index=None\n",
            "        Key  : Lower : Value : Upper : Fixed : Stale : Domain\n",
            "        None :     0 :   9.0 :  None : False : False : NonNegativeReals\n",
            "    y : Size=1, Index=None\n",
            "        Key  : Lower : Value : Upper : Fixed : Stale : Domain\n",
            "        None :     0 :   4.0 :  None : False : False : NonNegativeReals\n",
            "\n",
            "1 Objective Declarations\n",
            "    profit : Size=1, Index=None, Active=True\n",
            "        Key  : Active : Sense    : Expression\n",
            "        None :   True : maximize : 60*x + 50*y\n",
            "\n",
            "3 Constraint Declarations\n",
            "    assembly : Size=1, Index=None, Active=True\n",
            "        Key  : Lower : Body       : Upper : Active\n",
            "        None :  -Inf : 4*x + 10*y : 100.0 :   True\n",
            "    labor : Size=1, Index=None, Active=True\n",
            "        Key  : Lower : Body    : Upper : Active\n",
            "        None :  -Inf : 2*x + y :  22.0 :   True\n",
            "    space : Size=1, Index=None, Active=True\n",
            "        Key  : Lower : Body      : Upper : Active\n",
            "        None :  -Inf : 3*x + 3*y :  39.0 :   True\n",
            "\n",
            "6 Declarations: x y profit assembly labor space\n",
            "\n",
            "Profit =  740.0\n",
            "\n",
            "Decision Variables\n",
            "x =  9.0\n",
            "y =  4.0\n",
            "\n",
            "Constraints\n",
            "Assembly Time  =  76.0\n",
            "Labor Time =  22.0\n",
            "Space Usage =  39.0\n"
          ]
        }
      ],
      "source": [
        "from pyomo.environ import *  # as a third step run the code\n",
        "\n",
        "# create a model\n",
        "model = ConcreteModel()\n",
        "\n",
        "# declare decision variables\n",
        "model.x = Var(domain=NonNegativeReals)\n",
        "model.y = Var(domain=NonNegativeReals)\n",
        "\n",
        "# declare objective\n",
        "model.profit = Objective(expr = 60*model.x + 50*model.y, sense=maximize)\n",
        "\n",
        "# declare constraints\n",
        "model.assembly = Constraint(expr = 4*model.x +10*model.y <= 100)\n",
        "model.labor = Constraint(expr = 2*model.x + model.y <= 22)\n",
        "model.space = Constraint(expr = 3*model.x + 3*model.y <= 39)\n",
        "\n",
        "# solve\n",
        "results = SolverFactory('glpk').solve(model)\n",
        "results.write()\n",
        "if results.solver.status:\n",
        "    model.pprint()\n",
        "\n",
        "# display solution\n",
        "print('\\nProfit = ', model.profit())\n",
        "\n",
        "print('\\nDecision Variables')\n",
        "print('x = ', model.x())\n",
        "print('y = ', model.y())\n",
        "\n",
        "print('\\nConstraints')\n",
        "print('Assembly Time  = ', model.assembly())\n",
        "print('Labor Time = ', model.labor())\n",
        "print('Space Usage = ', model.space())"
      ]
    },
    {
      "cell_type": "code",
      "source": [
        "from pyomo.environ import *  # as a third step run the code\n",
        "model = ConcreteModel()\n",
        "# declare decision variables\n",
        "model.x1 = Var(domain=NonNegativeReals)\n",
        "model.x2 = Var(domain=NonNegativeReals)\n",
        "model.x3 = Var(domain=NonNegativeReals)\n",
        "model.x4 = Var(domain=NonNegativeReals)\n",
        "# declare objective\n",
        "model.profit = Objective(expr = 0.5*model.x1 + 0.5*model.x2 +  0.45*model.x3 + 0.6833*model.x4, sense=maximize)\n",
        "# declare constraints\n",
        "model.OrangeJuice  = Constraint(expr = model.x1 + model.x4/3 <= 1600)\n",
        "model.GrapefruitJuice  = Constraint(expr = model.x2 + model.x4/3 <= 1200)\n",
        "model.PineappleJuice  = Constraint(expr = model.x3 + model.x4/3 <= 800)\n",
        "model.GrapeUpper  = Constraint(expr = model.x2<= 0.3 * (model.x1 + model.x2 + model.x3 + model.x4))\n",
        "model.Ratio = Constraint(expr = model.x1>= 1.4 * model.x3)\n",
        "# solve\n",
        "results = SolverFactory('glpk').solve(model)\n",
        "results.write()\n",
        "if results.solver.status:\n",
        "    model.pprint()\n",
        "# display solution\n",
        "print('\\nProfit = ', model.profit())\n",
        "print('\\nDecision Variables')\n",
        "print('x1 = ', model.x1())\n",
        "print('x2 = ', model.x2())\n",
        "print('x3 = ', model.x3())\n",
        "print('x4 = ', model.x4())\n",
        "print('\\nConstraints')\n",
        "print('OrangeJuice   = ', model.OrangeJuice ())\n",
        "print('GrapefruitJuice = ', model.GrapefruitJuice())\n",
        "print('PineappleJuice = ', model.PineappleJuice())\n",
        "print('GrapeUpper   = ', model.GrapeUpper ())\n",
        "print('Ratio  = ', model.Ratio ())"
      ],
      "metadata": {
        "colab": {
          "base_uri": "https://localhost:8080/"
        },
        "id": "REkxERMkCJy_",
        "outputId": "f16bb28a-b350-44ff-cfab-603f6c72dbc4"
      },
      "execution_count": 17,
      "outputs": [
        {
          "output_type": "stream",
          "name": "stdout",
          "text": [
            "# ==========================================================\n",
            "# = Solver Results                                         =\n",
            "# ==========================================================\n",
            "# ----------------------------------------------------------\n",
            "#   Problem Information\n",
            "# ----------------------------------------------------------\n",
            "Problem: \n",
            "- Name: unknown\n",
            "  Lower bound: 2239.92\n",
            "  Upper bound: 2239.92\n",
            "  Number of objectives: 1\n",
            "  Number of constraints: 5\n",
            "  Number of variables: 4\n",
            "  Number of nonzeros: 12\n",
            "  Sense: maximize\n",
            "# ----------------------------------------------------------\n",
            "#   Solver Information\n",
            "# ----------------------------------------------------------\n",
            "Solver: \n",
            "- Status: ok\n",
            "  Termination condition: optimal\n",
            "  Statistics: \n",
            "    Branch and bound: \n",
            "      Number of bounded subproblems: 0\n",
            "      Number of created subproblems: 0\n",
            "  Error rc: 0\n",
            "  Time: 0.004058361053466797\n",
            "# ----------------------------------------------------------\n",
            "#   Solution Information\n",
            "# ----------------------------------------------------------\n",
            "Solution: \n",
            "- number of solutions: 0\n",
            "  number of solutions displayed: 0\n",
            "4 Var Declarations\n",
            "    x1 : Size=1, Index=None\n",
            "        Key  : Lower : Value : Upper : Fixed : Stale : Domain\n",
            "        None :     0 : 800.0 :  None : False : False : NonNegativeReals\n",
            "    x2 : Size=1, Index=None\n",
            "        Key  : Lower : Value : Upper : Fixed : Stale : Domain\n",
            "        None :     0 : 400.0 :  None : False : False : NonNegativeReals\n",
            "    x3 : Size=1, Index=None\n",
            "        Key  : Lower : Value : Upper : Fixed : Stale : Domain\n",
            "        None :     0 :   0.0 :  None : False : False : NonNegativeReals\n",
            "    x4 : Size=1, Index=None\n",
            "        Key  : Lower : Value  : Upper : Fixed : Stale : Domain\n",
            "        None :     0 : 2400.0 :  None : False : False : NonNegativeReals\n",
            "\n",
            "1 Objective Declarations\n",
            "    profit : Size=1, Index=None, Active=True\n",
            "        Key  : Active : Sense    : Expression\n",
            "        None :   True : maximize : 0.5*x1 + 0.5*x2 + 0.45*x3 + 0.6833*x4\n",
            "\n",
            "5 Constraint Declarations\n",
            "    GrapeUpper : Size=1, Index=None, Active=True\n",
            "        Key  : Lower : Body                         : Upper : Active\n",
            "        None :  -Inf : x2 - 0.3*(x1 + x2 + x3 + x4) :   0.0 :   True\n",
            "    GrapefruitJuice : Size=1, Index=None, Active=True\n",
            "        Key  : Lower : Body                       : Upper  : Active\n",
            "        None :  -Inf : x2 + 0.3333333333333333*x4 : 1200.0 :   True\n",
            "    OrangeJuice : Size=1, Index=None, Active=True\n",
            "        Key  : Lower : Body                       : Upper  : Active\n",
            "        None :  -Inf : x1 + 0.3333333333333333*x4 : 1600.0 :   True\n",
            "    PineappleJuice : Size=1, Index=None, Active=True\n",
            "        Key  : Lower : Body                       : Upper : Active\n",
            "        None :  -Inf : x3 + 0.3333333333333333*x4 : 800.0 :   True\n",
            "    Ratio : Size=1, Index=None, Active=True\n",
            "        Key  : Lower : Body        : Upper : Active\n",
            "        None :  -Inf : 1.4*x3 - x1 :   0.0 :   True\n",
            "\n",
            "10 Declarations: x1 x2 x3 x4 profit OrangeJuice GrapefruitJuice PineappleJuice GrapeUpper Ratio\n",
            "\n",
            "Profit =  2239.92\n",
            "\n",
            "Decision Variables\n",
            "x1 =  800.0\n",
            "x2 =  400.0\n",
            "x3 =  0.0\n",
            "x4 =  2400.0\n",
            "\n",
            "Constraints\n",
            "OrangeJuice   =  1600.0\n",
            "GrapefruitJuice =  1200.0\n",
            "PineappleJuice =  800.0\n",
            "GrapeUpper   =  -680.0\n",
            "Ratio  =  -800.0\n"
          ]
        }
      ]
    }
  ]
}