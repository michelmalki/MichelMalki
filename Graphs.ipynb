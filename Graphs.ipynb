{
  "nbformat": 4,
  "nbformat_minor": 0,
  "metadata": {
    "colab": {
      "provenance": [],
      "authorship_tag": "ABX9TyOrqL7CmzTpF0zJj6I1FeE1",
      "include_colab_link": true
    },
    "kernelspec": {
      "name": "python3",
      "display_name": "Python 3"
    },
    "language_info": {
      "name": "python"
    }
  },
  "cells": [
    {
      "cell_type": "markdown",
      "metadata": {
        "id": "view-in-github",
        "colab_type": "text"
      },
      "source": [
        "<a href=\"https://colab.research.google.com/github/michelmalki/MichelMalki/blob/main/Graphs.ipynb\" target=\"_parent\"><img src=\"https://colab.research.google.com/assets/colab-badge.svg\" alt=\"Open In Colab\"/></a>"
      ]
    },
    {
      "cell_type": "code",
      "execution_count": 18,
      "metadata": {
        "colab": {
          "base_uri": "https://localhost:8080/"
        },
        "id": "-8JQevILIJEq",
        "outputId": "cfff7dc5-cdca-4120-8ec1-3dd60a89b28c"
      },
      "outputs": [
        {
          "output_type": "execute_result",
          "data": {
            "text/plain": [
              "30"
            ]
          },
          "metadata": {},
          "execution_count": 18
        }
      ],
      "source": [
        "import networkx as nx\n",
        "import matplotlib.pyplot as plt\n",
        "i = 30\n",
        "m = 1\n",
        "F = nx.balanced_tree(i, m, create_using=None)\n",
        "F1= F.number_of_nodes()\n",
        "F2 = F.number_of_edges()\n",
        "F1\n",
        "F2\n"
      ]
    },
    {
      "cell_type": "code",
      "source": [
        "D = nx.spectral_layout(F)\n",
        "fig = plt.figure(1, figsize = (5, 5), dpi = 90)\n",
        "nx.draw(F, D,  node_color = 'red')\n",
        "components = nx.connected_components(F)"
      ],
      "metadata": {
        "colab": {
          "base_uri": "https://localhost:8080/",
          "height": 484
        },
        "id": "e6CvtXzv-9r5",
        "outputId": "d5766d61-192d-4df4-d302-edd287abecdf"
      },
      "execution_count": 19,
      "outputs": [
        {
          "output_type": "display_data",
          "data": {
            "text/plain": [
              "<Figure size 450x450 with 1 Axes>"
            ],
            "image/png": "[encoded data removed]"
          },
          "metadata": {}
        }
      ]
    },
    {
      "cell_type": "code",
      "source": [
        "from random import choice\n",
        "\n",
        "\n",
        "F4 = F.copy()\n",
        "while True:\n",
        "  broken = choice(list(F.nodes))\n",
        "  F.remove_node(broken)\n",
        "  num1 = F.number_of_nodes()\n",
        "  num2 = F.number_of_edges()\n",
        "  print(f'{num1} vertices, down from {F1}')\n",
        "  print(f'{num2} edges, down from {F2}')\n",
        "  component = [ e for e in nx.connected_components(F) ]\n",
        "  if len(component) > 1: # it broke into pieces\n",
        "    break\n",
        "  average = nx.average_shortest_path_length(F)\n",
        "  print(f'Avg distance now at {average:.2f}')"
      ],
      "metadata": {
        "colab": {
          "base_uri": "https://localhost:8080/"
        },
        "id": "2EcGIYjlaYTC",
        "outputId": "dc08431b-f625-4b14-9117-5d44704d0570"
      },
      "execution_count": 20,
      "outputs": [
        {
          "output_type": "stream",
          "name": "stdout",
          "text": [
            "30 vertices, down from 31\n",
            "29 edges, down from 30\n",
            "Avg distance now at 1.93\n",
            "29 vertices, down from 31\n",
            "28 edges, down from 30\n",
            "Avg distance now at 1.93\n",
            "28 vertices, down from 31\n",
            "27 edges, down from 30\n",
            "Avg distance now at 1.93\n",
            "27 vertices, down from 31\n",
            "26 edges, down from 30\n",
            "Avg distance now at 1.93\n",
            "26 vertices, down from 31\n",
            "25 edges, down from 30\n",
            "Avg distance now at 1.92\n",
            "25 vertices, down from 31\n",
            "24 edges, down from 30\n",
            "Avg distance now at 1.92\n",
            "24 vertices, down from 31\n",
            "23 edges, down from 30\n",
            "Avg distance now at 1.92\n",
            "23 vertices, down from 31\n",
            "22 edges, down from 30\n",
            "Avg distance now at 1.91\n",
            "22 vertices, down from 31\n",
            "21 edges, down from 30\n",
            "Avg distance now at 1.91\n",
            "21 vertices, down from 31\n",
            "20 edges, down from 30\n",
            "Avg distance now at 1.90\n",
            "20 vertices, down from 31\n",
            "19 edges, down from 30\n",
            "Avg distance now at 1.90\n",
            "19 vertices, down from 31\n",
            "18 edges, down from 30\n",
            "Avg distance now at 1.89\n",
            "18 vertices, down from 31\n",
            "0 edges, down from 30\n"
          ]
        }
      ]
    },
    {
      "cell_type": "code",
      "source": [
        "import networkx as nx\n",
        "import matplotlib.pyplot as plt\n",
        "n = 20\n",
        "m = 5\n",
        "c =  nx.barbell_graph(n, m, create_using=None)\n",
        "\n",
        "c1 = c.number_of_nodes()\n",
        "c2 = c.number_of_edges()\n",
        "c1\n",
        "c2\n",
        "\n"
      ],
      "metadata": {
        "colab": {
          "base_uri": "https://localhost:8080/"
        },
        "id": "JySaCA9WUstP",
        "outputId": "e4d5d1d9-9ca1-45bb-b1cb-b5511d539308"
      },
      "execution_count": 28,
      "outputs": [
        {
          "output_type": "execute_result",
          "data": {
            "text/plain": [
              "386"
            ]
          },
          "metadata": {},
          "execution_count": 28
        }
      ]
    },
    {
      "cell_type": "code",
      "source": [
        "L = nx.spring_layout(c)\n",
        "fig = plt.figure(1, figsize = (5, 5), dpi = 90)\n",
        "nx.draw(c,  with_labels = True, node_color = 'red')\n",
        "\n",
        "components = nx.connected_components(c)\n",
        "components = nx.connected_components(c)\n",
        "for component in components:\n",
        "    print(component)"
      ],
      "metadata": {
        "colab": {
          "base_uri": "https://localhost:8080/",
          "height": 519
        },
        "id": "SAw6cylo_ftI",
        "outputId": "29d4ca2d-5005-4be0-9035-0b0f083e0052"
      },
      "execution_count": 33,
      "outputs": [
        {
          "output_type": "stream",
          "name": "stdout",
          "text": [
            "{0, 1, 2, 3, 4, 5, 6, 7, 9, 10, 11, 12, 13, 14, 15, 16, 17, 18, 19, 20, 21, 22}\n",
            "{24, 25, 26, 27, 28, 29, 30, 31, 32, 33, 34, 35, 36, 37, 38, 39, 40, 41, 43, 44}\n"
          ]
        },
        {
          "output_type": "display_data",
          "data": {
            "text/plain": [
              "<Figure size 450x450 with 1 Axes>"
            ],
            "image/png": "[encoded data removed]"
          },
          "metadata": {}
        }
      ]
    },
    {
      "cell_type": "code",
      "source": [
        "from random import choice\n",
        "\n",
        "\n",
        "c4 = c.copy() # take a copy for later since we are about to break the original\n",
        "while True:\n",
        "  broken = choice(list(c.nodes))\n",
        "  c.remove_node(broken)\n",
        "  num1 = c.number_of_nodes()\n",
        "  num2 = c.number_of_edges()\n",
        "  print(f'{num1} vertices, down from {c1}')\n",
        "  print(f'{num2} edges, down from {c2}')\n",
        "  component = [ e for e in nx.connected_components(c) ]\n",
        "  if len(component) > 1: # it broke into pieces\n",
        "    break\n",
        "  average = nx.average_shortest_path_length(c)\n",
        "  print(f'Avg distance now at {average:.2f}')"
      ],
      "metadata": {
        "colab": {
          "base_uri": "https://localhost:8080/"
        },
        "id": "QfYqhP_PEff3",
        "outputId": "847da626-b600-43b6-e007-f0c7f9647625"
      },
      "execution_count": 35,
      "outputs": [
        {
          "output_type": "stream",
          "name": "stdout",
          "text": [
            "40 vertices, down from 45\n",
            "327 edges, down from 386\n"
          ]
        }
      ]
    }
  ]
}