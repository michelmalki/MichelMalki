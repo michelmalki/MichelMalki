{
  "nbformat": 4,
  "nbformat_minor": 0,
  "metadata": {
    "colab": {
      "provenance": [],
      "authorship_tag": "ABX9TyPlIXizrXzUWQk6vSQ+ce0/",
      "include_colab_link": true
    },
    "kernelspec": {
      "name": "python3",
      "display_name": "Python 3"
    },
    "language_info": {
      "name": "python"
    }
  },
  "cells": [
    {
      "cell_type": "markdown",
      "metadata": {
        "id": "view-in-github",
        "colab_type": "text"
      },
      "source": [
        "<a href=\"https://colab.research.google.com/github/michelmalki/MichelMalki/blob/main/CCCS_680_Assignment_3_Question_2.ipynb\" target=\"_parent\"><img src=\"https://colab.research.google.com/assets/colab-badge.svg\" alt=\"Open In Colab\"/></a>"
      ]
    },
    {
      "cell_type": "code",
      "execution_count": 1,
      "metadata": {
        "colab": {
          "base_uri": "https://localhost:8080/",
          "height": 931
        },
        "id": "DBuuG057R2GE",
        "outputId": "505f0d31-d0e2-47af-d8c2-ad6316ed20bf"
      },
      "outputs": [
        {
          "output_type": "stream",
          "name": "stdout",
          "text": [
            "\u001b[33m\r0% [Working]\u001b[0m\r            \rGet:1 https://cloud.r-project.org/bin/linux/ubuntu jammy-cran40/ InRelease [3,626 B]\n",
            "Get:2 https://developer.download.nvidia.com/compute/cuda/repos/ubuntu2204/x86_64  InRelease [1,581 B]\n",
            "Get:3 http://security.ubuntu.com/ubuntu jammy-security InRelease [129 kB]\n",
            "Ign:4 https://r2u.stat.illinois.edu/ubuntu jammy InRelease\n",
            "Get:5 https://r2u.stat.illinois.edu/ubuntu jammy Release [5,713 B]\n",
            "Hit:6 http://archive.ubuntu.com/ubuntu jammy InRelease\n",
            "Get:7 https://r2u.stat.illinois.edu/ubuntu jammy Release.gpg [793 B]\n",
            "Get:8 http://archive.ubuntu.com/ubuntu jammy-updates InRelease [128 kB]\n",
            "Get:9 https://developer.download.nvidia.com/compute/cuda/repos/ubuntu2204/x86_64  Packages [962 kB]\n",
            "Hit:10 http://archive.ubuntu.com/ubuntu jammy-backports InRelease\n",
            "Get:11 https://r2u.stat.illinois.edu/ubuntu jammy/main amd64 Packages [2,561 kB]\n",
            "Get:12 https://r2u.stat.illinois.edu/ubuntu jammy/main all Packages [8,264 kB]\n",
            "Get:13 http://security.ubuntu.com/ubuntu jammy-security/main amd64 Packages [2,221 kB]\n",
            "Get:14 http://security.ubuntu.com/ubuntu jammy-security/universe amd64 Packages [1,145 kB]\n",
            "Get:15 http://archive.ubuntu.com/ubuntu jammy-updates/universe amd64 Packages [1,435 kB]\n",
            "Get:16 http://archive.ubuntu.com/ubuntu jammy-updates/main amd64 Packages [2,499 kB]\n",
            "Hit:17 https://ppa.launchpadcontent.net/deadsnakes/ppa/ubuntu jammy InRelease\n",
            "Get:18 https://ppa.launchpadcontent.net/graphics-drivers/ppa/ubuntu jammy InRelease [24.3 kB]\n",
            "Hit:19 https://ppa.launchpadcontent.net/ubuntugis/ppa/ubuntu jammy InRelease\n",
            "Get:20 https://ppa.launchpadcontent.net/graphics-drivers/ppa/ubuntu jammy/main amd64 Packages [53.3 kB]\n",
            "Fetched 19.4 MB in 8s (2,362 kB/s)\n",
            "Reading package lists... Done\n",
            "Building dependency tree... Done\n",
            "Reading state information... Done\n",
            "50 packages can be upgraded. Run 'apt list --upgradable' to see them.\n",
            "\u001b[1;33mW: \u001b[0mSkipping acquire of configured file 'main/source/Sources' as repository 'https://r2u.stat.illinois.edu/ubuntu jammy InRelease' does not seem to provide it (sources.list entry misspelt?)\u001b[0m\n",
            "tar: spark-3.5.1-bin-hadoop3.tgz: Cannot open: No such file or directory\n",
            "tar: Error is not recoverable: exiting now\n",
            "Collecting pyspark\n",
            "  Downloading pyspark-3.5.2.tar.gz (317.3 MB)\n",
            "\u001b[2K     \u001b[90m━━━━━━━━━━━━━━━━━━━━━━━━━━━━━━━━━━━━━━━━\u001b[0m \u001b[32m317.3/317.3 MB\u001b[0m \u001b[31m4.9 MB/s\u001b[0m eta \u001b[36m0:00:00\u001b[0m\n",
            "\u001b[?25h  Preparing metadata (setup.py) ... \u001b[?25l\u001b[?25hdone\n",
            "Requirement already satisfied: py4j==0.10.9.7 in /usr/local/lib/python3.10/dist-packages (from pyspark) (0.10.9.7)\n",
            "Building wheels for collected packages: pyspark\n",
            "  Building wheel for pyspark (setup.py) ... \u001b[?25l\u001b[?25hdone\n",
            "  Created wheel for pyspark: filename=pyspark-3.5.2-py2.py3-none-any.whl size=317812365 sha256=7fcf2f170963b1829051047748a7fa56318c583b97af14e3f353a4caeec0e101\n",
            "  Stored in directory: /root/.cache/pip/wheels/34/34/bd/03944534c44b677cd5859f248090daa9fb27b3c8f8e5f49574\n",
            "Successfully built pyspark\n",
            "Installing collected packages: pyspark\n",
            "Successfully installed pyspark-3.5.2\n",
            "Requirement already satisfied: py4j in /usr/local/lib/python3.10/dist-packages (0.10.9.7)\n"
          ]
        },
        {
          "output_type": "execute_result",
          "data": {
            "text/plain": [
              "<pyspark.sql.session.SparkSession at 0x7e0dfe034100>"
            ],
            "text/html": [
              "\n",
              "            <div>\n",
              "                <p><b>SparkSession - in-memory</b></p>\n",
              "                \n",
              "        <div>\n",
              "            <p><b>SparkContext</b></p>\n",
              "\n",
              "            <p><a href=\"http://c0d9f7454038:4040\">Spark UI</a></p>\n",
              "\n",
              "            <dl>\n",
              "              <dt>Version</dt>\n",
              "                <dd><code>v3.5.2</code></dd>\n",
              "              <dt>Master</dt>\n",
              "                <dd><code>local[*]</code></dd>\n",
              "              <dt>AppName</dt>\n",
              "                <dd><code>CCCS 680 Assignment 3 Question 2</code></dd>\n",
              "            </dl>\n",
              "        </div>\n",
              "        \n",
              "            </div>\n",
              "        "
            ]
          },
          "metadata": {},
          "execution_count": 1
        }
      ],
      "source": [
        "!sudo apt update\n",
        "!apt-get install openjdk-8-jdk-headless -qq > /dev/null\n",
        "!wget -q https://dlcdn.apache.org/spark/spark-3.5.1/spark-3.5.1-bin-hadoop3.tgz\n",
        "!tar xf spark-3.5.1-bin-hadoop3.tgz\n",
        "!pip install -q findspark\n",
        "!pip install pyspark\n",
        "!pip install py4j\n",
        "\n",
        "import os\n",
        "import sys\n",
        "\n",
        "\n",
        "import findspark\n",
        "findspark.init()\n",
        "findspark.find()\n",
        "\n",
        "import pyspark\n",
        "\n",
        "from pyspark.sql import DataFrame, SparkSession\n",
        "from typing import List\n",
        "import pyspark.sql.types as T\n",
        "import pyspark.sql.functions as F\n",
        "\n",
        "spark= SparkSession \\\n",
        "       .builder \\\n",
        "       .appName(\"CCCS 680 Assignment 3 Question 2\") \\\n",
        "       .getOrCreate()\n",
        "\n",
        "spark"
      ]
    },
    {
      "cell_type": "code",
      "source": [
        "from google.colab import drive\n",
        "drive.mount('/content/drive', force_remount=True)"
      ],
      "metadata": {
        "colab": {
          "base_uri": "https://localhost:8080/"
        },
        "id": "YtVC97SkR84J",
        "outputId": "01568171-be07-4728-e882-ecfa80ed1549"
      },
      "execution_count": 2,
      "outputs": [
        {
          "output_type": "stream",
          "name": "stdout",
          "text": [
            "Mounted at /content/drive\n"
          ]
        }
      ]
    },
    {
      "cell_type": "code",
      "source": [
        "visitors_df = spark.read.csv('/content/drive/My Drive/CCCS-680 Assignment 3/White_House_Visitor_Records_Requests.csv.gz', inferSchema=True, header=True, sep=',')\n",
        "visitors_df"
      ],
      "metadata": {
        "colab": {
          "base_uri": "https://localhost:8080/"
        },
        "id": "Inp4jdmwUcON",
        "outputId": "a440721a-eab4-47e8-e45f-c1e0fac139f7"
      },
      "execution_count": 3,
      "outputs": [
        {
          "output_type": "execute_result",
          "data": {
            "text/plain": [
              "DataFrame[NAMELAST: string, NAMEFIRST: string, NAMEMID: string, UIN: string, BDGNBR: int, Type of Access: string, TOA: string, POA: string, TOD: string, POD: string, APPT_MADE_DATE: string, APPT_START_DATE: string, APPT_END_DATE: string, APPT_CANCEL_DATE: string, Total_People: int, LAST_UPDATEDBY: string, POST: string, LastEntryDate: string, TERMINAL_SUFFIX: string, visitee_namelast: string, visitee_namefirst: string, MEETING_LOC: string, MEETING_ROOM: string, CALLER_NAME_LAST: string, CALLER_NAME_FIRST: string, CALLER_ROOM: string, Description: string, RELEASE_DATE: string]"
            ]
          },
          "metadata": {},
          "execution_count": 3
        }
      ]
    },
    {
      "cell_type": "code",
      "source": [
        "visitors_df.dtypes"
      ],
      "metadata": {
        "id": "t6xztrjPe5je",
        "outputId": "2b7beb85-0751-412e-ea8f-4ff837a456c8",
        "colab": {
          "base_uri": "https://localhost:8080/"
        }
      },
      "execution_count": 4,
      "outputs": [
        {
          "output_type": "execute_result",
          "data": {
            "text/plain": [
              "[('NAMELAST', 'string'),\n",
              " ('NAMEFIRST', 'string'),\n",
              " ('NAMEMID', 'string'),\n",
              " ('UIN', 'string'),\n",
              " ('BDGNBR', 'int'),\n",
              " ('Type of Access', 'string'),\n",
              " ('TOA', 'string'),\n",
              " ('POA', 'string'),\n",
              " ('TOD', 'string'),\n",
              " ('POD', 'string'),\n",
              " ('APPT_MADE_DATE', 'string'),\n",
              " ('APPT_START_DATE', 'string'),\n",
              " ('APPT_END_DATE', 'string'),\n",
              " ('APPT_CANCEL_DATE', 'string'),\n",
              " ('Total_People', 'int'),\n",
              " ('LAST_UPDATEDBY', 'string'),\n",
              " ('POST', 'string'),\n",
              " ('LastEntryDate', 'string'),\n",
              " ('TERMINAL_SUFFIX', 'string'),\n",
              " ('visitee_namelast', 'string'),\n",
              " ('visitee_namefirst', 'string'),\n",
              " ('MEETING_LOC', 'string'),\n",
              " ('MEETING_ROOM', 'string'),\n",
              " ('CALLER_NAME_LAST', 'string'),\n",
              " ('CALLER_NAME_FIRST', 'string'),\n",
              " ('CALLER_ROOM', 'string'),\n",
              " ('Description', 'string'),\n",
              " ('RELEASE_DATE', 'string')]"
            ]
          },
          "metadata": {},
          "execution_count": 4
        }
      ]
    },
    {
      "cell_type": "code",
      "source": [
        "visitors_df.show()\n"
      ],
      "metadata": {
        "colab": {
          "base_uri": "https://localhost:8080/"
        },
        "id": "Z7TaMmeGWrUI",
        "outputId": "b13e7739-405d-4692-a586-71de26adc77e"
      },
      "execution_count": 5,
      "outputs": [
        {
          "output_type": "stream",
          "name": "stdout",
          "text": [
            "+------------+---------+-------+----+------+--------------+----+----+----+----+--------------+---------------+-------------+----------------+------------+--------------+----+-------------+---------------+----------------+-----------------+-----------+------------+----------------+-----------------+-----------+-----------+--------------------+\n",
            "|    NAMELAST|NAMEFIRST|NAMEMID| UIN|BDGNBR|Type of Access| TOA| POA| TOD| POD|APPT_MADE_DATE|APPT_START_DATE|APPT_END_DATE|APPT_CANCEL_DATE|Total_People|LAST_UPDATEDBY|POST|LastEntryDate|TERMINAL_SUFFIX|visitee_namelast|visitee_namefirst|MEETING_LOC|MEETING_ROOM|CALLER_NAME_LAST|CALLER_NAME_FIRST|CALLER_ROOM|Description|        RELEASE_DATE|\n",
            "+------------+---------+-------+----+------+--------------+----+----+----+----+--------------+---------------+-------------+----------------+------------+--------------+----+-------------+---------------+----------------+-----------------+-----------+------------+----------------+-----------------+-----------+-----------+--------------------+\n",
            "| Adamopoulos|   Stella|   NULL|NULL|  NULL|          NULL|NULL|NULL|NULL|NULL|          NULL|         5/1/15|       5/1/15|            NULL|        NULL|          NULL|NULL|         NULL|           NULL|            NULL|             NULL|        VPR|        NULL|            NULL|             NULL|       NULL|Class Visit|08/28/2015 07:00:...|\n",
            "|     Brosman|   Muriel|   NULL|NULL|  NULL|          NULL|NULL|NULL|NULL|NULL|          NULL|         5/1/15|       5/1/15|            NULL|        NULL|          NULL|NULL|         NULL|           NULL|            NULL|             NULL|        VPR|        NULL|            NULL|             NULL|       NULL|Class Visit|08/28/2015 07:00:...|\n",
            "|   Brumfield|    Avery|   NULL|NULL|  NULL|          NULL|NULL|NULL|NULL|NULL|          NULL|         5/1/15|       5/1/15|            NULL|        NULL|          NULL|NULL|         NULL|           NULL|            NULL|             NULL|        VPR|        NULL|            NULL|             NULL|       NULL|Class Visit|08/28/2015 07:00:...|\n",
            "|     Chipman|Catherine|   NULL|NULL|  NULL|          NULL|NULL|NULL|NULL|NULL|          NULL|         5/1/15|       5/1/15|            NULL|        NULL|          NULL|NULL|         NULL|           NULL|            NULL|             NULL|        VPR|        NULL|            NULL|             NULL|       NULL|Class Visit|08/28/2015 07:00:...|\n",
            "|       Chubb|   Steven|   NULL|NULL|  NULL|          NULL|NULL|NULL|NULL|NULL|          NULL|         5/1/15|       5/1/15|            NULL|        NULL|          NULL|NULL|         NULL|           NULL|            NULL|             NULL|        VPR|        NULL|            NULL|             NULL|       NULL|Class Visit|08/28/2015 07:00:...|\n",
            "|   Colasante|    Lydia|   NULL|NULL|  NULL|          NULL|NULL|NULL|NULL|NULL|          NULL|         5/1/15|       5/1/15|            NULL|        NULL|          NULL|NULL|         NULL|           NULL|            NULL|             NULL|        VPR|        NULL|            NULL|             NULL|       NULL|Class Visit|08/28/2015 07:00:...|\n",
            "|      Conway|    Gavin|   NULL|NULL|  NULL|          NULL|NULL|NULL|NULL|NULL|          NULL|         5/1/15|       5/1/15|            NULL|        NULL|          NULL|NULL|         NULL|           NULL|            NULL|             NULL|        VPR|        NULL|            NULL|             NULL|       NULL|Class Visit|08/28/2015 07:00:...|\n",
            "|         Cox|   Conrad|   NULL|NULL|  NULL|          NULL|NULL|NULL|NULL|NULL|          NULL|         5/1/15|       5/1/15|            NULL|        NULL|          NULL|NULL|         NULL|           NULL|            NULL|             NULL|        VPR|        NULL|            NULL|             NULL|       NULL|Class Visit|08/28/2015 07:00:...|\n",
            "|      Curtis|  Shannon|   NULL|NULL|  NULL|          NULL|NULL|NULL|NULL|NULL|          NULL|         5/1/15|       5/1/15|            NULL|        NULL|          NULL|NULL|         NULL|           NULL|            NULL|             NULL|        VPR|        NULL|            NULL|             NULL|       NULL|Class Visit|08/28/2015 07:00:...|\n",
            "|         Day|  Preston|   NULL|NULL|  NULL|          NULL|NULL|NULL|NULL|NULL|          NULL|         5/1/15|       5/1/15|            NULL|        NULL|          NULL|NULL|         NULL|           NULL|            NULL|             NULL|        VPR|        NULL|            NULL|             NULL|       NULL|Class Visit|08/28/2015 07:00:...|\n",
            "|       Dixon|    Kelly|   NULL|NULL|  NULL|          NULL|NULL|NULL|NULL|NULL|          NULL|         5/1/15|       5/1/15|            NULL|        NULL|          NULL|NULL|         NULL|           NULL|            NULL|             NULL|        VPR|        NULL|            NULL|             NULL|       NULL|    Meeting|08/28/2015 07:00:...|\n",
            "|      duPont|   Victor|   NULL|NULL|  NULL|          NULL|NULL|NULL|NULL|NULL|          NULL|         5/1/15|       5/1/15|            NULL|        NULL|          NULL|NULL|         NULL|           NULL|            NULL|             NULL|        VPR|        NULL|            NULL|             NULL|       NULL|Class Visit|08/28/2015 07:00:...|\n",
            "|Erkenbrecher| Benjamin|   NULL|NULL|  NULL|          NULL|NULL|NULL|NULL|NULL|          NULL|         5/1/15|       5/1/15|            NULL|        NULL|          NULL|NULL|         NULL|           NULL|            NULL|             NULL|        VPR|        NULL|            NULL|             NULL|       NULL|Class Visit|08/28/2015 07:00:...|\n",
            "|       Evans|    Nancy|   NULL|NULL|  NULL|          NULL|NULL|NULL|NULL|NULL|          NULL|         5/1/15|       5/1/15|            NULL|        NULL|          NULL|NULL|         NULL|           NULL|            NULL|             NULL|        VPR|        NULL|            NULL|             NULL|       NULL|Class Visit|08/28/2015 07:00:...|\n",
            "|     Ferrell|   Joshua|   NULL|NULL|  NULL|          NULL|NULL|NULL|NULL|NULL|          NULL|         5/1/15|       5/1/15|            NULL|        NULL|          NULL|NULL|         NULL|           NULL|            NULL|             NULL|        VPR|        NULL|            NULL|             NULL|       NULL|Class Visit|08/28/2015 07:00:...|\n",
            "|      Finlay|  Jasmine|   NULL|NULL|  NULL|          NULL|NULL|NULL|NULL|NULL|          NULL|         5/1/15|       5/1/15|            NULL|        NULL|          NULL|NULL|         NULL|           NULL|            NULL|             NULL|        VPR|        NULL|            NULL|             NULL|       NULL|Class Visit|08/28/2015 07:00:...|\n",
            "|       Green|   Joshua|   NULL|NULL|  NULL|          NULL|NULL|NULL|NULL|NULL|          NULL|         5/1/15|       5/1/15|            NULL|        NULL|          NULL|NULL|         NULL|           NULL|            NULL|             NULL|        VPR|        NULL|            NULL|             NULL|       NULL|Class Visit|08/28/2015 07:00:...|\n",
            "|       Green|  Michael|   NULL|NULL|  NULL|          NULL|NULL|NULL|NULL|NULL|          NULL|         5/1/15|       5/1/15|            NULL|        NULL|          NULL|NULL|         NULL|           NULL|            NULL|             NULL|        VPR|        NULL|            NULL|             NULL|       NULL|Class Visit|08/28/2015 07:00:...|\n",
            "|      Hardin|     Luke|   NULL|NULL|  NULL|          NULL|NULL|NULL|NULL|NULL|          NULL|         5/1/15|       5/1/15|            NULL|        NULL|          NULL|NULL|         NULL|           NULL|            NULL|             NULL|        VPR|        NULL|            NULL|             NULL|       NULL|Class Visit|08/28/2015 07:00:...|\n",
            "|       Homer|  Jeffrey|   NULL|NULL|  NULL|          NULL|NULL|NULL|NULL|NULL|          NULL|         5/1/15|       5/1/15|            NULL|        NULL|          NULL|NULL|         NULL|           NULL|            NULL|             NULL|        VPR|        NULL|            NULL|             NULL|       NULL|Class Visit|08/28/2015 07:00:...|\n",
            "+------------+---------+-------+----+------+--------------+----+----+----+----+--------------+---------------+-------------+----------------+------------+--------------+----+-------------+---------------+----------------+-----------------+-----------+------------+----------------+-----------------+-----------+-----------+--------------------+\n",
            "only showing top 20 rows\n",
            "\n"
          ]
        }
      ]
    },
    {
      "cell_type": "code",
      "source": [
        "visitors_df.select(\"NAMEFIRST\",\"NAMELAST\").show(3)"
      ],
      "metadata": {
        "id": "6lyFV_ZoB4QH",
        "outputId": "24ef93df-0dc8-4eb8-d16b-dff18241d49d",
        "colab": {
          "base_uri": "https://localhost:8080/"
        }
      },
      "execution_count": 6,
      "outputs": [
        {
          "output_type": "stream",
          "name": "stdout",
          "text": [
            "+---------+-----------+\n",
            "|NAMEFIRST|   NAMELAST|\n",
            "+---------+-----------+\n",
            "|   Stella|Adamopoulos|\n",
            "|   Muriel|    Brosman|\n",
            "|    Avery|  Brumfield|\n",
            "+---------+-----------+\n",
            "only showing top 3 rows\n",
            "\n"
          ]
        }
      ]
    },
    {
      "cell_type": "code",
      "source": [
        "from pyspark.sql.functions import countDistinct\n",
        "visitors_df.select(countDistinct('RELEASE_DATE')).show()\n",
        "visitors_df.groupBy(\"RELEASE_DATE\").count().show()\n"
      ],
      "metadata": {
        "id": "R9wxQhokzxFL",
        "outputId": "6daa00bc-474f-4e7a-883f-62b7a582bfec",
        "colab": {
          "base_uri": "https://localhost:8080/"
        }
      },
      "execution_count": null,
      "outputs": [
        {
          "output_type": "stream",
          "name": "stdout",
          "text": [
            "+----------------------------+\n",
            "|count(DISTINCT RELEASE_DATE)|\n",
            "+----------------------------+\n",
            "|                          60|\n",
            "+----------------------------+\n",
            "\n",
            "+--------------------+-----+\n",
            "|        RELEASE_DATE|count|\n",
            "+--------------------+-----+\n",
            "|03/30/2012 07:00:...|  264|\n",
            "|07/29/2011 07:00:...|   34|\n",
            "|12/30/2011 08:00:...|    4|\n",
            "|06/27/2014 07:00:...|    2|\n",
            "|07/26/2013 07:00:...|   16|\n",
            "|10/28/2011 07:00:...|    6|\n",
            "|10/30/2009 07:00:...|    3|\n",
            "|02/24/2012 08:00:...|    1|\n",
            "|04/30/2010 07:00:...|  115|\n",
            "|                NULL|    1|\n",
            "|07/27/2012 07:00:...|   72|\n",
            "|12/28/2012 08:00:...|  116|\n",
            "|11/29/2013 08:00:...|    5|\n",
            "|03/25/2011 07:00:...|    6|\n",
            "|08/26/2011 07:00:...|    5|\n",
            "|09/26/2014 07:00:...|    2|\n",
            "|06/24/2011 07:00:...|    1|\n",
            "|05/28/2010 07:00:...|   23|\n",
            "|11/25/2009 08:00:...|    5|\n",
            "|04/26/2013 07:00:...|    6|\n",
            "+--------------------+-----+\n",
            "only showing top 20 rows\n",
            "\n"
          ]
        }
      ]
    },
    {
      "source": [
        "from pyspark.sql.functions import countDistinct\n",
        "visitors_df.select(countDistinct(\"Description\"))\n",
        "visitors_df.groupBy(\"Description\").count().show()\n"
      ],
      "cell_type": "code",
      "metadata": {
        "id": "ZtK7F1bjQhDc",
        "outputId": "5c899d03-427a-4b26-c48c-99ed8bdd1585",
        "colab": {
          "base_uri": "https://localhost:8080/"
        }
      },
      "execution_count": null,
      "outputs": [
        {
          "output_type": "stream",
          "name": "stdout",
          "text": [
            "+--------------------+-----+\n",
            "|         Description|count|\n",
            "+--------------------+-----+\n",
            "|   HOLIDAY RECEPTION|  241|\n",
            "|THIS IS A 20 PERS...|   20|\n",
            "|WH MENTORING PROG...|   47|\n",
            "|Susan J. Komen Re...|   54|\n",
            "|MEETING WITH DEPU...|    2|\n",
            "|USO Event with Dr...|    2|\n",
            "| NEW SENATORS DINNER|    1|\n",
            "|                Tour|    1|\n",
            "|TOUR (UNDER BRYAN...|    5|\n",
            "|              TOURS | 4616|\n",
            "|             TOURS./| 3685|\n",
            "|           Staff BBQ|   33|\n",
            "|ST. PATRICK'S DAY...|    1|\n",
            "|Hispanic Heritage...|   30|\n",
            "|Breakfast in hono...|    3|\n",
            "|           WH MESS**|    4|\n",
            "|            WW TOURS|   17|\n",
            "|       STATE ARRIVAL| 2116|\n",
            "|THIS IS FOR A WES...|    3|\n",
            "|WHITE HOUSE LIAIS...|   35|\n",
            "+--------------------+-----+\n",
            "only showing top 20 rows\n",
            "\n"
          ]
        }
      ]
    },
    {
      "cell_type": "markdown",
      "source": [
        "# 2.A\n",
        "The 5 most frequent visitors (NAMELAST, NAMEFIRST, NAMEMID) to the\n",
        "White House."
      ],
      "metadata": {
        "id": "cGNKP_LAlpe6"
      }
    },
    {
      "cell_type": "code",
      "source": [
        "spark = SparkSession.builder.appName(\"WhiteHouseTopVisitors\").getOrCreate()\n",
        "visitors_df = visitors_df.na.fill(\" \", subset=[\"NAMEMID\"])\n",
        "visitors_df = visitors_df.select(visitors_df.NAMELAST, visitors_df.NAMEFIRST, visitors_df.NAMEMID)\n",
        "visitor_counts = visitors_df.groupBy(\"NAMELAST\",\"NAMEFIRST\",\"NAMEMID\").count()\n",
        "top_visitors = visitor_counts.orderBy(visitor_counts[\"count\"].desc()).limit(5)\n",
        "top_visitors.show()"
      ],
      "metadata": {
        "colab": {
          "base_uri": "https://localhost:8080/"
        },
        "id": "HN_RAK38Xca_",
        "outputId": "160436b8-ff57-4b5f-8d4e-88d570053d91"
      },
      "execution_count": null,
      "outputs": [
        {
          "output_type": "stream",
          "name": "stdout",
          "text": [
            "+--------+---------+-------+-----+\n",
            "|NAMELAST|NAMEFIRST|NAMEMID|count|\n",
            "+--------+---------+-------+-----+\n",
            "|  DEMEKE|    MARIA|       |   41|\n",
            "| NEUFELD|     ADAM|       |   36|\n",
            "|     KIM|      HUN|      S|   30|\n",
            "|   MILBY|    SARAH|       |   25|\n",
            "|  WIDGER|      ANN|       |   25|\n",
            "+--------+---------+-------+-----+\n",
            "\n"
          ]
        }
      ]
    },
    {
      "cell_type": "markdown",
      "source": [
        "# 2.B\n",
        "The 5 most frequently visited people (VISITEE_NAMELAST, VISITEE_NAMEFIRST)\n",
        "in the White House"
      ],
      "metadata": {
        "id": "iW8mfb2k_Xmj"
      }
    },
    {
      "cell_type": "code",
      "source": [
        "visitors_df = visitors_df.withColumnRenamed(\"NAMELAST\", 'VISITEE_NAMELAST')\n",
        "visitors_df = visitors_df.withColumnRenamed(\"NAMEFIRST\",'VISITEE_NAMEFIRST')\n",
        "\n",
        "visitors_df = visitors_df.select(visitors_df.VISITEE_NAMELAST, visitors_df.VISITEE_NAMEFIRST)\n",
        "visitor_counts = visitors_df.groupBy(\"VISITEE_NAMELAST\",\"VISITEE_NAMEFIRST\").count()\n",
        "top_visitors = visitor_counts.orderBy(visitor_counts[\"count\"].desc()).limit(5)\n",
        "top_visitors.show()\n"
      ],
      "metadata": {
        "id": "gFBd2Ydo8mor",
        "outputId": "f047b059-e68b-4cd3-d575-c4124a3453cf",
        "colab": {
          "base_uri": "https://localhost:8080/"
        }
      },
      "execution_count": null,
      "outputs": [
        {
          "output_type": "stream",
          "name": "stdout",
          "text": [
            "+----------------+-----------------+-----+\n",
            "|VISITEE_NAMELAST|VISITEE_NAMEFIRST|count|\n",
            "+----------------+-----------------+-----+\n",
            "|           MIRZA|             ASMA|   48|\n",
            "|         NEUFELD|             ADAM|   43|\n",
            "|          DEMEKE|            MARIA|   43|\n",
            "|       CHILDRESS|             MARK|   39|\n",
            "|         LAMBREW|           JEANNE|   36|\n",
            "+----------------+-----------------+-----+\n",
            "\n"
          ]
        }
      ]
    },
    {
      "cell_type": "markdown",
      "source": [
        "# 3.B\n",
        "The 5 most frequent visitor-visitee combinations"
      ],
      "metadata": {
        "id": "FHlhCGjCJA5v"
      }
    },
    {
      "source": [
        "from pyspark.sql import SparkSession\n",
        "from pyspark.sql.functions import col, desc\n",
        "spark = SparkSession.builder.appName(\"WhiteHouseVisitorVisitee\").getOrCreate()\n",
        "combination = df.select(\"NAMELAST\", \"NAMEMID\", \"NAMEFIRST\", \"VISITEE_NAMELAST\", \"VISITEE_NAMEFIRST\")\\\n",
        ".groupBy(\"NAMELAST\", \"NAMEMID\", \"NAMEFIRST\",\"VISITEE_NAMELAST\",\"VISITEE_NAMEFIRST\")\n",
        "combination.count().orderBy(\"count\", ascending=False).show(5)"
      ],
      "cell_type": "code",
      "metadata": {
        "id": "0wSHOO8uFy8X",
        "outputId": "c5f8dd7d-7a6c-4472-824e-e5223bd77ebc",
        "colab": {
          "base_uri": "https://localhost:8080/"
        }
      },
      "execution_count": null,
      "outputs": [
        {
          "output_type": "stream",
          "name": "stdout",
          "text": [
            "+--------+-------+---------+----------------+-----------------+-----+\n",
            "|NAMELAST|NAMEMID|NAMEFIRST|VISITEE_NAMELAST|VISITEE_NAMEFIRST|count|\n",
            "+--------+-------+---------+----------------+-----------------+-----+\n",
            "|     KIM|      S|      HUN|          KUNDRA|            VIVEK|   22|\n",
            "|  DEMEKE|   NULL|    MARIA|          BUSSOW|             MARK|   21|\n",
            "|   YODER|   NULL|     RYAN|          SAHENE|              JR.|   19|\n",
            "|  HARDIE|      D|     IRIS|          KUNDRA|            VIVEK|   18|\n",
            "|  DEMEKE|   NULL|    MARIA|        WILLIAMS|            DEBRA|   17|\n",
            "+--------+-------+---------+----------------+-----------------+-----+\n",
            "only showing top 5 rows\n",
            "\n"
          ]
        }
      ]
    }
  ]
}