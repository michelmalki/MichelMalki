{
  "nbformat": 4,
  "nbformat_minor": 0,
  "metadata": {
    "colab": {
      "provenance": [],
      "authorship_tag": "ABX9TyMA1QRf0iJsXCtOKj5KwuvZ",
      "include_colab_link": true
    },
    "kernelspec": {
      "name": "python3",
      "display_name": "Python 3"
    },
    "language_info": {
      "name": "python"
    }
  },
  "cells": [
    {
      "cell_type": "markdown",
      "metadata": {
        "id": "view-in-github",
        "colab_type": "text"
      },
      "source": [
        "<a href=\"https://colab.research.google.com/github/michelmalki/MichelMalki/blob/main/CCCS_680_Assignment_3_Question_2.ipynb\" target=\"_parent\"><img src=\"https://colab.research.google.com/assets/colab-badge.svg\" alt=\"Open In Colab\"/></a>"
      ]
    },
    {
      "cell_type": "code",
      "execution_count": 84,
      "metadata": {
        "colab": {
          "base_uri": "https://localhost:8080/",
          "height": 607
        },
        "id": "DBuuG057R2GE",
        "outputId": "196d5cff-eb40-4374-d913-a17bf7e11f76"
      },
      "outputs": [
        {
          "output_type": "stream",
          "name": "stdout",
          "text": [
            "\u001b[33m\r0% [Working]\u001b[0m\r            \rGet:1 https://cloud.r-project.org/bin/linux/ubuntu jammy-cran40/ InRelease [3,626 B]\n",
            "\u001b[33m\r0% [Connecting to archive.ubuntu.com (185.125.190.83)] [Waiting for headers] [1\u001b[0m\u001b[33m\r0% [Connecting to archive.ubuntu.com (185.125.190.83)] [Waiting for headers] [W\u001b[0m\r                                                                               \rHit:2 https://developer.download.nvidia.com/compute/cuda/repos/ubuntu2204/x86_64  InRelease\n",
            "Hit:3 http://security.ubuntu.com/ubuntu jammy-security InRelease\n",
            "Ign:4 https://r2u.stat.illinois.edu/ubuntu jammy InRelease\n",
            "Hit:5 http://archive.ubuntu.com/ubuntu jammy InRelease\n",
            "Hit:6 https://r2u.stat.illinois.edu/ubuntu jammy Release\n",
            "Hit:7 http://archive.ubuntu.com/ubuntu jammy-updates InRelease\n",
            "Hit:8 http://archive.ubuntu.com/ubuntu jammy-backports InRelease\n",
            "Hit:9 https://ppa.launchpadcontent.net/deadsnakes/ppa/ubuntu jammy InRelease\n",
            "Hit:10 https://ppa.launchpadcontent.net/graphics-drivers/ppa/ubuntu jammy InRelease\n",
            "Hit:11 https://ppa.launchpadcontent.net/ubuntugis/ppa/ubuntu jammy InRelease\n",
            "Fetched 3,626 B in 2s (2,058 B/s)\n",
            "Reading package lists... Done\n",
            "Building dependency tree... Done\n",
            "Reading state information... Done\n",
            "48 packages can be upgraded. Run 'apt list --upgradable' to see them.\n",
            "\u001b[1;33mW: \u001b[0mSkipping acquire of configured file 'main/source/Sources' as repository 'https://r2u.stat.illinois.edu/ubuntu jammy InRelease' does not seem to provide it (sources.list entry misspelt?)\u001b[0m\n",
            "Requirement already satisfied: pyspark in /usr/local/lib/python3.10/dist-packages (3.5.1)\n",
            "Requirement already satisfied: py4j==0.10.9.7 in /usr/local/lib/python3.10/dist-packages (from pyspark) (0.10.9.7)\n",
            "Requirement already satisfied: py4j in /usr/local/lib/python3.10/dist-packages (0.10.9.7)\n"
          ]
        },
        {
          "output_type": "execute_result",
          "data": {
            "text/plain": [
              "<pyspark.sql.session.SparkSession at 0x79af2313a200>"
            ],
            "text/html": [
              "\n",
              "            <div>\n",
              "                <p><b>SparkSession - in-memory</b></p>\n",
              "                \n",
              "        <div>\n",
              "            <p><b>SparkContext</b></p>\n",
              "\n",
              "            <p><a href=\"http://9637bd3a871e:4040\">Spark UI</a></p>\n",
              "\n",
              "            <dl>\n",
              "              <dt>Version</dt>\n",
              "                <dd><code>v3.5.1</code></dd>\n",
              "              <dt>Master</dt>\n",
              "                <dd><code>local[*]</code></dd>\n",
              "              <dt>AppName</dt>\n",
              "                <dd><code>WhiteHouseTopVisitors</code></dd>\n",
              "            </dl>\n",
              "        </div>\n",
              "        \n",
              "            </div>\n",
              "        "
            ]
          },
          "metadata": {},
          "execution_count": 84
        }
      ],
      "source": [
        "!sudo apt update\n",
        "!apt-get install openjdk-8-jdk-headless -qq > /dev/null\n",
        "!wget -q https://dlcdn.apache.org/spark/spark-3.5.1/spark-3.5.1-bin-hadoop3.tgz\n",
        "!tar xf spark-3.5.1-bin-hadoop3.tgz\n",
        "!pip install -q findspark\n",
        "!pip install pyspark\n",
        "!pip install py4j\n",
        "\n",
        "import os\n",
        "import sys\n",
        "\n",
        "\n",
        "import findspark\n",
        "findspark.init()\n",
        "findspark.find()\n",
        "\n",
        "import pyspark\n",
        "\n",
        "from pyspark.sql import DataFrame, SparkSession\n",
        "from typing import List\n",
        "import pyspark.sql.types as T\n",
        "import pyspark.sql.functions as F\n",
        "\n",
        "spark= SparkSession \\\n",
        "       .builder \\\n",
        "       .appName(\"CCCS 680 Assignment 3 Question 2\") \\\n",
        "       .getOrCreate()\n",
        "\n",
        "spark"
      ]
    },
    {
      "cell_type": "code",
      "source": [
        "from google.colab import drive\n",
        "drive.mount('/content/drive', force_remount=True)"
      ],
      "metadata": {
        "colab": {
          "base_uri": "https://localhost:8080/"
        },
        "id": "YtVC97SkR84J",
        "outputId": "32c380c4-2bc4-4cc8-fef4-9c43940e3047"
      },
      "execution_count": 85,
      "outputs": [
        {
          "output_type": "stream",
          "name": "stdout",
          "text": [
            "Mounted at /content/drive\n"
          ]
        }
      ]
    },
    {
      "cell_type": "code",
      "source": [
        "visitors_df = spark.read.csv('/content/drive/My Drive/CCCS-680 Assignment 3/White_House_Visitor_Records_Requests.csv.gz', inferSchema=True, header=True, sep=',')\n",
        "visitors_df"
      ],
      "metadata": {
        "colab": {
          "base_uri": "https://localhost:8080/"
        },
        "id": "Inp4jdmwUcON",
        "outputId": "6771adb8-efc0-44b4-8a6f-e59ef42e7847"
      },
      "execution_count": 88,
      "outputs": [
        {
          "output_type": "execute_result",
          "data": {
            "text/plain": [
              "DataFrame[NAMELAST: string, NAMEFIRST: string, NAMEMID: string, UIN: string, BDGNBR: int, Type of Access: string, TOA: string, POA: string, TOD: string, POD: string, APPT_MADE_DATE: string, APPT_START_DATE: string, APPT_END_DATE: string, APPT_CANCEL_DATE: string, Total_People: int, LAST_UPDATEDBY: string, POST: string, LastEntryDate: string, TERMINAL_SUFFIX: string, visitee_namelast: string, visitee_namefirst: string, MEETING_LOC: string, MEETING_ROOM: string, CALLER_NAME_LAST: string, CALLER_NAME_FIRST: string, CALLER_ROOM: string, Description: string, RELEASE_DATE: string]"
            ]
          },
          "metadata": {},
          "execution_count": 88
        }
      ]
    },
    {
      "cell_type": "code",
      "source": [
        "visitors_df.show()"
      ],
      "metadata": {
        "colab": {
          "base_uri": "https://localhost:8080/"
        },
        "id": "Z7TaMmeGWrUI",
        "outputId": "a4cab282-e377-425d-8990-86fb99df5c5e"
      },
      "execution_count": 89,
      "outputs": [
        {
          "output_type": "stream",
          "name": "stdout",
          "text": [
            "+------------+---------+-------+----+------+--------------+----+----+----+----+--------------+---------------+-------------+----------------+------------+--------------+----+-------------+---------------+----------------+-----------------+-----------+------------+----------------+-----------------+-----------+-----------+--------------------+\n",
            "|    NAMELAST|NAMEFIRST|NAMEMID| UIN|BDGNBR|Type of Access| TOA| POA| TOD| POD|APPT_MADE_DATE|APPT_START_DATE|APPT_END_DATE|APPT_CANCEL_DATE|Total_People|LAST_UPDATEDBY|POST|LastEntryDate|TERMINAL_SUFFIX|visitee_namelast|visitee_namefirst|MEETING_LOC|MEETING_ROOM|CALLER_NAME_LAST|CALLER_NAME_FIRST|CALLER_ROOM|Description|        RELEASE_DATE|\n",
            "+------------+---------+-------+----+------+--------------+----+----+----+----+--------------+---------------+-------------+----------------+------------+--------------+----+-------------+---------------+----------------+-----------------+-----------+------------+----------------+-----------------+-----------+-----------+--------------------+\n",
            "| Adamopoulos|   Stella|   NULL|NULL|  NULL|          NULL|NULL|NULL|NULL|NULL|          NULL|         5/1/15|       5/1/15|            NULL|        NULL|          NULL|NULL|         NULL|           NULL|            NULL|             NULL|        VPR|        NULL|            NULL|             NULL|       NULL|Class Visit|08/28/2015 07:00:...|\n",
            "|     Brosman|   Muriel|   NULL|NULL|  NULL|          NULL|NULL|NULL|NULL|NULL|          NULL|         5/1/15|       5/1/15|            NULL|        NULL|          NULL|NULL|         NULL|           NULL|            NULL|             NULL|        VPR|        NULL|            NULL|             NULL|       NULL|Class Visit|08/28/2015 07:00:...|\n",
            "|   Brumfield|    Avery|   NULL|NULL|  NULL|          NULL|NULL|NULL|NULL|NULL|          NULL|         5/1/15|       5/1/15|            NULL|        NULL|          NULL|NULL|         NULL|           NULL|            NULL|             NULL|        VPR|        NULL|            NULL|             NULL|       NULL|Class Visit|08/28/2015 07:00:...|\n",
            "|     Chipman|Catherine|   NULL|NULL|  NULL|          NULL|NULL|NULL|NULL|NULL|          NULL|         5/1/15|       5/1/15|            NULL|        NULL|          NULL|NULL|         NULL|           NULL|            NULL|             NULL|        VPR|        NULL|            NULL|             NULL|       NULL|Class Visit|08/28/2015 07:00:...|\n",
            "|       Chubb|   Steven|   NULL|NULL|  NULL|          NULL|NULL|NULL|NULL|NULL|          NULL|         5/1/15|       5/1/15|            NULL|        NULL|          NULL|NULL|         NULL|           NULL|            NULL|             NULL|        VPR|        NULL|            NULL|             NULL|       NULL|Class Visit|08/28/2015 07:00:...|\n",
            "|   Colasante|    Lydia|   NULL|NULL|  NULL|          NULL|NULL|NULL|NULL|NULL|          NULL|         5/1/15|       5/1/15|            NULL|        NULL|          NULL|NULL|         NULL|           NULL|            NULL|             NULL|        VPR|        NULL|            NULL|             NULL|       NULL|Class Visit|08/28/2015 07:00:...|\n",
            "|      Conway|    Gavin|   NULL|NULL|  NULL|          NULL|NULL|NULL|NULL|NULL|          NULL|         5/1/15|       5/1/15|            NULL|        NULL|          NULL|NULL|         NULL|           NULL|            NULL|             NULL|        VPR|        NULL|            NULL|             NULL|       NULL|Class Visit|08/28/2015 07:00:...|\n",
            "|         Cox|   Conrad|   NULL|NULL|  NULL|          NULL|NULL|NULL|NULL|NULL|          NULL|         5/1/15|       5/1/15|            NULL|        NULL|          NULL|NULL|         NULL|           NULL|            NULL|             NULL|        VPR|        NULL|            NULL|             NULL|       NULL|Class Visit|08/28/2015 07:00:...|\n",
            "|      Curtis|  Shannon|   NULL|NULL|  NULL|          NULL|NULL|NULL|NULL|NULL|          NULL|         5/1/15|       5/1/15|            NULL|        NULL|          NULL|NULL|         NULL|           NULL|            NULL|             NULL|        VPR|        NULL|            NULL|             NULL|       NULL|Class Visit|08/28/2015 07:00:...|\n",
            "|         Day|  Preston|   NULL|NULL|  NULL|          NULL|NULL|NULL|NULL|NULL|          NULL|         5/1/15|       5/1/15|            NULL|        NULL|          NULL|NULL|         NULL|           NULL|            NULL|             NULL|        VPR|        NULL|            NULL|             NULL|       NULL|Class Visit|08/28/2015 07:00:...|\n",
            "|       Dixon|    Kelly|   NULL|NULL|  NULL|          NULL|NULL|NULL|NULL|NULL|          NULL|         5/1/15|       5/1/15|            NULL|        NULL|          NULL|NULL|         NULL|           NULL|            NULL|             NULL|        VPR|        NULL|            NULL|             NULL|       NULL|    Meeting|08/28/2015 07:00:...|\n",
            "|      duPont|   Victor|   NULL|NULL|  NULL|          NULL|NULL|NULL|NULL|NULL|          NULL|         5/1/15|       5/1/15|            NULL|        NULL|          NULL|NULL|         NULL|           NULL|            NULL|             NULL|        VPR|        NULL|            NULL|             NULL|       NULL|Class Visit|08/28/2015 07:00:...|\n",
            "|Erkenbrecher| Benjamin|   NULL|NULL|  NULL|          NULL|NULL|NULL|NULL|NULL|          NULL|         5/1/15|       5/1/15|            NULL|        NULL|          NULL|NULL|         NULL|           NULL|            NULL|             NULL|        VPR|        NULL|            NULL|             NULL|       NULL|Class Visit|08/28/2015 07:00:...|\n",
            "|       Evans|    Nancy|   NULL|NULL|  NULL|          NULL|NULL|NULL|NULL|NULL|          NULL|         5/1/15|       5/1/15|            NULL|        NULL|          NULL|NULL|         NULL|           NULL|            NULL|             NULL|        VPR|        NULL|            NULL|             NULL|       NULL|Class Visit|08/28/2015 07:00:...|\n",
            "|     Ferrell|   Joshua|   NULL|NULL|  NULL|          NULL|NULL|NULL|NULL|NULL|          NULL|         5/1/15|       5/1/15|            NULL|        NULL|          NULL|NULL|         NULL|           NULL|            NULL|             NULL|        VPR|        NULL|            NULL|             NULL|       NULL|Class Visit|08/28/2015 07:00:...|\n",
            "|      Finlay|  Jasmine|   NULL|NULL|  NULL|          NULL|NULL|NULL|NULL|NULL|          NULL|         5/1/15|       5/1/15|            NULL|        NULL|          NULL|NULL|         NULL|           NULL|            NULL|             NULL|        VPR|        NULL|            NULL|             NULL|       NULL|Class Visit|08/28/2015 07:00:...|\n",
            "|       Green|   Joshua|   NULL|NULL|  NULL|          NULL|NULL|NULL|NULL|NULL|          NULL|         5/1/15|       5/1/15|            NULL|        NULL|          NULL|NULL|         NULL|           NULL|            NULL|             NULL|        VPR|        NULL|            NULL|             NULL|       NULL|Class Visit|08/28/2015 07:00:...|\n",
            "|       Green|  Michael|   NULL|NULL|  NULL|          NULL|NULL|NULL|NULL|NULL|          NULL|         5/1/15|       5/1/15|            NULL|        NULL|          NULL|NULL|         NULL|           NULL|            NULL|             NULL|        VPR|        NULL|            NULL|             NULL|       NULL|Class Visit|08/28/2015 07:00:...|\n",
            "|      Hardin|     Luke|   NULL|NULL|  NULL|          NULL|NULL|NULL|NULL|NULL|          NULL|         5/1/15|       5/1/15|            NULL|        NULL|          NULL|NULL|         NULL|           NULL|            NULL|             NULL|        VPR|        NULL|            NULL|             NULL|       NULL|Class Visit|08/28/2015 07:00:...|\n",
            "|       Homer|  Jeffrey|   NULL|NULL|  NULL|          NULL|NULL|NULL|NULL|NULL|          NULL|         5/1/15|       5/1/15|            NULL|        NULL|          NULL|NULL|         NULL|           NULL|            NULL|             NULL|        VPR|        NULL|            NULL|             NULL|       NULL|Class Visit|08/28/2015 07:00:...|\n",
            "+------------+---------+-------+----+------+--------------+----+----+----+----+--------------+---------------+-------------+----------------+------------+--------------+----+-------------+---------------+----------------+-----------------+-----------+------------+----------------+-----------------+-----------+-----------+--------------------+\n",
            "only showing top 20 rows\n",
            "\n"
          ]
        }
      ]
    },
    {
      "cell_type": "markdown",
      "source": [
        "# 2.A\n",
        "The 5 most frequent visitors (NAMELAST, NAMEFIRST, NAMEMID) to the\n",
        "White House."
      ],
      "metadata": {
        "id": "cGNKP_LAlpe6"
      }
    },
    {
      "cell_type": "code",
      "source": [
        "spark = SparkSession.builder.appName(\"WhiteHouseTopVisitors\").getOrCreate()\n",
        "visitors_df = visitors_df.na.fill(\" \", subset=[\"NAMEMID\"])\n",
        "visitors_df = visitors_df.select(visitors_df.NAMELAST, visitors_df.NAMEFIRST, visitors_df.NAMEMID)\n",
        "visitor_counts = visitors_df.groupBy(\"NAMELAST\",\"NAMEFIRST\",\"NAMEMID\").count()\n",
        "top_visitors = visitor_counts.orderBy(visitor_counts[\"count\"].desc()).limit(5)\n",
        "top_visitors.show()"
      ],
      "metadata": {
        "colab": {
          "base_uri": "https://localhost:8080/"
        },
        "id": "HN_RAK38Xca_",
        "outputId": "47dac1e2-8cf4-4369-caf7-028d085680d4"
      },
      "execution_count": 90,
      "outputs": [
        {
          "output_type": "stream",
          "name": "stdout",
          "text": [
            "+--------+---------+-------+-----+\n",
            "|NAMELAST|NAMEFIRST|NAMEMID|count|\n",
            "+--------+---------+-------+-----+\n",
            "|  DEMEKE|    MARIA|       |   41|\n",
            "| NEUFELD|     ADAM|       |   36|\n",
            "|     KIM|      HUN|      S|   30|\n",
            "|   MILBY|    SARAH|       |   25|\n",
            "|  WIDGER|      ANN|       |   25|\n",
            "+--------+---------+-------+-----+\n",
            "\n"
          ]
        }
      ]
    }
  ]
}