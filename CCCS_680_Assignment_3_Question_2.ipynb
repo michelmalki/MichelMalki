{
  "nbformat": 4,
  "nbformat_minor": 0,
  "metadata": {
    "colab": {
      "provenance": [],
      "authorship_tag": "ABX9TyPDhvWgqJpYZcWjNNntJk6U",
      "include_colab_link": true
    },
    "kernelspec": {
      "name": "python3",
      "display_name": "Python 3"
    },
    "language_info": {
      "name": "python"
    }
  },
  "cells": [
    {
      "cell_type": "markdown",
      "metadata": {
        "id": "view-in-github",
        "colab_type": "text"
      },
      "source": [
        "<a href=\"https://colab.research.google.com/github/michelmalki/MichelMalki/blob/main/CCCS_680_Assignment_3_Question_2.ipynb\" target=\"_parent\"><img src=\"https://colab.research.google.com/assets/colab-badge.svg\" alt=\"Open In Colab\"/></a>"
      ]
    },
    {
      "cell_type": "code",
      "execution_count": 1,
      "metadata": {
        "colab": {
          "base_uri": "https://localhost:8080/",
          "height": 991
        },
        "id": "DBuuG057R2GE",
        "outputId": "bba9d626-3a3d-4b55-ee9a-33a67e4d1e7b"
      },
      "outputs": [
        {
          "output_type": "stream",
          "name": "stdout",
          "text": [
            "Get:1 http://security.ubuntu.com/ubuntu jammy-security InRelease [129 kB]\n",
            "Hit:2 http://archive.ubuntu.com/ubuntu jammy InRelease\n",
            "Get:3 http://archive.ubuntu.com/ubuntu jammy-updates InRelease [128 kB]\n",
            "Get:4 http://archive.ubuntu.com/ubuntu jammy-backports InRelease [127 kB]\n",
            "Get:5 https://developer.download.nvidia.com/compute/cuda/repos/ubuntu2204/x86_64  InRelease [1,581 B]\n",
            "Ign:6 https://r2u.stat.illinois.edu/ubuntu jammy InRelease\n",
            "Get:7 https://cloud.r-project.org/bin/linux/ubuntu jammy-cran40/ InRelease [3,626 B]\n",
            "Get:8 https://r2u.stat.illinois.edu/ubuntu jammy Release [5,713 B]\n",
            "Get:9 https://r2u.stat.illinois.edu/ubuntu jammy Release.gpg [793 B]\n",
            "Hit:10 https://ppa.launchpadcontent.net/deadsnakes/ppa/ubuntu jammy InRelease\n",
            "Hit:11 https://ppa.launchpadcontent.net/graphics-drivers/ppa/ubuntu jammy InRelease\n",
            "Get:12 https://ppa.launchpadcontent.net/ubuntugis/ppa/ubuntu jammy InRelease [24.6 kB]\n",
            "Get:13 http://archive.ubuntu.com/ubuntu jammy-updates/restricted amd64 Packages [2,781 kB]\n",
            "Get:14 http://archive.ubuntu.com/ubuntu jammy-updates/main amd64 Packages [2,329 kB]\n",
            "Get:15 http://archive.ubuntu.com/ubuntu jammy-updates/universe amd64 Packages [1,418 kB]\n",
            "Get:16 http://archive.ubuntu.com/ubuntu jammy-backports/universe amd64 Packages [33.7 kB]\n",
            "Get:17 http://security.ubuntu.com/ubuntu jammy-security/restricted amd64 Packages [2,707 kB]\n",
            "Get:18 http://security.ubuntu.com/ubuntu jammy-security/main amd64 Packages [2,064 kB]\n",
            "Get:19 http://security.ubuntu.com/ubuntu jammy-security/universe amd64 Packages [1,128 kB]\n",
            "Get:20 https://developer.download.nvidia.com/compute/cuda/repos/ubuntu2204/x86_64  Packages [859 kB]\n",
            "Get:21 https://r2u.stat.illinois.edu/ubuntu jammy/main all Packages [8,195 kB]\n",
            "Get:22 https://r2u.stat.illinois.edu/ubuntu jammy/main amd64 Packages [2,547 kB]\n",
            "Fetched 24.5 MB in 10s (2,415 kB/s)\n",
            "Reading package lists... Done\n",
            "Building dependency tree... Done\n",
            "Reading state information... Done\n",
            "49 packages can be upgraded. Run 'apt list --upgradable' to see them.\n",
            "\u001b[1;33mW: \u001b[0mSkipping acquire of configured file 'main/source/Sources' as repository 'https://r2u.stat.illinois.edu/ubuntu jammy InRelease' does not seem to provide it (sources.list entry misspelt?)\u001b[0m\n",
            "Collecting pyspark\n",
            "  Downloading pyspark-3.5.1.tar.gz (317.0 MB)\n",
            "\u001b[2K     \u001b[90m━━━━━━━━━━━━━━━━━━━━━━━━━━━━━━━━━━━━━━━━\u001b[0m \u001b[32m317.0/317.0 MB\u001b[0m \u001b[31m4.3 MB/s\u001b[0m eta \u001b[36m0:00:00\u001b[0m\n",
            "\u001b[?25h  Preparing metadata (setup.py) ... \u001b[?25l\u001b[?25hdone\n",
            "Requirement already satisfied: py4j==0.10.9.7 in /usr/local/lib/python3.10/dist-packages (from pyspark) (0.10.9.7)\n",
            "Building wheels for collected packages: pyspark\n",
            "  Building wheel for pyspark (setup.py) ... \u001b[?25l\u001b[?25hdone\n",
            "  Created wheel for pyspark: filename=pyspark-3.5.1-py2.py3-none-any.whl size=317488491 sha256=3be7f69010e6af8001859a542a1f47370ade53a95d8f7a15121481c6af2a5bc4\n",
            "  Stored in directory: /root/.cache/pip/wheels/80/1d/60/2c256ed38dddce2fdd93be545214a63e02fbd8d74fb0b7f3a6\n",
            "Successfully built pyspark\n",
            "Installing collected packages: pyspark\n",
            "Successfully installed pyspark-3.5.1\n",
            "Requirement already satisfied: py4j in /usr/local/lib/python3.10/dist-packages (0.10.9.7)\n"
          ]
        },
        {
          "output_type": "execute_result",
          "data": {
            "text/plain": [
              "<pyspark.sql.session.SparkSession at 0x7e6a5bd60250>"
            ],
            "text/html": [
              "\n",
              "            <div>\n",
              "                <p><b>SparkSession - in-memory</b></p>\n",
              "                \n",
              "        <div>\n",
              "            <p><b>SparkContext</b></p>\n",
              "\n",
              "            <p><a href=\"http://4063db7eb4b9:4040\">Spark UI</a></p>\n",
              "\n",
              "            <dl>\n",
              "              <dt>Version</dt>\n",
              "                <dd><code>v3.5.1</code></dd>\n",
              "              <dt>Master</dt>\n",
              "                <dd><code>local[*]</code></dd>\n",
              "              <dt>AppName</dt>\n",
              "                <dd><code>CCCS 680 Assignment 3 Question 2</code></dd>\n",
              "            </dl>\n",
              "        </div>\n",
              "        \n",
              "            </div>\n",
              "        "
            ]
          },
          "metadata": {},
          "execution_count": 1
        }
      ],
      "source": [
        "!sudo apt update\n",
        "!apt-get install openjdk-8-jdk-headless -qq > /dev/null\n",
        "!wget -q https://dlcdn.apache.org/spark/spark-3.5.1/spark-3.5.1-bin-hadoop3.tgz\n",
        "!tar xf spark-3.5.1-bin-hadoop3.tgz\n",
        "!pip install -q findspark\n",
        "!pip install pyspark\n",
        "!pip install py4j\n",
        "\n",
        "import os\n",
        "import sys\n",
        "\n",
        "\n",
        "import findspark\n",
        "findspark.init()\n",
        "findspark.find()\n",
        "\n",
        "import pyspark\n",
        "\n",
        "from pyspark.sql import DataFrame, SparkSession\n",
        "from typing import List\n",
        "import pyspark.sql.types as T\n",
        "import pyspark.sql.functions as F\n",
        "\n",
        "spark= SparkSession \\\n",
        "       .builder \\\n",
        "       .appName(\"CCCS 680 Assignment 3 Question 2\") \\\n",
        "       .getOrCreate()\n",
        "\n",
        "spark"
      ]
    },
    {
      "cell_type": "code",
      "source": [
        "from google.colab import drive\n",
        "drive.mount('/content/drive', force_remount=True)"
      ],
      "metadata": {
        "colab": {
          "base_uri": "https://localhost:8080/"
        },
        "id": "YtVC97SkR84J",
        "outputId": "b7aa2300-67fd-408b-8d20-3981fe33d6da"
      },
      "execution_count": 2,
      "outputs": [
        {
          "output_type": "stream",
          "name": "stdout",
          "text": [
            "Mounted at /content/drive\n"
          ]
        }
      ]
    },
    {
      "cell_type": "code",
      "source": [
        "visitors_df = spark.read.csv('/content/drive/My Drive/CCCS-680 Assignment 3/White_House_Visitor_Records_Requests.csv.gz', inferSchema=True, header=True, sep=',')\n",
        "visitors_df"
      ],
      "metadata": {
        "colab": {
          "base_uri": "https://localhost:8080/"
        },
        "id": "Inp4jdmwUcON",
        "outputId": "59242dcc-a9e4-4b43-894e-fb963d8097f4"
      },
      "execution_count": 4,
      "outputs": [
        {
          "output_type": "execute_result",
          "data": {
            "text/plain": [
              "DataFrame[NAMELAST: string, NAMEFIRST: string, NAMEMID: string, UIN: string, BDGNBR: int, Type of Access: string, TOA: string, POA: string, TOD: string, POD: string, APPT_MADE_DATE: string, APPT_START_DATE: string, APPT_END_DATE: string, APPT_CANCEL_DATE: string, Total_People: int, LAST_UPDATEDBY: string, POST: string, LastEntryDate: string, TERMINAL_SUFFIX: string, visitee_namelast: string, visitee_namefirst: string, MEETING_LOC: string, MEETING_ROOM: string, CALLER_NAME_LAST: string, CALLER_NAME_FIRST: string, CALLER_ROOM: string, Description: string, RELEASE_DATE: string]"
            ]
          },
          "metadata": {},
          "execution_count": 4
        }
      ]
    },
    {
      "cell_type": "code",
      "source": [
        "visitors_df.dtypes"
      ],
      "metadata": {
        "id": "t6xztrjPe5je",
        "outputId": "1d0197cd-f651-493c-8132-dd5de00441c2",
        "colab": {
          "base_uri": "https://localhost:8080/"
        }
      },
      "execution_count": 9,
      "outputs": [
        {
          "output_type": "execute_result",
          "data": {
            "text/plain": [
              "[('NAMELAST', 'string'),\n",
              " ('NAMEFIRST', 'string'),\n",
              " ('NAMEMID', 'string'),\n",
              " ('UIN', 'string'),\n",
              " ('BDGNBR', 'int'),\n",
              " ('Type of Access', 'string'),\n",
              " ('TOA', 'string'),\n",
              " ('POA', 'string'),\n",
              " ('TOD', 'string'),\n",
              " ('POD', 'string'),\n",
              " ('APPT_MADE_DATE', 'string'),\n",
              " ('APPT_START_DATE', 'string'),\n",
              " ('APPT_END_DATE', 'string'),\n",
              " ('APPT_CANCEL_DATE', 'string'),\n",
              " ('Total_People', 'int'),\n",
              " ('LAST_UPDATEDBY', 'string'),\n",
              " ('POST', 'string'),\n",
              " ('LastEntryDate', 'string'),\n",
              " ('TERMINAL_SUFFIX', 'string'),\n",
              " ('visitee_namelast', 'string'),\n",
              " ('visitee_namefirst', 'string'),\n",
              " ('MEETING_LOC', 'string'),\n",
              " ('MEETING_ROOM', 'string'),\n",
              " ('CALLER_NAME_LAST', 'string'),\n",
              " ('CALLER_NAME_FIRST', 'string'),\n",
              " ('CALLER_ROOM', 'string'),\n",
              " ('Description', 'string'),\n",
              " ('RELEASE_DATE', 'string')]"
            ]
          },
          "metadata": {},
          "execution_count": 9
        }
      ]
    },
    {
      "cell_type": "code",
      "source": [
        "visitors_df.show()"
      ],
      "metadata": {
        "colab": {
          "base_uri": "https://localhost:8080/"
        },
        "id": "Z7TaMmeGWrUI",
        "outputId": "485b85ae-27c9-423d-b2f7-927532a3838b"
      },
      "execution_count": 5,
      "outputs": [
        {
          "output_type": "stream",
          "name": "stdout",
          "text": [
            "+------------+---------+-------+----+------+--------------+----+----+----+----+--------------+---------------+-------------+----------------+------------+--------------+----+-------------+---------------+----------------+-----------------+-----------+------------+----------------+-----------------+-----------+-----------+--------------------+\n",
            "|    NAMELAST|NAMEFIRST|NAMEMID| UIN|BDGNBR|Type of Access| TOA| POA| TOD| POD|APPT_MADE_DATE|APPT_START_DATE|APPT_END_DATE|APPT_CANCEL_DATE|Total_People|LAST_UPDATEDBY|POST|LastEntryDate|TERMINAL_SUFFIX|visitee_namelast|visitee_namefirst|MEETING_LOC|MEETING_ROOM|CALLER_NAME_LAST|CALLER_NAME_FIRST|CALLER_ROOM|Description|        RELEASE_DATE|\n",
            "+------------+---------+-------+----+------+--------------+----+----+----+----+--------------+---------------+-------------+----------------+------------+--------------+----+-------------+---------------+----------------+-----------------+-----------+------------+----------------+-----------------+-----------+-----------+--------------------+\n",
            "| Adamopoulos|   Stella|   NULL|NULL|  NULL|          NULL|NULL|NULL|NULL|NULL|          NULL|         5/1/15|       5/1/15|            NULL|        NULL|          NULL|NULL|         NULL|           NULL|            NULL|             NULL|        VPR|        NULL|            NULL|             NULL|       NULL|Class Visit|08/28/2015 07:00:...|\n",
            "|     Brosman|   Muriel|   NULL|NULL|  NULL|          NULL|NULL|NULL|NULL|NULL|          NULL|         5/1/15|       5/1/15|            NULL|        NULL|          NULL|NULL|         NULL|           NULL|            NULL|             NULL|        VPR|        NULL|            NULL|             NULL|       NULL|Class Visit|08/28/2015 07:00:...|\n",
            "|   Brumfield|    Avery|   NULL|NULL|  NULL|          NULL|NULL|NULL|NULL|NULL|          NULL|         5/1/15|       5/1/15|            NULL|        NULL|          NULL|NULL|         NULL|           NULL|            NULL|             NULL|        VPR|        NULL|            NULL|             NULL|       NULL|Class Visit|08/28/2015 07:00:...|\n",
            "|     Chipman|Catherine|   NULL|NULL|  NULL|          NULL|NULL|NULL|NULL|NULL|          NULL|         5/1/15|       5/1/15|            NULL|        NULL|          NULL|NULL|         NULL|           NULL|            NULL|             NULL|        VPR|        NULL|            NULL|             NULL|       NULL|Class Visit|08/28/2015 07:00:...|\n",
            "|       Chubb|   Steven|   NULL|NULL|  NULL|          NULL|NULL|NULL|NULL|NULL|          NULL|         5/1/15|       5/1/15|            NULL|        NULL|          NULL|NULL|         NULL|           NULL|            NULL|             NULL|        VPR|        NULL|            NULL|             NULL|       NULL|Class Visit|08/28/2015 07:00:...|\n",
            "|   Colasante|    Lydia|   NULL|NULL|  NULL|          NULL|NULL|NULL|NULL|NULL|          NULL|         5/1/15|       5/1/15|            NULL|        NULL|          NULL|NULL|         NULL|           NULL|            NULL|             NULL|        VPR|        NULL|            NULL|             NULL|       NULL|Class Visit|08/28/2015 07:00:...|\n",
            "|      Conway|    Gavin|   NULL|NULL|  NULL|          NULL|NULL|NULL|NULL|NULL|          NULL|         5/1/15|       5/1/15|            NULL|        NULL|          NULL|NULL|         NULL|           NULL|            NULL|             NULL|        VPR|        NULL|            NULL|             NULL|       NULL|Class Visit|08/28/2015 07:00:...|\n",
            "|         Cox|   Conrad|   NULL|NULL|  NULL|          NULL|NULL|NULL|NULL|NULL|          NULL|         5/1/15|       5/1/15|            NULL|        NULL|          NULL|NULL|         NULL|           NULL|            NULL|             NULL|        VPR|        NULL|            NULL|             NULL|       NULL|Class Visit|08/28/2015 07:00:...|\n",
            "|      Curtis|  Shannon|   NULL|NULL|  NULL|          NULL|NULL|NULL|NULL|NULL|          NULL|         5/1/15|       5/1/15|            NULL|        NULL|          NULL|NULL|         NULL|           NULL|            NULL|             NULL|        VPR|        NULL|            NULL|             NULL|       NULL|Class Visit|08/28/2015 07:00:...|\n",
            "|         Day|  Preston|   NULL|NULL|  NULL|          NULL|NULL|NULL|NULL|NULL|          NULL|         5/1/15|       5/1/15|            NULL|        NULL|          NULL|NULL|         NULL|           NULL|            NULL|             NULL|        VPR|        NULL|            NULL|             NULL|       NULL|Class Visit|08/28/2015 07:00:...|\n",
            "|       Dixon|    Kelly|   NULL|NULL|  NULL|          NULL|NULL|NULL|NULL|NULL|          NULL|         5/1/15|       5/1/15|            NULL|        NULL|          NULL|NULL|         NULL|           NULL|            NULL|             NULL|        VPR|        NULL|            NULL|             NULL|       NULL|    Meeting|08/28/2015 07:00:...|\n",
            "|      duPont|   Victor|   NULL|NULL|  NULL|          NULL|NULL|NULL|NULL|NULL|          NULL|         5/1/15|       5/1/15|            NULL|        NULL|          NULL|NULL|         NULL|           NULL|            NULL|             NULL|        VPR|        NULL|            NULL|             NULL|       NULL|Class Visit|08/28/2015 07:00:...|\n",
            "|Erkenbrecher| Benjamin|   NULL|NULL|  NULL|          NULL|NULL|NULL|NULL|NULL|          NULL|         5/1/15|       5/1/15|            NULL|        NULL|          NULL|NULL|         NULL|           NULL|            NULL|             NULL|        VPR|        NULL|            NULL|             NULL|       NULL|Class Visit|08/28/2015 07:00:...|\n",
            "|       Evans|    Nancy|   NULL|NULL|  NULL|          NULL|NULL|NULL|NULL|NULL|          NULL|         5/1/15|       5/1/15|            NULL|        NULL|          NULL|NULL|         NULL|           NULL|            NULL|             NULL|        VPR|        NULL|            NULL|             NULL|       NULL|Class Visit|08/28/2015 07:00:...|\n",
            "|     Ferrell|   Joshua|   NULL|NULL|  NULL|          NULL|NULL|NULL|NULL|NULL|          NULL|         5/1/15|       5/1/15|            NULL|        NULL|          NULL|NULL|         NULL|           NULL|            NULL|             NULL|        VPR|        NULL|            NULL|             NULL|       NULL|Class Visit|08/28/2015 07:00:...|\n",
            "|      Finlay|  Jasmine|   NULL|NULL|  NULL|          NULL|NULL|NULL|NULL|NULL|          NULL|         5/1/15|       5/1/15|            NULL|        NULL|          NULL|NULL|         NULL|           NULL|            NULL|             NULL|        VPR|        NULL|            NULL|             NULL|       NULL|Class Visit|08/28/2015 07:00:...|\n",
            "|       Green|   Joshua|   NULL|NULL|  NULL|          NULL|NULL|NULL|NULL|NULL|          NULL|         5/1/15|       5/1/15|            NULL|        NULL|          NULL|NULL|         NULL|           NULL|            NULL|             NULL|        VPR|        NULL|            NULL|             NULL|       NULL|Class Visit|08/28/2015 07:00:...|\n",
            "|       Green|  Michael|   NULL|NULL|  NULL|          NULL|NULL|NULL|NULL|NULL|          NULL|         5/1/15|       5/1/15|            NULL|        NULL|          NULL|NULL|         NULL|           NULL|            NULL|             NULL|        VPR|        NULL|            NULL|             NULL|       NULL|Class Visit|08/28/2015 07:00:...|\n",
            "|      Hardin|     Luke|   NULL|NULL|  NULL|          NULL|NULL|NULL|NULL|NULL|          NULL|         5/1/15|       5/1/15|            NULL|        NULL|          NULL|NULL|         NULL|           NULL|            NULL|             NULL|        VPR|        NULL|            NULL|             NULL|       NULL|Class Visit|08/28/2015 07:00:...|\n",
            "|       Homer|  Jeffrey|   NULL|NULL|  NULL|          NULL|NULL|NULL|NULL|NULL|          NULL|         5/1/15|       5/1/15|            NULL|        NULL|          NULL|NULL|         NULL|           NULL|            NULL|             NULL|        VPR|        NULL|            NULL|             NULL|       NULL|Class Visit|08/28/2015 07:00:...|\n",
            "+------------+---------+-------+----+------+--------------+----+----+----+----+--------------+---------------+-------------+----------------+------------+--------------+----+-------------+---------------+----------------+-----------------+-----------+------------+----------------+-----------------+-----------+-----------+--------------------+\n",
            "only showing top 20 rows\n",
            "\n"
          ]
        }
      ]
    },
    {
      "cell_type": "markdown",
      "source": [
        "# 2.A\n",
        "The 5 most frequent visitors (NAMELAST, NAMEFIRST, NAMEMID) to the\n",
        "White House."
      ],
      "metadata": {
        "id": "cGNKP_LAlpe6"
      }
    },
    {
      "cell_type": "code",
      "source": [
        "spark = SparkSession.builder.appName(\"WhiteHouseTopVisitors\").getOrCreate()\n",
        "visitors_df = visitors_df.na.fill(\" \", subset=[\"NAMEMID\"])\n",
        "visitors_df = visitors_df.select(visitors_df.NAMELAST, visitors_df.NAMEFIRST, visitors_df.NAMEMID)\n",
        "visitor_counts = visitors_df.groupBy(\"NAMELAST\",\"NAMEFIRST\",\"NAMEMID\").count()\n",
        "top_visitors = visitor_counts.orderBy(visitor_counts[\"count\"].desc()).limit(5)\n",
        "top_visitors.show()"
      ],
      "metadata": {
        "colab": {
          "base_uri": "https://localhost:8080/"
        },
        "id": "HN_RAK38Xca_",
        "outputId": "1f3c8eb1-7dd2-487b-e701-6ea140529b03"
      },
      "execution_count": 16,
      "outputs": [
        {
          "output_type": "stream",
          "name": "stdout",
          "text": [
            "+--------+---------+-------+-----+\n",
            "|NAMELAST|NAMEFIRST|NAMEMID|count|\n",
            "+--------+---------+-------+-----+\n",
            "|  DEMEKE|    MARIA|       |   41|\n",
            "| NEUFELD|     ADAM|       |   36|\n",
            "|     KIM|      HUN|      S|   30|\n",
            "|   MILBY|    SARAH|       |   25|\n",
            "|  WIDGER|      ANN|       |   25|\n",
            "+--------+---------+-------+-----+\n",
            "\n"
          ]
        }
      ]
    },
    {
      "cell_type": "markdown",
      "source": [
        "# 2.B\n",
        "The 5 most frequently visited people (VISITEE_NAMELAST, VISITEE_NAMEFIRST)\n",
        "in the White House"
      ],
      "metadata": {
        "id": "iW8mfb2k_Xmj"
      }
    },
    {
      "cell_type": "code",
      "source": [
        "visitors_df = visitors_df.withColumnRenamed(\"NAMELAST\", 'VISITEE_NAMELAST')\n",
        "visitors_df = visitors_df.withColumnRenamed(\"NAMEFIRST\",'VISITEE_NAMEFIRST')\n",
        "\n",
        "visitors_df = visitors_df.select(visitors_df.VISITEE_NAMELAST, visitors_df.VISITEE_NAMEFIRST)\n",
        "visitor_counts = visitors_df.groupBy(\"VISITEE_NAMELAST\",\"VISITEE_NAMEFIRST\").count()\n",
        "top_visitors = visitor_counts.orderBy(visitor_counts[\"count\"].desc()).limit(5)\n",
        "top_visitors.show()\n"
      ],
      "metadata": {
        "id": "gFBd2Ydo8mor",
        "outputId": "6515ad33-c0d6-49c3-8168-73e7dacf1310",
        "colab": {
          "base_uri": "https://localhost:8080/"
        }
      },
      "execution_count": 33,
      "outputs": [
        {
          "output_type": "stream",
          "name": "stdout",
          "text": [
            "+----------------+-----------------+-----+\n",
            "|VISITEE_NAMELAST|VISITEE_NAMEFIRST|count|\n",
            "+----------------+-----------------+-----+\n",
            "|           MIRZA|             ASMA|   48|\n",
            "|         NEUFELD|             ADAM|   43|\n",
            "|          DEMEKE|            MARIA|   43|\n",
            "|       CHILDRESS|             MARK|   39|\n",
            "|         LAMBREW|           JEANNE|   36|\n",
            "+----------------+-----------------+-----+\n",
            "\n"
          ]
        }
      ]
    }
  ]
}