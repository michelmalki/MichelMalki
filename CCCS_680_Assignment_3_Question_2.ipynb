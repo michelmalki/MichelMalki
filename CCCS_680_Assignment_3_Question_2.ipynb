{
  "nbformat": 4,
  "nbformat_minor": 0,
  "metadata": {
    "colab": {
      "provenance": [],
      "authorship_tag": "ABX9TyOiQqwTtSYPyl/5hpYnzy/P",
      "include_colab_link": true
    },
    "kernelspec": {
      "name": "python3",
      "display_name": "Python 3"
    },
    "language_info": {
      "name": "python"
    }
  },
  "cells": [
    {
      "cell_type": "markdown",
      "metadata": {
        "id": "view-in-github",
        "colab_type": "text"
      },
      "source": [
        "<a href=\"https://colab.research.google.com/github/michelmalki/MichelMalki/blob/main/CCCS_680_Assignment_3_Question_2.ipynb\" target=\"_parent\"><img src=\"https://colab.research.google.com/assets/colab-badge.svg\" alt=\"Open In Colab\"/></a>"
      ]
    },
    {
      "cell_type": "code",
      "execution_count": 115,
      "metadata": {
        "colab": {
          "base_uri": "https://localhost:8080/",
          "height": 607
        },
        "id": "DBuuG057R2GE",
        "outputId": "44cac99b-4a86-4f05-fdc3-09025b0ff268"
      },
      "outputs": [
        {
          "output_type": "stream",
          "name": "stdout",
          "text": [
            "\u001b[33m\r0% [Working]\u001b[0m\r            \rHit:1 http://archive.ubuntu.com/ubuntu jammy InRelease\n",
            "\u001b[33m\r0% [Waiting for headers] [Connecting to security.ubuntu.com (185.125.190.83)] [\u001b[0m\r                                                                               \rHit:2 http://archive.ubuntu.com/ubuntu jammy-updates InRelease\n",
            "\u001b[33m\r0% [Waiting for headers] [Connecting to security.ubuntu.com (185.125.190.83)] [\u001b[0m\r                                                                               \rGet:3 https://cloud.r-project.org/bin/linux/ubuntu jammy-cran40/ InRelease [3,626 B]\n",
            "\u001b[33m\r0% [Waiting for headers] [Connecting to security.ubuntu.com (185.125.190.83)] [\u001b[0m\u001b[33m\r0% [Waiting for headers] [Connecting to security.ubuntu.com (185.125.190.83)] [\u001b[0m\r                                                                               \rHit:4 http://archive.ubuntu.com/ubuntu jammy-backports InRelease\n",
            "\u001b[33m\r0% [Connecting to security.ubuntu.com (185.125.190.83)] [Connected to r2u.stat.\u001b[0m\r                                                                               \rHit:5 https://developer.download.nvidia.com/compute/cuda/repos/ubuntu2204/x86_64  InRelease\n",
            "\u001b[33m\r0% [Waiting for headers] [Waiting for headers] [Connecting to ppa.launchpadcont\u001b[0m\r                                                                               \rHit:6 http://security.ubuntu.com/ubuntu jammy-security InRelease\n",
            "\u001b[33m\r0% [Waiting for headers] [Connecting to ppa.launchpadcontent.net (185.125.190.8\u001b[0m\r                                                                               \rIgn:7 https://r2u.stat.illinois.edu/ubuntu jammy InRelease\n",
            "Hit:8 https://r2u.stat.illinois.edu/ubuntu jammy Release\n",
            "Hit:9 https://ppa.launchpadcontent.net/deadsnakes/ppa/ubuntu jammy InRelease\n",
            "Hit:10 https://ppa.launchpadcontent.net/graphics-drivers/ppa/ubuntu jammy InRelease\n",
            "Hit:11 https://ppa.launchpadcontent.net/ubuntugis/ppa/ubuntu jammy InRelease\n",
            "Fetched 3,626 B in 1s (2,614 B/s)\n",
            "Reading package lists... Done\n",
            "Building dependency tree... Done\n",
            "Reading state information... Done\n",
            "46 packages can be upgraded. Run 'apt list --upgradable' to see them.\n",
            "\u001b[1;33mW: \u001b[0mSkipping acquire of configured file 'main/source/Sources' as repository 'https://r2u.stat.illinois.edu/ubuntu jammy InRelease' does not seem to provide it (sources.list entry misspelt?)\u001b[0m\n",
            "Requirement already satisfied: pyspark in /usr/local/lib/python3.10/dist-packages (3.5.1)\n",
            "Requirement already satisfied: py4j==0.10.9.7 in /usr/local/lib/python3.10/dist-packages (from pyspark) (0.10.9.7)\n",
            "Requirement already satisfied: py4j in /usr/local/lib/python3.10/dist-packages (0.10.9.7)\n"
          ]
        },
        {
          "output_type": "execute_result",
          "data": {
            "text/plain": [
              "<pyspark.sql.session.SparkSession at 0x7b7b42b725c0>"
            ],
            "text/html": [
              "\n",
              "            <div>\n",
              "                <p><b>SparkSession - in-memory</b></p>\n",
              "                \n",
              "        <div>\n",
              "            <p><b>SparkContext</b></p>\n",
              "\n",
              "            <p><a href=\"http://458c7901f220:4040\">Spark UI</a></p>\n",
              "\n",
              "            <dl>\n",
              "              <dt>Version</dt>\n",
              "                <dd><code>v3.5.1</code></dd>\n",
              "              <dt>Master</dt>\n",
              "                <dd><code>local[*]</code></dd>\n",
              "              <dt>AppName</dt>\n",
              "                <dd><code>WhiteHouseVisitorVisitee</code></dd>\n",
              "            </dl>\n",
              "        </div>\n",
              "        \n",
              "            </div>\n",
              "        "
            ]
          },
          "metadata": {},
          "execution_count": 115
        }
      ],
      "source": [
        "!sudo apt update\n",
        "!apt-get install openjdk-8-jdk-headless -qq > /dev/null\n",
        "!wget -q https://dlcdn.apache.org/spark/spark-3.5.1/spark-3.5.1-bin-hadoop3.tgz\n",
        "!tar xf spark-3.5.1-bin-hadoop3.tgz\n",
        "!pip install -q findspark\n",
        "!pip install pyspark\n",
        "!pip install py4j\n",
        "\n",
        "import os\n",
        "import sys\n",
        "\n",
        "\n",
        "import findspark\n",
        "findspark.init()\n",
        "findspark.find()\n",
        "\n",
        "import pyspark\n",
        "\n",
        "from pyspark.sql import DataFrame, SparkSession\n",
        "from typing import List\n",
        "import pyspark.sql.types as T\n",
        "import pyspark.sql.functions as F\n",
        "\n",
        "spark= SparkSession \\\n",
        "       .builder \\\n",
        "       .appName(\"CCCS 680 Assignment 3 Question 2\") \\\n",
        "       .getOrCreate()\n",
        "\n",
        "spark"
      ]
    },
    {
      "cell_type": "code",
      "source": [
        "from google.colab import drive\n",
        "drive.mount('/content/drive', force_remount=True)"
      ],
      "metadata": {
        "colab": {
          "base_uri": "https://localhost:8080/"
        },
        "id": "YtVC97SkR84J",
        "outputId": "3b69b65d-90ba-43f7-94b1-4bd2c13a35a3"
      },
      "execution_count": 116,
      "outputs": [
        {
          "output_type": "stream",
          "name": "stdout",
          "text": [
            "Mounted at /content/drive\n"
          ]
        }
      ]
    },
    {
      "cell_type": "code",
      "source": [
        "visitors_df = spark.read.csv('/content/drive/My Drive/CCCS-680 Assignment 3/White_House_Visitor_Records_Requests.csv.gz', inferSchema=True, header=True, sep=',')\n",
        "visitors_df"
      ],
      "metadata": {
        "colab": {
          "base_uri": "https://localhost:8080/"
        },
        "id": "Inp4jdmwUcON",
        "outputId": "e26e3dff-63fb-4c9b-e079-474424baf369"
      },
      "execution_count": 117,
      "outputs": [
        {
          "output_type": "execute_result",
          "data": {
            "text/plain": [
              "DataFrame[NAMELAST: string, NAMEFIRST: string, NAMEMID: string, UIN: string, BDGNBR: int, Type of Access: string, TOA: string, POA: string, TOD: string, POD: string, APPT_MADE_DATE: string, APPT_START_DATE: string, APPT_END_DATE: string, APPT_CANCEL_DATE: string, Total_People: int, LAST_UPDATEDBY: string, POST: string, LastEntryDate: string, TERMINAL_SUFFIX: string, visitee_namelast: string, visitee_namefirst: string, MEETING_LOC: string, MEETING_ROOM: string, CALLER_NAME_LAST: string, CALLER_NAME_FIRST: string, CALLER_ROOM: string, Description: string, RELEASE_DATE: string]"
            ]
          },
          "metadata": {},
          "execution_count": 117
        }
      ]
    },
    {
      "cell_type": "code",
      "source": [
        "visitors_df.dtypes"
      ],
      "metadata": {
        "id": "t6xztrjPe5je",
        "outputId": "11fed500-c685-4e93-a8cc-0fcea51e8496",
        "colab": {
          "base_uri": "https://localhost:8080/"
        }
      },
      "execution_count": 118,
      "outputs": [
        {
          "output_type": "execute_result",
          "data": {
            "text/plain": [
              "[('NAMELAST', 'string'),\n",
              " ('NAMEFIRST', 'string'),\n",
              " ('NAMEMID', 'string'),\n",
              " ('UIN', 'string'),\n",
              " ('BDGNBR', 'int'),\n",
              " ('Type of Access', 'string'),\n",
              " ('TOA', 'string'),\n",
              " ('POA', 'string'),\n",
              " ('TOD', 'string'),\n",
              " ('POD', 'string'),\n",
              " ('APPT_MADE_DATE', 'string'),\n",
              " ('APPT_START_DATE', 'string'),\n",
              " ('APPT_END_DATE', 'string'),\n",
              " ('APPT_CANCEL_DATE', 'string'),\n",
              " ('Total_People', 'int'),\n",
              " ('LAST_UPDATEDBY', 'string'),\n",
              " ('POST', 'string'),\n",
              " ('LastEntryDate', 'string'),\n",
              " ('TERMINAL_SUFFIX', 'string'),\n",
              " ('visitee_namelast', 'string'),\n",
              " ('visitee_namefirst', 'string'),\n",
              " ('MEETING_LOC', 'string'),\n",
              " ('MEETING_ROOM', 'string'),\n",
              " ('CALLER_NAME_LAST', 'string'),\n",
              " ('CALLER_NAME_FIRST', 'string'),\n",
              " ('CALLER_ROOM', 'string'),\n",
              " ('Description', 'string'),\n",
              " ('RELEASE_DATE', 'string')]"
            ]
          },
          "metadata": {},
          "execution_count": 118
        }
      ]
    },
    {
      "cell_type": "code",
      "source": [
        "visitors_df.show()"
      ],
      "metadata": {
        "colab": {
          "base_uri": "https://localhost:8080/"
        },
        "id": "Z7TaMmeGWrUI",
        "outputId": "eaf77398-2989-44fc-b4f0-383ea53ceff8"
      },
      "execution_count": 119,
      "outputs": [
        {
          "output_type": "stream",
          "name": "stdout",
          "text": [
            "+------------+---------+-------+----+------+--------------+----+----+----+----+--------------+---------------+-------------+----------------+------------+--------------+----+-------------+---------------+----------------+-----------------+-----------+------------+----------------+-----------------+-----------+-----------+--------------------+\n",
            "|    NAMELAST|NAMEFIRST|NAMEMID| UIN|BDGNBR|Type of Access| TOA| POA| TOD| POD|APPT_MADE_DATE|APPT_START_DATE|APPT_END_DATE|APPT_CANCEL_DATE|Total_People|LAST_UPDATEDBY|POST|LastEntryDate|TERMINAL_SUFFIX|visitee_namelast|visitee_namefirst|MEETING_LOC|MEETING_ROOM|CALLER_NAME_LAST|CALLER_NAME_FIRST|CALLER_ROOM|Description|        RELEASE_DATE|\n",
            "+------------+---------+-------+----+------+--------------+----+----+----+----+--------------+---------------+-------------+----------------+------------+--------------+----+-------------+---------------+----------------+-----------------+-----------+------------+----------------+-----------------+-----------+-----------+--------------------+\n",
            "| Adamopoulos|   Stella|   NULL|NULL|  NULL|          NULL|NULL|NULL|NULL|NULL|          NULL|         5/1/15|       5/1/15|            NULL|        NULL|          NULL|NULL|         NULL|           NULL|            NULL|             NULL|        VPR|        NULL|            NULL|             NULL|       NULL|Class Visit|08/28/2015 07:00:...|\n",
            "|     Brosman|   Muriel|   NULL|NULL|  NULL|          NULL|NULL|NULL|NULL|NULL|          NULL|         5/1/15|       5/1/15|            NULL|        NULL|          NULL|NULL|         NULL|           NULL|            NULL|             NULL|        VPR|        NULL|            NULL|             NULL|       NULL|Class Visit|08/28/2015 07:00:...|\n",
            "|   Brumfield|    Avery|   NULL|NULL|  NULL|          NULL|NULL|NULL|NULL|NULL|          NULL|         5/1/15|       5/1/15|            NULL|        NULL|          NULL|NULL|         NULL|           NULL|            NULL|             NULL|        VPR|        NULL|            NULL|             NULL|       NULL|Class Visit|08/28/2015 07:00:...|\n",
            "|     Chipman|Catherine|   NULL|NULL|  NULL|          NULL|NULL|NULL|NULL|NULL|          NULL|         5/1/15|       5/1/15|            NULL|        NULL|          NULL|NULL|         NULL|           NULL|            NULL|             NULL|        VPR|        NULL|            NULL|             NULL|       NULL|Class Visit|08/28/2015 07:00:...|\n",
            "|       Chubb|   Steven|   NULL|NULL|  NULL|          NULL|NULL|NULL|NULL|NULL|          NULL|         5/1/15|       5/1/15|            NULL|        NULL|          NULL|NULL|         NULL|           NULL|            NULL|             NULL|        VPR|        NULL|            NULL|             NULL|       NULL|Class Visit|08/28/2015 07:00:...|\n",
            "|   Colasante|    Lydia|   NULL|NULL|  NULL|          NULL|NULL|NULL|NULL|NULL|          NULL|         5/1/15|       5/1/15|            NULL|        NULL|          NULL|NULL|         NULL|           NULL|            NULL|             NULL|        VPR|        NULL|            NULL|             NULL|       NULL|Class Visit|08/28/2015 07:00:...|\n",
            "|      Conway|    Gavin|   NULL|NULL|  NULL|          NULL|NULL|NULL|NULL|NULL|          NULL|         5/1/15|       5/1/15|            NULL|        NULL|          NULL|NULL|         NULL|           NULL|            NULL|             NULL|        VPR|        NULL|            NULL|             NULL|       NULL|Class Visit|08/28/2015 07:00:...|\n",
            "|         Cox|   Conrad|   NULL|NULL|  NULL|          NULL|NULL|NULL|NULL|NULL|          NULL|         5/1/15|       5/1/15|            NULL|        NULL|          NULL|NULL|         NULL|           NULL|            NULL|             NULL|        VPR|        NULL|            NULL|             NULL|       NULL|Class Visit|08/28/2015 07:00:...|\n",
            "|      Curtis|  Shannon|   NULL|NULL|  NULL|          NULL|NULL|NULL|NULL|NULL|          NULL|         5/1/15|       5/1/15|            NULL|        NULL|          NULL|NULL|         NULL|           NULL|            NULL|             NULL|        VPR|        NULL|            NULL|             NULL|       NULL|Class Visit|08/28/2015 07:00:...|\n",
            "|         Day|  Preston|   NULL|NULL|  NULL|          NULL|NULL|NULL|NULL|NULL|          NULL|         5/1/15|       5/1/15|            NULL|        NULL|          NULL|NULL|         NULL|           NULL|            NULL|             NULL|        VPR|        NULL|            NULL|             NULL|       NULL|Class Visit|08/28/2015 07:00:...|\n",
            "|       Dixon|    Kelly|   NULL|NULL|  NULL|          NULL|NULL|NULL|NULL|NULL|          NULL|         5/1/15|       5/1/15|            NULL|        NULL|          NULL|NULL|         NULL|           NULL|            NULL|             NULL|        VPR|        NULL|            NULL|             NULL|       NULL|    Meeting|08/28/2015 07:00:...|\n",
            "|      duPont|   Victor|   NULL|NULL|  NULL|          NULL|NULL|NULL|NULL|NULL|          NULL|         5/1/15|       5/1/15|            NULL|        NULL|          NULL|NULL|         NULL|           NULL|            NULL|             NULL|        VPR|        NULL|            NULL|             NULL|       NULL|Class Visit|08/28/2015 07:00:...|\n",
            "|Erkenbrecher| Benjamin|   NULL|NULL|  NULL|          NULL|NULL|NULL|NULL|NULL|          NULL|         5/1/15|       5/1/15|            NULL|        NULL|          NULL|NULL|         NULL|           NULL|            NULL|             NULL|        VPR|        NULL|            NULL|             NULL|       NULL|Class Visit|08/28/2015 07:00:...|\n",
            "|       Evans|    Nancy|   NULL|NULL|  NULL|          NULL|NULL|NULL|NULL|NULL|          NULL|         5/1/15|       5/1/15|            NULL|        NULL|          NULL|NULL|         NULL|           NULL|            NULL|             NULL|        VPR|        NULL|            NULL|             NULL|       NULL|Class Visit|08/28/2015 07:00:...|\n",
            "|     Ferrell|   Joshua|   NULL|NULL|  NULL|          NULL|NULL|NULL|NULL|NULL|          NULL|         5/1/15|       5/1/15|            NULL|        NULL|          NULL|NULL|         NULL|           NULL|            NULL|             NULL|        VPR|        NULL|            NULL|             NULL|       NULL|Class Visit|08/28/2015 07:00:...|\n",
            "|      Finlay|  Jasmine|   NULL|NULL|  NULL|          NULL|NULL|NULL|NULL|NULL|          NULL|         5/1/15|       5/1/15|            NULL|        NULL|          NULL|NULL|         NULL|           NULL|            NULL|             NULL|        VPR|        NULL|            NULL|             NULL|       NULL|Class Visit|08/28/2015 07:00:...|\n",
            "|       Green|   Joshua|   NULL|NULL|  NULL|          NULL|NULL|NULL|NULL|NULL|          NULL|         5/1/15|       5/1/15|            NULL|        NULL|          NULL|NULL|         NULL|           NULL|            NULL|             NULL|        VPR|        NULL|            NULL|             NULL|       NULL|Class Visit|08/28/2015 07:00:...|\n",
            "|       Green|  Michael|   NULL|NULL|  NULL|          NULL|NULL|NULL|NULL|NULL|          NULL|         5/1/15|       5/1/15|            NULL|        NULL|          NULL|NULL|         NULL|           NULL|            NULL|             NULL|        VPR|        NULL|            NULL|             NULL|       NULL|Class Visit|08/28/2015 07:00:...|\n",
            "|      Hardin|     Luke|   NULL|NULL|  NULL|          NULL|NULL|NULL|NULL|NULL|          NULL|         5/1/15|       5/1/15|            NULL|        NULL|          NULL|NULL|         NULL|           NULL|            NULL|             NULL|        VPR|        NULL|            NULL|             NULL|       NULL|Class Visit|08/28/2015 07:00:...|\n",
            "|       Homer|  Jeffrey|   NULL|NULL|  NULL|          NULL|NULL|NULL|NULL|NULL|          NULL|         5/1/15|       5/1/15|            NULL|        NULL|          NULL|NULL|         NULL|           NULL|            NULL|             NULL|        VPR|        NULL|            NULL|             NULL|       NULL|Class Visit|08/28/2015 07:00:...|\n",
            "+------------+---------+-------+----+------+--------------+----+----+----+----+--------------+---------------+-------------+----------------+------------+--------------+----+-------------+---------------+----------------+-----------------+-----------+------------+----------------+-----------------+-----------+-----------+--------------------+\n",
            "only showing top 20 rows\n",
            "\n"
          ]
        }
      ]
    },
    {
      "cell_type": "markdown",
      "source": [
        "# 2.A\n",
        "The 5 most frequent visitors (NAMELAST, NAMEFIRST, NAMEMID) to the\n",
        "White House."
      ],
      "metadata": {
        "id": "cGNKP_LAlpe6"
      }
    },
    {
      "cell_type": "code",
      "source": [
        "spark = SparkSession.builder.appName(\"WhiteHouseTopVisitors\").getOrCreate()\n",
        "visitors_df = visitors_df.na.fill(\" \", subset=[\"NAMEMID\"])\n",
        "visitors_df = visitors_df.select(visitors_df.NAMELAST, visitors_df.NAMEFIRST, visitors_df.NAMEMID)\n",
        "visitor_counts = visitors_df.groupBy(\"NAMELAST\",\"NAMEFIRST\",\"NAMEMID\").count()\n",
        "top_visitors = visitor_counts.orderBy(visitor_counts[\"count\"].desc()).limit(5)\n",
        "top_visitors.show()"
      ],
      "metadata": {
        "colab": {
          "base_uri": "https://localhost:8080/"
        },
        "id": "HN_RAK38Xca_",
        "outputId": "160436b8-ff57-4b5f-8d4e-88d570053d91"
      },
      "execution_count": 120,
      "outputs": [
        {
          "output_type": "stream",
          "name": "stdout",
          "text": [
            "+--------+---------+-------+-----+\n",
            "|NAMELAST|NAMEFIRST|NAMEMID|count|\n",
            "+--------+---------+-------+-----+\n",
            "|  DEMEKE|    MARIA|       |   41|\n",
            "| NEUFELD|     ADAM|       |   36|\n",
            "|     KIM|      HUN|      S|   30|\n",
            "|   MILBY|    SARAH|       |   25|\n",
            "|  WIDGER|      ANN|       |   25|\n",
            "+--------+---------+-------+-----+\n",
            "\n"
          ]
        }
      ]
    },
    {
      "cell_type": "markdown",
      "source": [
        "# 2.B\n",
        "The 5 most frequently visited people (VISITEE_NAMELAST, VISITEE_NAMEFIRST)\n",
        "in the White House"
      ],
      "metadata": {
        "id": "iW8mfb2k_Xmj"
      }
    },
    {
      "cell_type": "code",
      "source": [
        "visitors_df = visitors_df.withColumnRenamed(\"NAMELAST\", 'VISITEE_NAMELAST')\n",
        "visitors_df = visitors_df.withColumnRenamed(\"NAMEFIRST\",'VISITEE_NAMEFIRST')\n",
        "\n",
        "visitors_df = visitors_df.select(visitors_df.VISITEE_NAMELAST, visitors_df.VISITEE_NAMEFIRST)\n",
        "visitor_counts = visitors_df.groupBy(\"VISITEE_NAMELAST\",\"VISITEE_NAMEFIRST\").count()\n",
        "top_visitors = visitor_counts.orderBy(visitor_counts[\"count\"].desc()).limit(5)\n",
        "top_visitors.show()\n"
      ],
      "metadata": {
        "id": "gFBd2Ydo8mor",
        "outputId": "f047b059-e68b-4cd3-d575-c4124a3453cf",
        "colab": {
          "base_uri": "https://localhost:8080/"
        }
      },
      "execution_count": 121,
      "outputs": [
        {
          "output_type": "stream",
          "name": "stdout",
          "text": [
            "+----------------+-----------------+-----+\n",
            "|VISITEE_NAMELAST|VISITEE_NAMEFIRST|count|\n",
            "+----------------+-----------------+-----+\n",
            "|           MIRZA|             ASMA|   48|\n",
            "|         NEUFELD|             ADAM|   43|\n",
            "|          DEMEKE|            MARIA|   43|\n",
            "|       CHILDRESS|             MARK|   39|\n",
            "|         LAMBREW|           JEANNE|   36|\n",
            "+----------------+-----------------+-----+\n",
            "\n"
          ]
        }
      ]
    },
    {
      "cell_type": "markdown",
      "source": [
        "# 3.B\n",
        "The 5 most frequent visitor-visitee combinations"
      ],
      "metadata": {
        "id": "FHlhCGjCJA5v"
      }
    },
    {
      "source": [
        "from pyspark.sql import SparkSession\n",
        "from pyspark.sql.functions import col, desc\n",
        "spark = SparkSession.builder.appName(\"WhiteHouseVisitorVisitee\").getOrCreate()\n",
        "combination = df.select(\"NAMELAST\", \"NAMEMID\", \"NAMEFIRST\", \"VISITEE_NAMELAST\", \"VISITEE_NAMEFIRST\")\\\n",
        ".groupBy(\"NAMELAST\", \"NAMEMID\", \"NAMEFIRST\",\"VISITEE_NAMELAST\",\"VISITEE_NAMEFIRST\")\n",
        "combination.count().orderBy(\"count\", ascending=False).show(5)"
      ],
      "cell_type": "code",
      "metadata": {
        "id": "0wSHOO8uFy8X",
        "outputId": "c5f8dd7d-7a6c-4472-824e-e5223bd77ebc",
        "colab": {
          "base_uri": "https://localhost:8080/"
        }
      },
      "execution_count": 122,
      "outputs": [
        {
          "output_type": "stream",
          "name": "stdout",
          "text": [
            "+--------+-------+---------+----------------+-----------------+-----+\n",
            "|NAMELAST|NAMEMID|NAMEFIRST|VISITEE_NAMELAST|VISITEE_NAMEFIRST|count|\n",
            "+--------+-------+---------+----------------+-----------------+-----+\n",
            "|     KIM|      S|      HUN|          KUNDRA|            VIVEK|   22|\n",
            "|  DEMEKE|   NULL|    MARIA|          BUSSOW|             MARK|   21|\n",
            "|   YODER|   NULL|     RYAN|          SAHENE|              JR.|   19|\n",
            "|  HARDIE|      D|     IRIS|          KUNDRA|            VIVEK|   18|\n",
            "|  DEMEKE|   NULL|    MARIA|        WILLIAMS|            DEBRA|   17|\n",
            "+--------+-------+---------+----------------+-----------------+-----+\n",
            "only showing top 5 rows\n",
            "\n"
          ]
        }
      ]
    }
  ]
}