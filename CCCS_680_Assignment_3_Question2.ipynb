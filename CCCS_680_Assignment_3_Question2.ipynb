{
  "nbformat": 4,
  "nbformat_minor": 0,
  "metadata": {
    "colab": {
      "provenance": [],
      "authorship_tag": "ABX9TyOfm84qAyddxJwzqpTUIfQN",
      "include_colab_link": true
    },
    "kernelspec": {
      "name": "python3",
      "display_name": "Python 3"
    },
    "language_info": {
      "name": "python"
    }
  },
  "cells": [
    {
      "cell_type": "markdown",
      "metadata": {
        "id": "view-in-github",
        "colab_type": "text"
      },
      "source": [
        "<a href=\"https://colab.research.google.com/github/michelmalki/MichelMalki/blob/main/CCCS_680_Assignment_3_Question2.ipynb\" target=\"_parent\"><img src=\"https://colab.research.google.com/assets/colab-badge.svg\" alt=\"Open In Colab\"/></a>"
      ]
    },
    {
      "cell_type": "code",
      "execution_count": 1,
      "metadata": {
        "colab": {
          "base_uri": "https://localhost:8080/",
          "height": 936
        },
        "id": "i2eor4yxppLp",
        "outputId": "a502694c-7cb1-4303-a455-6958d4449398"
      },
      "outputs": [
        {
          "output_type": "stream",
          "name": "stdout",
          "text": [
            "\u001b[33m\r0% [Working]\u001b[0m\r            \rGet:1 https://cloud.r-project.org/bin/linux/ubuntu jammy-cran40/ InRelease [3,626 B]\n",
            "Hit:2 https://developer.download.nvidia.com/compute/cuda/repos/ubuntu2204/x86_64  InRelease\n",
            "Hit:3 http://archive.ubuntu.com/ubuntu jammy InRelease\n",
            "Get:4 http://security.ubuntu.com/ubuntu jammy-security InRelease [129 kB]\n",
            "Ign:5 https://r2u.stat.illinois.edu/ubuntu jammy InRelease\n",
            "Get:6 http://archive.ubuntu.com/ubuntu jammy-updates InRelease [128 kB]\n",
            "Get:7 https://r2u.stat.illinois.edu/ubuntu jammy Release [5,713 B]\n",
            "Get:8 https://r2u.stat.illinois.edu/ubuntu jammy Release.gpg [793 B]\n",
            "Hit:9 https://ppa.launchpadcontent.net/deadsnakes/ppa/ubuntu jammy InRelease\n",
            "Hit:10 https://ppa.launchpadcontent.net/graphics-drivers/ppa/ubuntu jammy InRelease\n",
            "Hit:11 https://ppa.launchpadcontent.net/ubuntugis/ppa/ubuntu jammy InRelease\n",
            "Get:12 http://archive.ubuntu.com/ubuntu jammy-backports InRelease [127 kB]\n",
            "Get:13 https://r2u.stat.illinois.edu/ubuntu jammy/main all Packages [8,192 kB]\n",
            "Get:14 https://r2u.stat.illinois.edu/ubuntu jammy/main amd64 Packages [2,547 kB]\n",
            "Get:15 http://security.ubuntu.com/ubuntu jammy-security/main amd64 Packages [2,051 kB]\n",
            "Get:16 http://security.ubuntu.com/ubuntu jammy-security/universe amd64 Packages [1,128 kB]\n",
            "Get:17 http://archive.ubuntu.com/ubuntu jammy-updates/universe amd64 Packages [1,418 kB]\n",
            "Get:18 http://archive.ubuntu.com/ubuntu jammy-updates/main amd64 Packages [2,315 kB]\n",
            "Get:19 http://archive.ubuntu.com/ubuntu jammy-backports/universe amd64 Packages [33.7 kB]\n",
            "Fetched 18.1 MB in 6s (3,221 kB/s)\n",
            "Reading package lists... Done\n",
            "Building dependency tree... Done\n",
            "Reading state information... Done\n",
            "53 packages can be upgraded. Run 'apt list --upgradable' to see them.\n",
            "\u001b[1;33mW: \u001b[0mSkipping acquire of configured file 'main/source/Sources' as repository 'https://r2u.stat.illinois.edu/ubuntu jammy InRelease' does not seem to provide it (sources.list entry misspelt?)\u001b[0m\n",
            "Collecting pyspark\n",
            "  Downloading pyspark-3.5.1.tar.gz (317.0 MB)\n",
            "\u001b[2K     \u001b[90m━━━━━━━━━━━━━━━━━━━━━━━━━━━━━━━━━━━━━━━━\u001b[0m \u001b[32m317.0/317.0 MB\u001b[0m \u001b[31m3.3 MB/s\u001b[0m eta \u001b[36m0:00:00\u001b[0m\n",
            "\u001b[?25h  Preparing metadata (setup.py) ... \u001b[?25l\u001b[?25hdone\n",
            "Requirement already satisfied: py4j==0.10.9.7 in /usr/local/lib/python3.10/dist-packages (from pyspark) (0.10.9.7)\n",
            "Building wheels for collected packages: pyspark\n",
            "  Building wheel for pyspark (setup.py) ... \u001b[?25l\u001b[?25hdone\n",
            "  Created wheel for pyspark: filename=pyspark-3.5.1-py2.py3-none-any.whl size=317488491 sha256=9e4ebe32f861940beabb7a7a3f6dfd8d4dbfe8ac35fe8b0e5066f1e7ac3e5f51\n",
            "  Stored in directory: /root/.cache/pip/wheels/80/1d/60/2c256ed38dddce2fdd93be545214a63e02fbd8d74fb0b7f3a6\n",
            "Successfully built pyspark\n",
            "Installing collected packages: pyspark\n",
            "Successfully installed pyspark-3.5.1\n",
            "Requirement already satisfied: py4j in /usr/local/lib/python3.10/dist-packages (0.10.9.7)\n"
          ]
        },
        {
          "output_type": "execute_result",
          "data": {
            "text/plain": [
              "<pyspark.sql.session.SparkSession at 0x7befe6670250>"
            ],
            "text/html": [
              "\n",
              "            <div>\n",
              "                <p><b>SparkSession - in-memory</b></p>\n",
              "                \n",
              "        <div>\n",
              "            <p><b>SparkContext</b></p>\n",
              "\n",
              "            <p><a href=\"http://de558e6e0d93:4040\">Spark UI</a></p>\n",
              "\n",
              "            <dl>\n",
              "              <dt>Version</dt>\n",
              "                <dd><code>v3.5.1</code></dd>\n",
              "              <dt>Master</dt>\n",
              "                <dd><code>local[*]</code></dd>\n",
              "              <dt>AppName</dt>\n",
              "                <dd><code>CCCS 680 Assignment 3 Question 1 Template</code></dd>\n",
              "            </dl>\n",
              "        </div>\n",
              "        \n",
              "            </div>\n",
              "        "
            ]
          },
          "metadata": {},
          "execution_count": 1
        }
      ],
      "source": [
        "!sudo apt update\n",
        "!apt-get install openjdk-8-jdk-headless -qq > /dev/null\n",
        "!wget -q https://dlcdn.apache.org/spark/spark-3.5.1/spark-3.5.1-bin-hadoop3.tgz\n",
        "!tar xf spark-3.5.1-bin-hadoop3.tgz\n",
        "!pip install -q findspark\n",
        "!pip install pyspark\n",
        "!pip install py4j\n",
        "\n",
        "import os\n",
        "import sys\n",
        "\n",
        "\n",
        "import findspark\n",
        "findspark.init()\n",
        "findspark.find()\n",
        "\n",
        "import pyspark\n",
        "\n",
        "from pyspark.sql import DataFrame, SparkSession\n",
        "from typing import List\n",
        "import pyspark.sql.types as T\n",
        "import pyspark.sql.functions as F\n",
        "\n",
        "spark= SparkSession \\\n",
        "       .builder \\\n",
        "       .appName(\"CCCS 680 Assignment 3 Question 1 Template\") \\\n",
        "       .getOrCreate()\n",
        "\n",
        "spark"
      ]
    },
    {
      "cell_type": "code",
      "source": [
        "from google.colab import drive\n",
        "drive.mount('/content/drive', force_remount=True)"
      ],
      "metadata": {
        "colab": {
          "base_uri": "https://localhost:8080/"
        },
        "id": "ASxW3PAfqQEw",
        "outputId": "d384748e-c8de-46eb-9f65-107dfcf78fef"
      },
      "execution_count": 2,
      "outputs": [
        {
          "output_type": "stream",
          "name": "stdout",
          "text": [
            "Mounted at /content/drive\n"
          ]
        }
      ]
    },
    {
      "cell_type": "code",
      "source": [
        "visitors_df = spark.read.csv('/content/drive/My Drive/CCCS-680 Assignment 3/100000_White_House_Visitor_Records_Requests.csv', inferSchema=True, header=False, sep='\\t')"
      ],
      "metadata": {
        "id": "Eh0satkWqRiK"
      },
      "execution_count": 11,
      "outputs": []
    },
    {
      "cell_type": "code",
      "source": [
        "visitors_df.show(30)"
      ],
      "metadata": {
        "colab": {
          "base_uri": "https://localhost:8080/"
        },
        "id": "lTk5ppplqbdV",
        "outputId": "5dac5d0e-d4d2-4c27-e89c-e6f8700cbf87"
      },
      "execution_count": 13,
      "outputs": [
        {
          "output_type": "stream",
          "name": "stdout",
          "text": [
            "+--------------------+\n",
            "|                 _c0|\n",
            "+--------------------+\n",
            "|NAMELAST,NAMEFIRS...|\n",
            "|Adamopoulos,Stell...|\n",
            "|Brosman,Muriel,,,...|\n",
            "|Brumfield,Avery,,...|\n",
            "|Chipman,Catherine...|\n",
            "|Chubb,Steven,,,,,...|\n",
            "|Colasante,Lydia,,...|\n",
            "|Conway,Gavin,,,,,...|\n",
            "|Cox,Conrad,,,,,,,...|\n",
            "|Curtis,Shannon,,,...|\n",
            "|Day,Preston,,,,,,...|\n",
            "|Dixon,Kelly,,,,,,...|\n",
            "|duPont,Victor,,,,...|\n",
            "|Erkenbrecher,Benj...|\n",
            "|Evans,Nancy,,,,,,...|\n",
            "|Ferrell,Joshua,,,...|\n",
            "|Finlay,Jasmine,,,...|\n",
            "|Green,Joshua,,,,,...|\n",
            "|Green,Michael,,,,...|\n",
            "|Hardin,Luke,,,,,,...|\n",
            "|Homer,Jeffrey,,,,...|\n",
            "|Homer,Matthew,,,,...|\n",
            "|Kane,Sara,,,,,,,,...|\n",
            "|Kellman,Niyah,,,,...|\n",
            "|Kellman,Nyree,,,,...|\n",
            "|Kirby,Emma,,,,,,,...|\n",
            "|Knox,Derrick,,,,,...|\n",
            "|Larnick,Nina,,,,,...|\n",
            "|Laurent,Joanne,,,...|\n",
            "|Lee,Arman,,,,,,,,...|\n",
            "+--------------------+\n",
            "only showing top 30 rows\n",
            "\n"
          ]
        }
      ]
    },
    {
      "cell_type": "markdown",
      "source": [
        "# 2.A\n",
        "The 5 most frequent visitors (NAMELAST, NAMEFIRST, NAMEMID) to the\n",
        "White House.\n"
      ],
      "metadata": {
        "id": "3t0I-tCYtbVU"
      }
    },
    {
      "cell_type": "code",
      "source": [
        "visitors_df = visitors_df.select(\"_c0\")\n",
        "visitor_counts = visitors_df.groupBy(\"_c0\").count()\n",
        "top_visitors = visitor_counts.orderBy(visitor_counts[\"count\"].desc()).limit(5)\n",
        "top_visitors.show()"
      ],
      "metadata": {
        "id": "FyRzPzzmQIc1",
        "outputId": "2a19defa-fa76-4aa8-cc8b-f7c5857ec538",
        "colab": {
          "base_uri": "https://localhost:8080/"
        }
      },
      "execution_count": 25,
      "outputs": [
        {
          "output_type": "stream",
          "name": "stdout",
          "text": [
            "+--------------------+-----+\n",
            "|                 _c0|count|\n",
            "+--------------------+-----+\n",
            "|BARRAZA,ALEJANDRO...|    3|\n",
            "|SMITH,WALTER,H,U0...|    3|\n",
            "|HOLLY,KHUFU,M,U14...|    2|\n",
            "|ALMADA,GRACIELA,,...|    2|\n",
            "|CARSON,JOHN,C,OPE...|    2|\n",
            "+--------------------+-----+\n",
            "\n"
          ]
        }
      ]
    },
    {
      "cell_type": "markdown",
      "source": [
        "# 2.B\n",
        "The 5 most frequently visited people (VISITEE_NAMELAST, VISITEE_NAMEFIRST)\n",
        "in the White House."
      ],
      "metadata": {
        "id": "W3abdO6NSJaq"
      }
    },
    {
      "cell_type": "code",
      "source": [],
      "metadata": {
        "id": "xP7c-1MIRTqQ"
      },
      "execution_count": 28,
      "outputs": []
    }
  ]
}