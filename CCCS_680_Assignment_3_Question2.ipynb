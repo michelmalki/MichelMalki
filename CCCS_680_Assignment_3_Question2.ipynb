{
  "nbformat": 4,
  "nbformat_minor": 0,
  "metadata": {
    "colab": {
      "provenance": [],
      "authorship_tag": "ABX9TyPc4W2EpIiBoAMYr64fx0vU",
      "include_colab_link": true
    },
    "kernelspec": {
      "name": "python3",
      "display_name": "Python 3"
    },
    "language_info": {
      "name": "python"
    }
  },
  "cells": [
    {
      "cell_type": "markdown",
      "metadata": {
        "id": "view-in-github",
        "colab_type": "text"
      },
      "source": [
        "<a href=\"https://colab.research.google.com/github/michelmalki/MichelMalki/blob/main/CCCS_680_Assignment_3_Question2.ipynb\" target=\"_parent\"><img src=\"https://colab.research.google.com/assets/colab-badge.svg\" alt=\"Open In Colab\"/></a>"
      ]
    },
    {
      "cell_type": "code",
      "execution_count": 77,
      "metadata": {
        "colab": {
          "base_uri": "https://localhost:8080/",
          "height": 589
        },
        "id": "i2eor4yxppLp",
        "outputId": "bc147814-2a1b-4813-9f08-5750fcf0e818"
      },
      "outputs": [
        {
          "output_type": "stream",
          "name": "stdout",
          "text": [
            "\u001b[33m\r0% [Working]\u001b[0m\r            \rHit:1 https://cloud.r-project.org/bin/linux/ubuntu jammy-cran40/ InRelease\n",
            "\u001b[33m\r0% [Connecting to archive.ubuntu.com (91.189.91.82)] [Connecting to security.ub\u001b[0m\r                                                                               \rHit:2 https://developer.download.nvidia.com/compute/cuda/repos/ubuntu2204/x86_64  InRelease\n",
            "\u001b[33m\r0% [Waiting for headers] [Waiting for headers] [Connected to r2u.stat.illinois.\u001b[0m\r                                                                               \rHit:3 http://security.ubuntu.com/ubuntu jammy-security InRelease\n",
            "\u001b[33m\r0% [Waiting for headers] [Connected to r2u.stat.illinois.edu (192.17.190.167)] \u001b[0m\r                                                                               \rHit:4 http://archive.ubuntu.com/ubuntu jammy InRelease\n",
            "\u001b[33m\r0% [Waiting for headers] [Connected to r2u.stat.illinois.edu (192.17.190.167)] \u001b[0m\u001b[33m\r0% [Waiting for headers] [Waiting for headers] [Connecting to ppa.launchpadcont\u001b[0m\r                                                                               \rHit:5 http://archive.ubuntu.com/ubuntu jammy-updates InRelease\n",
            "Hit:6 http://archive.ubuntu.com/ubuntu jammy-backports InRelease\n",
            "Ign:7 https://r2u.stat.illinois.edu/ubuntu jammy InRelease\n",
            "Hit:8 https://r2u.stat.illinois.edu/ubuntu jammy Release\n",
            "Hit:9 https://ppa.launchpadcontent.net/deadsnakes/ppa/ubuntu jammy InRelease\n",
            "Hit:10 https://ppa.launchpadcontent.net/graphics-drivers/ppa/ubuntu jammy InRelease\n",
            "Hit:12 https://ppa.launchpadcontent.net/ubuntugis/ppa/ubuntu jammy InRelease\n",
            "Reading package lists... Done\n",
            "Building dependency tree... Done\n",
            "Reading state information... Done\n",
            "48 packages can be upgraded. Run 'apt list --upgradable' to see them.\n",
            "\u001b[1;33mW: \u001b[0mSkipping acquire of configured file 'main/source/Sources' as repository 'https://r2u.stat.illinois.edu/ubuntu jammy InRelease' does not seem to provide it (sources.list entry misspelt?)\u001b[0m\n",
            "Requirement already satisfied: pyspark in /usr/local/lib/python3.10/dist-packages (3.5.1)\n",
            "Requirement already satisfied: py4j==0.10.9.7 in /usr/local/lib/python3.10/dist-packages (from pyspark) (0.10.9.7)\n",
            "Requirement already satisfied: py4j in /usr/local/lib/python3.10/dist-packages (0.10.9.7)\n"
          ]
        },
        {
          "output_type": "execute_result",
          "data": {
            "text/plain": [
              "<pyspark.sql.session.SparkSession at 0x7df2dc688610>"
            ],
            "text/html": [
              "\n",
              "            <div>\n",
              "                <p><b>SparkSession - in-memory</b></p>\n",
              "                \n",
              "        <div>\n",
              "            <p><b>SparkContext</b></p>\n",
              "\n",
              "            <p><a href=\"http://955af9dea99e:4040\">Spark UI</a></p>\n",
              "\n",
              "            <dl>\n",
              "              <dt>Version</dt>\n",
              "                <dd><code>v3.5.1</code></dd>\n",
              "              <dt>Master</dt>\n",
              "                <dd><code>local[*]</code></dd>\n",
              "              <dt>AppName</dt>\n",
              "                <dd><code>CCCS 680 Assignment 3 Question 1 Template</code></dd>\n",
              "            </dl>\n",
              "        </div>\n",
              "        \n",
              "            </div>\n",
              "        "
            ]
          },
          "metadata": {},
          "execution_count": 77
        }
      ],
      "source": [
        "!sudo apt update\n",
        "!apt-get install openjdk-8-jdk-headless -qq > /dev/null\n",
        "!wget -q https://dlcdn.apache.org/spark/spark-3.5.1/spark-3.5.1-bin-hadoop3.tgz\n",
        "!tar xf spark-3.5.1-bin-hadoop3.tgz\n",
        "!pip install -q findspark\n",
        "!pip install pyspark\n",
        "!pip install py4j\n",
        "\n",
        "import os\n",
        "import sys\n",
        "\n",
        "\n",
        "import findspark\n",
        "findspark.init()\n",
        "findspark.find()\n",
        "\n",
        "import pyspark\n",
        "\n",
        "from pyspark.sql import DataFrame, SparkSession\n",
        "from typing import List\n",
        "import pyspark.sql.types as T\n",
        "import pyspark.sql.functions as F\n",
        "\n",
        "spark= SparkSession \\\n",
        "       .builder \\\n",
        "       .appName(\"CCCS 680 Assignment 3 Question 1 Template\") \\\n",
        "       .getOrCreate()\n",
        "\n",
        "spark"
      ]
    },
    {
      "cell_type": "code",
      "source": [
        "from google.colab import drive\n",
        "drive.mount('/content/drive', force_remount=True)"
      ],
      "metadata": {
        "colab": {
          "base_uri": "https://localhost:8080/"
        },
        "id": "ASxW3PAfqQEw",
        "outputId": "5e5ab1ee-cfbc-4bd6-f388-5f185ea8e1b2"
      },
      "execution_count": 78,
      "outputs": [
        {
          "output_type": "stream",
          "name": "stdout",
          "text": [
            "Mounted at /content/drive\n"
          ]
        }
      ]
    },
    {
      "cell_type": "code",
      "source": [
        "visitors_df = spark.read.csv('/content/drive/My Drive/CCCS-680 Assignment 3/100000_White_House_Visitor_Records_Requests.csv', inferSchema=True, header=False, sep='\\t')"
      ],
      "metadata": {
        "id": "Eh0satkWqRiK"
      },
      "execution_count": 79,
      "outputs": []
    },
    {
      "cell_type": "code",
      "source": [
        "visitors_df.show(30)"
      ],
      "metadata": {
        "colab": {
          "base_uri": "https://localhost:8080/"
        },
        "id": "lTk5ppplqbdV",
        "outputId": "b6acd720-a890-4a45-b49b-902369c4447e"
      },
      "execution_count": 81,
      "outputs": [
        {
          "output_type": "stream",
          "name": "stdout",
          "text": [
            "+--------------------+\n",
            "|                 _c0|\n",
            "+--------------------+\n",
            "|NAMELAST,NAMEFIRS...|\n",
            "|Adamopoulos,Stell...|\n",
            "|Brosman,Muriel,,,...|\n",
            "|Brumfield,Avery,,...|\n",
            "|Chipman,Catherine...|\n",
            "|Chubb,Steven,,,,,...|\n",
            "|Colasante,Lydia,,...|\n",
            "|Conway,Gavin,,,,,...|\n",
            "|Cox,Conrad,,,,,,,...|\n",
            "|Curtis,Shannon,,,...|\n",
            "|Day,Preston,,,,,,...|\n",
            "|Dixon,Kelly,,,,,,...|\n",
            "|duPont,Victor,,,,...|\n",
            "|Erkenbrecher,Benj...|\n",
            "|Evans,Nancy,,,,,,...|\n",
            "|Ferrell,Joshua,,,...|\n",
            "|Finlay,Jasmine,,,...|\n",
            "|Green,Joshua,,,,,...|\n",
            "|Green,Michael,,,,...|\n",
            "|Hardin,Luke,,,,,,...|\n",
            "|Homer,Jeffrey,,,,...|\n",
            "|Homer,Matthew,,,,...|\n",
            "|Kane,Sara,,,,,,,,...|\n",
            "|Kellman,Niyah,,,,...|\n",
            "|Kellman,Nyree,,,,...|\n",
            "|Kirby,Emma,,,,,,,...|\n",
            "|Knox,Derrick,,,,,...|\n",
            "|Larnick,Nina,,,,,...|\n",
            "|Laurent,Joanne,,,...|\n",
            "|Lee,Arman,,,,,,,,...|\n",
            "+--------------------+\n",
            "only showing top 30 rows\n",
            "\n"
          ]
        }
      ]
    },
    {
      "cell_type": "markdown",
      "source": [
        "# 2.A\n",
        "The 5 most frequent visitors (NAMELAST, NAMEFIRST, NAMEMID) to the\n",
        "White House.\n"
      ],
      "metadata": {
        "id": "3t0I-tCYtbVU"
      }
    },
    {
      "cell_type": "code",
      "source": [
        "visitors_df = visitors_df.select(\"_c0\")\n",
        "visitor_counts = visitors_df.groupBy(\"_c0\").count()\n",
        "top_visitors = visitor_counts.orderBy(visitor_counts[\"count\"].desc()).limit(5)\n",
        "top_visitors.show()\n"
      ],
      "metadata": {
        "id": "FyRzPzzmQIc1",
        "outputId": "b00b8a74-07cb-447e-8907-c8af3c137828",
        "colab": {
          "base_uri": "https://localhost:8080/"
        }
      },
      "execution_count": 82,
      "outputs": [
        {
          "output_type": "stream",
          "name": "stdout",
          "text": [
            "+--------------------+-----+\n",
            "|                 _c0|count|\n",
            "+--------------------+-----+\n",
            "|BARRAZA,ALEJANDRO...|    3|\n",
            "|SMITH,WALTER,H,U0...|    3|\n",
            "|HOLLY,KHUFU,M,U14...|    2|\n",
            "|ALMADA,GRACIELA,,...|    2|\n",
            "|CARSON,JOHN,C,OPE...|    2|\n",
            "+--------------------+-----+\n",
            "\n"
          ]
        }
      ]
    },
    {
      "cell_type": "markdown",
      "source": [
        "# 2.B\n",
        "The 5 most frequently visited people (VISITEE_NAMELAST, VISITEE_NAMEFIRST)\n",
        "in the White House."
      ],
      "metadata": {
        "id": "W3abdO6NSJaq"
      }
    },
    {
      "cell_type": "code",
      "source": [
        "from pyspark.sql import SparkSession\n",
        "from pyspark.sql.functions import concat_ws, count\n",
        "\n",
        "visitor_counts = visitors_df .groupBy(\"_c0\").agg(count(\"*\").alias(\"visit_count\"))\n",
        "top_5_visitors = visitor_counts.orderBy(\"visit_count\", ascending=False).limit(5)\n",
        "\n",
        "print(\"The 5 most frequent visitors to the White House:\")\n",
        "top_5_visitors.show(truncate=False)\n",
        "\n",
        "\n",
        "spark.stop()"
      ],
      "metadata": {
        "id": "xP7c-1MIRTqQ",
        "outputId": "8c466c9b-7dd8-463f-da6c-b390e6df60c7",
        "colab": {
          "base_uri": "https://localhost:8080/"
        }
      },
      "execution_count": 83,
      "outputs": [
        {
          "output_type": "stream",
          "name": "stdout",
          "text": [
            "The 5 most frequent visitors to the White House:\n",
            "+---------------------------------------------------------------------------------------------------------------------------------------------------------------------------------------------------------------------+-----------+\n",
            "|_c0                                                                                                                                                                                                                  |visit_count|\n",
            "+---------------------------------------------------------------------------------------------------------------------------------------------------------------------------------------------------------------------+-----------+\n",
            "|BARRAZA,ALEJANDRO,,U08957,,VA,,,,,05/21/2010 02:44:00 PM,5/28/10 11:00,5/28/10 23:59,,230,B9,WIN,5/21/10 14:44,B9,OFFICE,VISITORS,WH,RESIDENCE,OFFICE,VISITORS,,TOURS ,08/27/2010 07:00:00 AM +0000                  |3          |\n",
            "|SMITH,WALTER,H,U03679,,VA,,,,,05/13/2010 11:34:00 AM,5/13/10 13:30,5/13/10 23:59,,320,LC,WIN,5/13/10 11:34,LC,COLO,CATRINA,WH,RESIDENCE,COLO,CATRINA,,POLICE WEEK TOUR /,08/27/2010 07:00:00 AM +0000                |3          |\n",
            "|HOLLY,KHUFU,M,U14208,,VA,,,,,06/14/2010 02:33:00 PM,6/15/10 7:30,6/15/10 23:59,,384,SL,WIN,6/14/10 14:33,SL,OFFICE,VISITORS,WH,RES,OFFICE,VISITORS,,,09/24/2010 07:00:00 AM +0000                                    |2          |\n",
            "|ALMADA,GRACIELA,,U14155,,VA,,,,,06/15/2010 05:23:00 PM,6/17/10 16:00,6/17/10 23:59,,466,T1,WIN,6/15/10 17:23,T1,OFFICE,VISITORS,WH,RES,OFFICE,VISITORS,,,09/24/2010 07:00:00 AM +0000                                |2          |\n",
            "|CARSON,JOHN,C,OPEN04,,AL,,,,,12/03/2009 09:09:00 AM,12/4/09 20:00,12/4/09 16:00,,1772,DC,WIN,12/3/09 9:09,DC,OFFICE,VISITORS,WH,RESIDENCE,OFFICE,VISITORS,RESIDENCE,HOLIDAY OPEN HOUSE/ ,03/26/2010 07:00:00 AM +0000|2          |\n",
            "+---------------------------------------------------------------------------------------------------------------------------------------------------------------------------------------------------------------------+-----------+\n",
            "\n"
          ]
        }
      ]
    }
  ]
}