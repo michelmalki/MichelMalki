{
  "nbformat": 4,
  "nbformat_minor": 0,
  "metadata": {
    "colab": {
      "provenance": [],
      "authorship_tag": "ABX9TyOKcVWAQxzF0v+ArIv0Zw/p",
      "include_colab_link": true
    },
    "kernelspec": {
      "name": "python3",
      "display_name": "Python 3"
    },
    "language_info": {
      "name": "python"
    }
  },
  "cells": [
    {
      "cell_type": "markdown",
      "metadata": {
        "id": "view-in-github",
        "colab_type": "text"
      },
      "source": [
        "<a href=\"https://colab.research.google.com/github/michelmalki/MichelMalki/blob/main/Equilibrium.ipynb\" target=\"_parent\"><img src=\"https://colab.research.google.com/assets/colab-badge.svg\" alt=\"Open In Colab\"/></a>"
      ]
    },
    {
      "cell_type": "code",
      "source": [
        "import numpy as np\n",
        "from scipy.optimize import minimize\n",
        "\n",
        "def investor1_payoff(quantity):\n",
        "    return - (quantity[0] - 20) ** 2 + 50\n",
        "\n",
        "def investor2_payoff(quantity):\n",
        "    return - (quantity[0] - 10) ** 2 + 20\n",
        "\n",
        "def investor1_equilibrium_condition(quantity):\n",
        "    return -2 * (quantity[0] - 20)\n",
        "\n",
        "def investor2_equilibrium_condition(quantity):\n",
        "    return -2 * (quantity[0] - 10)\n",
        "\n",
        "# Initial guess for quantity\n",
        "initial_quantity = np.array([3.0])\n",
        "\n",
        "# Optimize for Nash equilibrium\n",
        "investor1_solution = minimize(investor1_equilibrium_condition, initial_quantity, method='SLSQP')\n",
        "investor2_solution = minimize(investor2_equilibrium_condition, initial_quantity, method='SLSQP')\n",
        "\n",
        "print(\"Investor 1 equilibrium Quantity:\", investor1_solution.x[0])\n",
        "print(\"Investor 2 equilibrium Quantity:\", investor2_solution.x[0])\n"
      ],
      "metadata": {
        "colab": {
          "base_uri": "https://localhost:8080/"
        },
        "id": "UpYbJ2L6wHRT",
        "outputId": "196ae1ea-8a3b-47f3-8f59-40034b2e01fd"
      },
      "execution_count": 14,
      "outputs": [
        {
          "output_type": "stream",
          "name": "stdout",
          "text": [
            "Investor 1 equilibrium Quantity: 5960464477539015.0\n",
            "Investor 2 equilibrium Quantity: 5960464477539015.0\n"
          ]
        }
      ]
    }
  ]
}