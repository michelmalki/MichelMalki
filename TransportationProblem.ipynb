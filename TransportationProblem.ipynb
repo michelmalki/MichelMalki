{
  "nbformat": 4,
  "nbformat_minor": 0,
  "metadata": {
    "colab": {
      "provenance": [],
      "include_colab_link": true
    },
    "kernelspec": {
      "name": "python3",
      "display_name": "Python 3"
    },
    "language_info": {
      "name": "python"
    }
  },
  "cells": [
    {
      "cell_type": "markdown",
      "metadata": {
        "id": "view-in-github",
        "colab_type": "text"
      },
      "source": [
        "<a href=\"https://colab.research.google.com/github/michelmalki/MichelMalki/blob/main/TransportationProblem.ipynb\" target=\"_parent\"><img src=\"https://colab.research.google.com/assets/colab-badge.svg\" alt=\"Open In Colab\"/></a>"
      ]
    },
    {
      "cell_type": "code",
      "execution_count": null,
      "metadata": {
        "id": "28fqszfaCxIA"
      },
      "outputs": [],
      "source": []
    },
    {
      "cell_type": "code",
      "source": [
        "!apt-get install -y -qq glpk-utils # installing a solver FIRST"
      ],
      "metadata": {
        "id": "LAVtv8iccOc4",
        "colab": {
          "base_uri": "https://localhost:8080/"
        },
        "outputId": "9d3fc85c-1181-428b-8ec4-b034d65bba01"
      },
      "execution_count": null,
      "outputs": [
        {
          "output_type": "stream",
          "name": "stdout",
          "text": [
            "Selecting previously unselected package libsuitesparseconfig5:amd64.\n",
            "(Reading database ... 121747 files and directories currently installed.)\n",
            "Preparing to unpack .../libsuitesparseconfig5_1%3a5.10.1+dfsg-4build1_amd64.deb ...\n",
            "Unpacking libsuitesparseconfig5:amd64 (1:5.10.1+dfsg-4build1) ...\n",
            "Selecting previously unselected package libamd2:amd64.\n",
            "Preparing to unpack .../libamd2_1%3a5.10.1+dfsg-4build1_amd64.deb ...\n",
            "Unpacking libamd2:amd64 (1:5.10.1+dfsg-4build1) ...\n",
            "Selecting previously unselected package libcolamd2:amd64.\n",
            "Preparing to unpack .../libcolamd2_1%3a5.10.1+dfsg-4build1_amd64.deb ...\n",
            "Unpacking libcolamd2:amd64 (1:5.10.1+dfsg-4build1) ...\n",
            "Selecting previously unselected package libglpk40:amd64.\n",
            "Preparing to unpack .../libglpk40_5.0-1_amd64.deb ...\n",
            "Unpacking libglpk40:amd64 (5.0-1) ...\n",
            "Selecting previously unselected package glpk-utils.\n",
            "Preparing to unpack .../glpk-utils_5.0-1_amd64.deb ...\n",
            "Unpacking glpk-utils (5.0-1) ...\n",
            "Setting up libsuitesparseconfig5:amd64 (1:5.10.1+dfsg-4build1) ...\n",
            "Setting up libamd2:amd64 (1:5.10.1+dfsg-4build1) ...\n",
            "Setting up libcolamd2:amd64 (1:5.10.1+dfsg-4build1) ...\n",
            "Setting up libglpk40:amd64 (5.0-1) ...\n",
            "Setting up glpk-utils (5.0-1) ...\n",
            "Processing triggers for man-db (2.10.2-1) ...\n",
            "Processing triggers for libc-bin (2.35-0ubuntu3.4) ...\n",
            "/sbin/ldconfig.real: /usr/local/lib/libtbbbind.so.3 is not a symbolic link\n",
            "\n",
            "/sbin/ldconfig.real: /usr/local/lib/libtbbmalloc_proxy.so.2 is not a symbolic link\n",
            "\n",
            "/sbin/ldconfig.real: /usr/local/lib/libtbbbind_2_5.so.3 is not a symbolic link\n",
            "\n",
            "/sbin/ldconfig.real: /usr/local/lib/libtbb.so.12 is not a symbolic link\n",
            "\n",
            "/sbin/ldconfig.real: /usr/local/lib/libtbbbind_2_0.so.3 is not a symbolic link\n",
            "\n",
            "/sbin/ldconfig.real: /usr/local/lib/libtbbmalloc.so.2 is not a symbolic link\n",
            "\n"
          ]
        }
      ]
    },
    {
      "cell_type": "code",
      "source": [
        "!pip install -q pyomo # install pyomo SECOND to find that solver"
      ],
      "metadata": {
        "id": "hKvlCqkfbCUG",
        "colab": {
          "base_uri": "https://localhost:8080/"
        },
        "outputId": "6e3766eb-11d5-4243-c146-f9b82db104c8"
      },
      "execution_count": null,
      "outputs": [
        {
          "output_type": "stream",
          "name": "stdout",
          "text": [
            "\u001b[2K     \u001b[90m━━━━━━━━━━━━━━━━━━━━━━━━━━━━━━━━━━━━━━━━\u001b[0m \u001b[32m12.5/12.5 MB\u001b[0m \u001b[31m33.6 MB/s\u001b[0m eta \u001b[36m0:00:00\u001b[0m\n",
            "\u001b[2K     \u001b[90m━━━━━━━━━━━━━━━━━━━━━━━━━━━━━━━━━━━━━━━━\u001b[0m \u001b[32m49.6/49.6 kB\u001b[0m \u001b[31m4.7 MB/s\u001b[0m eta \u001b[36m0:00:00\u001b[0m\n",
            "\u001b[?25h"
          ]
        }
      ]
    },
    {
      "cell_type": "code",
      "execution_count": null,
      "metadata": {
        "id": "lDU-ku2aIzw6",
        "nbpages": {
          "level": 3,
          "link": "[6.4.4.5 Step 5. Display the solution.](https://jckantor.github.io/CBE30338/06.04-Linear-Production-Model-in-Pyomo.html#6.4.4.5-Step-5.-Display-the-solution.)",
          "section": "6.4.4.5 Step 5. Display the solution."
        },
        "outputId": "9831c09c-58ca-4a37-f96f-5244663faa03",
        "colab": {
          "base_uri": "https://localhost:8080/"
        }
      },
      "outputs": [
        {
          "output_type": "stream",
          "name": "stdout",
          "text": [
            "# ==========================================================\n",
            "# = Solver Results                                         =\n",
            "# ==========================================================\n",
            "# ----------------------------------------------------------\n",
            "#   Problem Information\n",
            "# ----------------------------------------------------------\n",
            "Problem: \n",
            "- Name: unknown\n",
            "  Lower bound: 11900.0\n",
            "  Upper bound: 11900.0\n",
            "  Number of objectives: 1\n",
            "  Number of constraints: 5\n",
            "  Number of variables: 6\n",
            "  Number of nonzeros: 12\n",
            "  Sense: minimize\n",
            "# ----------------------------------------------------------\n",
            "#   Solver Information\n",
            "# ----------------------------------------------------------\n",
            "Solver: \n",
            "- Status: ok\n",
            "  Termination condition: optimal\n",
            "  Statistics: \n",
            "    Branch and bound: \n",
            "      Number of bounded subproblems: 0\n",
            "      Number of created subproblems: 0\n",
            "  Error rc: 0\n",
            "  Time: 0.005948305130004883\n",
            "# ----------------------------------------------------------\n",
            "#   Solution Information\n",
            "# ----------------------------------------------------------\n",
            "Solution: \n",
            "- number of solutions: 0\n",
            "  number of solutions displayed: 0\n",
            "5 Set Declarations\n",
            "    destination_index : Size=1, Index=None, Ordered=Insertion\n",
            "        Key  : Dimen : Domain : Size : Members\n",
            "        None :     1 :    Any :    3 : {1, 2, 3}\n",
            "    origin_index : Size=1, Index=None, Ordered=Insertion\n",
            "        Key  : Dimen : Domain : Size : Members\n",
            "        None :     1 :    Any :    2 : {1, 2}\n",
            "    x_index : Size=1, Index=None, Ordered=True\n",
            "        Key  : Dimen : Domain              : Size : Members\n",
            "        None :     2 : x_index_0*x_index_1 :    6 : {(1, 1), (1, 2), (1, 3), (2, 1), (2, 2), (2, 3)}\n",
            "    x_index_0 : Size=1, Index=None, Ordered=Insertion\n",
            "        Key  : Dimen : Domain : Size : Members\n",
            "        None :     1 :    Any :    2 : {1, 2}\n",
            "    x_index_1 : Size=1, Index=None, Ordered=Insertion\n",
            "        Key  : Dimen : Domain : Size : Members\n",
            "        None :     1 :    Any :    3 : {1, 2, 3}\n",
            "\n",
            "1 Var Declarations\n",
            "    x : Size=6, Index=x_index\n",
            "        Key    : Lower : Value : Upper : Fixed : Stale : Domain\n",
            "        (1, 1) :     0 : 200.0 :  None : False : False : NonNegativeReals\n",
            "        (1, 2) :     0 :   0.0 :  None : False : False : NonNegativeReals\n",
            "        (1, 3) :     0 : 300.0 :  None : False : False : NonNegativeReals\n",
            "        (2, 1) :     0 : 200.0 :  None : False : False : NonNegativeReals\n",
            "        (2, 2) :     0 : 200.0 :  None : False : False : NonNegativeReals\n",
            "        (2, 3) :     0 :   0.0 :  None : False : False : NonNegativeReals\n",
            "\n",
            "1 Objective Declarations\n",
            "    obj : Size=1, Index=None, Active=True\n",
            "        Key  : Active : Sense    : Expression\n",
            "        None :   True : minimize : 10*x[1,1] + 20*x[1,2] + 15*x[1,3] + 12*x[2,1] + 15*x[2,2] + 18*x[2,3]\n",
            "\n",
            "2 Constraint Declarations\n",
            "    destination : Size=3, Index=destination_index, Active=True\n",
            "        Key : Lower : Body            : Upper : Active\n",
            "          1 : 400.0 : x[1,1] + x[2,1] : 400.0 :   True\n",
            "          2 : 200.0 : x[1,2] + x[2,2] : 200.0 :   True\n",
            "          3 : 300.0 : x[1,3] + x[2,3] : 300.0 :   True\n",
            "    origin : Size=2, Index=origin_index, Active=True\n",
            "        Key : Lower : Body                     : Upper : Active\n",
            "          1 :  -Inf : x[1,1] + x[1,2] + x[1,3] : 500.0 :   True\n",
            "          2 :  -Inf : x[2,1] + x[2,2] + x[2,3] : 400.0 :   True\n",
            "\n",
            "9 Declarations: x_index_0 x_index_1 x_index x obj origin_index origin destination_index destination\n",
            "\n",
            "Cost =  11900.0\n",
            "\n",
            "Decision Variables\n",
            "x[1,1] =  200.0\n",
            "x[1,2] =  0.0\n",
            "x[1,3] =  300.0\n",
            "x[2,1] =  200.0\n",
            "x[2,2] =  200.0\n",
            "x[2,3] =  0.0\n",
            "\n",
            "Constraints\n",
            "Origin Points  =  [500.0, 400.0]\n",
            "Destination Points =  [400.0, 200.0, 300.0]\n"
          ]
        }
      ],
      "source": [
        "from pyomo.environ import *  # as a third step run the code\n",
        "\n",
        "# Concrete Model version of the Transportation Problem\n",
        "\n",
        "model = ConcreteModel(name=\"(TP)\")\n",
        "N= [1,2]\n",
        "M= [1,2,3]\n",
        "t={(1,1):10,\n",
        "   (1,2):20,\n",
        "   (1,3):15,\n",
        "   (2,1):12,\n",
        "   (2,2):15,\n",
        "   (2,3):18}\n",
        "C=[500,400]\n",
        "D=[400,200,300]\n",
        "# declare decision variables\n",
        "model.x = Var(N,M,domain=NonNegativeReals)\n",
        "\n",
        "# declare objective\n",
        "def obj_rule(mdl):\n",
        "  return sum(t[n,m]*model.x[n,m] for n in N for m in M)\n",
        "model.obj = Objective(rule=obj_rule)\n",
        "\n",
        "# declare constraints\n",
        "def origin_rule(mdl,n):\n",
        "  return sum(model.x[n,m] for m in M) <= C[n-1]\n",
        "model.origin = Constraint(N,rule=origin_rule)\n",
        "def destination_rule(mdl,m):\n",
        "  return sum (model.x[n,m] for n in N) == D[m-1]\n",
        "model.destination = Constraint(M,rule=destination_rule)\n",
        "\n",
        "# solve\n",
        "results = SolverFactory('glpk').solve(model)\n",
        "results.write()\n",
        "if results.solver.status:\n",
        "    model.pprint()\n",
        "\n",
        "# display solution\n",
        "print('\\nCost = ', model.obj())\n",
        "\n",
        "print('\\nDecision Variables')\n",
        "for n in N:\n",
        "    for m in M:\n",
        "        print(f'x[{n},{m}] = ', model.x[n,m].value)\n",
        "\n",
        "print('\\nConstraints')\n",
        "print('Origin Points  = ', [model.origin[n]() for n in N])\n",
        "print('Destination Points = ', [model.destination[m]() for m in M])"
      ]
    }
  ]
}