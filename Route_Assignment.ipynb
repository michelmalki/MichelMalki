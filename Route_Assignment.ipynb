{
  "nbformat": 4,
  "nbformat_minor": 0,
  "metadata": {
    "colab": {
      "provenance": [],
      "authorship_tag": "ABX9TyNVDoUhh6/O37rCPYVEJOKQ",
      "include_colab_link": true
    },
    "kernelspec": {
      "name": "python3",
      "display_name": "Python 3"
    },
    "language_info": {
      "name": "python"
    }
  },
  "cells": [
    {
      "cell_type": "markdown",
      "metadata": {
        "id": "view-in-github",
        "colab_type": "text"
      },
      "source": [
        "<a href=\"https://colab.research.google.com/github/michelmalki/MichelMalki/blob/main/Route_Assignment.ipynb\" target=\"_parent\"><img src=\"https://colab.research.google.com/assets/colab-badge.svg\" alt=\"Open In Colab\"/></a>"
      ]
    },
    {
      "source": [
        "!pip install pandas"
      ],
      "cell_type": "code",
      "metadata": {
        "colab": {
          "base_uri": "https://localhost:8080/"
        },
        "id": "2bTac0tXvlSA",
        "outputId": "f2e02fc5-9380-4d9b-8aa7-d3fc1409f28f"
      },
      "execution_count": 2,
      "outputs": [
        {
          "output_type": "stream",
          "name": "stdout",
          "text": [
            "Requirement already satisfied: pandas in /usr/local/lib/python3.10/dist-packages (1.5.3)\n",
            "Requirement already satisfied: python-dateutil>=2.8.1 in /usr/local/lib/python3.10/dist-packages (from pandas) (2.8.2)\n",
            "Requirement already satisfied: pytz>=2020.1 in /usr/local/lib/python3.10/dist-packages (from pandas) (2023.4)\n",
            "Requirement already satisfied: numpy>=1.21.0 in /usr/local/lib/python3.10/dist-packages (from pandas) (1.23.5)\n",
            "Requirement already satisfied: six>=1.5 in /usr/local/lib/python3.10/dist-packages (from python-dateutil>=2.8.1->pandas) (1.16.0)\n"
          ]
        }
      ]
    },
    {
      "cell_type": "code",
      "source": [
        "import pandas as pd\n",
        "\n",
        "# Sample data (replace with your actual data)\n",
        "drivers = pd.DataFrame({\n",
        "    \"Name\": [\"Driver1\", \"Driver2\", \"Driver3\"],\n",
        "    \"Available\": [True, False, True],\n",
        "    \"Vehicle\": [\"Truck\", \"Van\", \"Truck\"],\n",
        "    \"Skills\": [\"Long Haul\", \"Short Distance\", \"Both\"],\n",
        "    \"Workload\": ['High', 'Medium', 'Low']\n",
        "})\n",
        "\n",
        "routes = pd.DataFrame({\n",
        "    \"ID\": [1, 2, 3],\n",
        "    \"Distance\": [200, 100, 150],\n",
        "    \"Vehicle\": [\"Truck\", \"Van\", \"Truck\"],\n",
        "    \"Skills\": [\"Long Haul\", \"Short Distance\", \"Long Haul\"]\n",
        "})\n",
        "\n",
        "def assign_route(driver, route):\n",
        "    # Check availability and vehicle compatibility\n",
        "    if not driver[\"Available\"] or driver[\"Vehicle\"] != route[\"Vehicle\"]:\n",
        "        return None\n",
        "\n",
        "    # Check skills (simplified example)\n",
        "    if driver[\"Skills\"] != route[\"Skills\"] and driver[\"Skills\"] != \"Both\":\n",
        "        return None\n",
        "\n",
        "    # Consider workload (simplified example)\n",
        "    if driver[\"Workload\"] == \"High\" and route[\"Distance\"] > 100:\n",
        "        return None\n",
        "\n",
        "    # If all conditions pass, assign the route\n",
        "    return {\"Driver\": driver[\"Name\"], \"Route\": route[\"ID\"]}\n",
        "\n",
        "# Create an empty list to store assignments\n",
        "assignments = []\n",
        "\n",
        "# Iterate through drivers and routes\n",
        "for driver_idx in drivers.index:\n",
        "    for route_idx in routes.index:\n",
        "        assignment = assign_route(drivers.iloc[driver_idx], routes.iloc[route_idx])\n",
        "        if assignment:\n",
        "            assignments.append(assignment)\n",
        "\n",
        "# Print the assignments\n",
        "print(pd.DataFrame(assignments))"
      ],
      "metadata": {
        "colab": {
          "base_uri": "https://localhost:8080/"
        },
        "id": "LiHPTnfrxRSI",
        "outputId": "a1103a69-8ff1-45e6-8f27-f496aa3f8e1d"
      },
      "execution_count": 15,
      "outputs": [
        {
          "output_type": "stream",
          "name": "stdout",
          "text": [
            "    Driver  Route\n",
            "0  Driver3      1\n",
            "1  Driver3      3\n"
          ]
        }
      ]
    },
    {
      "cell_type": "code",
      "source": [
        "import pandas as pd\n",
        "import random\n",
        "\n",
        "# Sample data (replace with your actual data)\n",
        "drivers = pd.DataFrame({\n",
        "    \"Name\": [\"Driver1\", \"Driver2\", \"Driver3\", \"Marion\"],\n",
        "    \"Workload\": [150, 220, 180, 120],  # Total distance/duration/difficulty in past weeks\n",
        "    \"Skills\": [\"A,C\", \"B,C\", \"A,B\", \"A,B,C\"]\n",
        "})\n",
        "\n",
        "routes = pd.DataFrame({\n",
        "    \"ID\": [1, 2, 3, 4],\n",
        "    \"Skills\": [\"A,C\", \"B\", \"A,B\", \"C\"]\n",
        "})\n",
        "\n",
        "# Define threshold for high workload\n",
        "workload_threshold = 180\n",
        "\n",
        "# Identify drivers with high workload and suitable skills for Marion's routes\n",
        "high_workload_drivers = drivers[drivers[\"Workload\"] > workload_threshold]\n",
        "suitable_drivers = high_workload_drivers[high_workload_drivers[\"Skills\"].str.contains(\"A,B\")]\n",
        "\n",
        "# Create a rotation pool\n",
        "rotation_pool = suitable_drivers[\"Name\"].tolist()\n",
        "\n",
        "# Check if there are any suitable drivers\n",
        "\n",
        "for driver in suitable_drivers.itertuples():\n",
        "    if driver.Name != selected_driver:\n",
        "        # Find suitable route for other high-workload drivers\n",
        "        new_route = routes[(routes[\"Skills\"].str.contains(driver.Skills)) &\n",
        "                         (routes[\"Driver\"] != driver.Name) &\n",
        "                         (routes[\"Driver\"].isna())].iloc[0]\n",
        "        routes.loc[new_route.index, \"Driver\"] = driver.Name\n",
        "\n",
        "# Print the assignments\n",
        "print(routes)"
      ],
      "metadata": {
        "colab": {
          "base_uri": "https://localhost:8080/"
        },
        "id": "uOrZMzOVDRYC",
        "outputId": "54fa629b-7216-434d-88af-51fa16567359"
      },
      "execution_count": 20,
      "outputs": [
        {
          "output_type": "stream",
          "name": "stdout",
          "text": [
            "   ID Skills\n",
            "0   1    A,C\n",
            "1   2      B\n",
            "2   3    A,B\n",
            "3   4      C\n"
          ]
        }
      ]
    }
  ]
}