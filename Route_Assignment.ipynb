{
  "nbformat": 4,
  "nbformat_minor": 0,
  "metadata": {
    "colab": {
      "provenance": [],
      "authorship_tag": "ABX9TyPPYbqzv3z4yWEwGC8YN1fi",
      "include_colab_link": true
    },
    "kernelspec": {
      "name": "python3",
      "display_name": "Python 3"
    },
    "language_info": {
      "name": "python"
    }
  },
  "cells": [
    {
      "cell_type": "markdown",
      "metadata": {
        "id": "view-in-github",
        "colab_type": "text"
      },
      "source": [
        "<a href=\"https://colab.research.google.com/github/michelmalki/MichelMalki/blob/main/Route_Assignment.ipynb\" target=\"_parent\"><img src=\"https://colab.research.google.com/assets/colab-badge.svg\" alt=\"Open In Colab\"/></a>"
      ]
    },
    {
      "source": [
        "!pip install pandas"
      ],
      "cell_type": "code",
      "metadata": {
        "colab": {
          "base_uri": "https://localhost:8080/"
        },
        "id": "2bTac0tXvlSA",
        "outputId": "53a0e9d8-3ac2-41be-97c1-1e404e27f4c5"
      },
      "execution_count": 60,
      "outputs": [
        {
          "output_type": "stream",
          "name": "stdout",
          "text": [
            "Requirement already satisfied: pandas in /usr/local/lib/python3.10/dist-packages (1.5.3)\n",
            "Requirement already satisfied: python-dateutil>=2.8.1 in /usr/local/lib/python3.10/dist-packages (from pandas) (2.8.2)\n",
            "Requirement already satisfied: pytz>=2020.1 in /usr/local/lib/python3.10/dist-packages (from pandas) (2023.4)\n",
            "Requirement already satisfied: numpy>=1.21.0 in /usr/local/lib/python3.10/dist-packages (from pandas) (1.23.5)\n",
            "Requirement already satisfied: six>=1.5 in /usr/local/lib/python3.10/dist-packages (from python-dateutil>=2.8.1->pandas) (1.16.0)\n"
          ]
        }
      ]
    },
    {
      "cell_type": "code",
      "source": [
        "import pandas as pd\n",
        "\n",
        "drivers = pd.DataFrame({\n",
        "    \"Name\": [\"Driver1\", \"Driver2\", \"Driver3\"],\n",
        "    \"Available\": [True, False, True],\n",
        "    \"Skills\": [\"Long Haul\", \"Short Distance\", \"Both\"],\n",
        "    \"Workload\": ['High', 'Medium', 'Low']\n",
        "})\n",
        "\n",
        "routes = pd.DataFrame({\n",
        "    \"ID\": [1250, 222, 34503],\n",
        "    \"Distance\": [100, 150, 200],\n",
        "    \"Skills\": [\"Long Haul\", \"Short Distance\", \"Long Haul\"]\n",
        "})\n",
        "\n",
        "def assign_route(driver, route):\n",
        "\n",
        "    if driver[\"Skills\"] != route[\"Skills\"] and driver[\"Skills\"] != \"Both\":\n",
        "        return None\n",
        "\n",
        "    if driver[\"Workload\"] == \"Low\" and route[\"Distance\"] > 100:\n",
        "        return None\n",
        "    return {\"Driver\": driver[\"Name\"], \"Route\": route[\"ID\"]}\n",
        "\n",
        "assignments = []\n",
        "\n",
        "for driver_idx in drivers.index:\n",
        "    for route_idx in routes.index:\n",
        "        assignment = assign_route(drivers.iloc[driver_idx], routes.iloc[route_idx])\n",
        "        if assignment:\n",
        "            assignments.append(assignment)\n",
        "print(pd.DataFrame(assignments))"
      ],
      "metadata": {
        "colab": {
          "base_uri": "https://localhost:8080/"
        },
        "id": "LiHPTnfrxRSI",
        "outputId": "62fd87a8-dd33-486d-fc07-86778af23034"
      },
      "execution_count": 62,
      "outputs": [
        {
          "output_type": "stream",
          "name": "stdout",
          "text": [
            "    Driver  Route\n",
            "0  Driver1   1250\n",
            "1  Driver1  34503\n",
            "2  Driver2    222\n",
            "3  Driver3   1250\n"
          ]
        }
      ]
    }
  ]
}