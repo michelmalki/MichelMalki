{
  "nbformat": 4,
  "nbformat_minor": 0,
  "metadata": {
    "colab": {
      "provenance": [],
      "authorship_tag": "ABX9TyMPqZBcwJL+IzHAsi6+zegE",
      "include_colab_link": true
    },
    "kernelspec": {
      "name": "python3",
      "display_name": "Python 3"
    },
    "language_info": {
      "name": "python"
    }
  },
  "cells": [
    {
      "cell_type": "markdown",
      "metadata": {
        "id": "view-in-github",
        "colab_type": "text"
      },
      "source": [
        "<a href=\"https://colab.research.google.com/github/michelmalki/MichelMalki/blob/main/Drone.ipynb\" target=\"_parent\"><img src=\"https://colab.research.google.com/assets/colab-badge.svg\" alt=\"Open In Colab\"/></a>"
      ]
    },
    {
      "cell_type": "code",
      "execution_count": 12,
      "metadata": {
        "colab": {
          "base_uri": "https://localhost:8080/"
        },
        "id": "loMoxobNg6g5",
        "outputId": "c5fc638d-f869-4453-cf8a-1afc952754c8"
      },
      "outputs": [
        {
          "output_type": "stream",
          "name": "stdout",
          "text": [
            "Drone 1: Altitude=120, Lateral Position=0, Longitudinal Position=0\n",
            "Drone 2: Altitude=120, Lateral Position=10, Longitudinal Position=15\n",
            "Drone 3: Altitude=120, Lateral Position=20, Longitudinal Position=30\n",
            "Drone 4: Altitude=120, Lateral Position=30, Longitudinal Position=45\n",
            "Drone 5: Altitude=120, Lateral Position=40, Longitudinal Position=60\n"
          ]
        }
      ],
      "source": [
        "class Drone:\n",
        "    def __init__(self, id, altitude, lateral_position, longitudinal_position):\n",
        "        self.id = id\n",
        "        self.altitude = altitude\n",
        "        self.lateral_position = lateral_position\n",
        "        self.longitudinal_position = longitudinal_position\n",
        "\n",
        "def set_altitude(drones, common_altitude):\n",
        "    for drone in drones:\n",
        "        drone.altitude = common_altitude\n",
        "\n",
        "def set_lateral_spacing(drones, lateral_spacing):\n",
        "    for i in range(1, len(drones)):\n",
        "        drones[i].lateral_position = drones[i-1].lateral_position + lateral_spacing\n",
        "\n",
        "def set_longitudinal_separation(drones, safe_distance):\n",
        "    for i in range(1, len(drones)):\n",
        "        drones[i].longitudinal_position = drones[i-1].longitudinal_position + safe_distance\n",
        "\n",
        "\n",
        "drones = [\n",
        "    Drone(id=1, altitude=100, lateral_position=0, longitudinal_position=0),\n",
        "    Drone(id=2, altitude=100, lateral_position=0, longitudinal_position=10),\n",
        "    Drone(id=3, altitude=100, lateral_position=0, longitudinal_position=20),\n",
        "    Drone(id=4, altitude=100, lateral_position=0, longitudinal_position=30),\n",
        "    Drone(id=5, altitude=100, lateral_position=0, longitudinal_position=40),\n",
        "]\n",
        "\n",
        "\n",
        "common_altitude = 120\n",
        "lateral_spacing = 10\n",
        "safe_distance = 15\n",
        "\n",
        "set_altitude(drones, common_altitude)\n",
        "set_lateral_spacing(drones, lateral_spacing)\n",
        "set_longitudinal_separation(drones, safe_distance)\n",
        "\n",
        "\n",
        "for drone in drones:\n",
        "    print(f\"Drone {drone.id}: Altitude={drone.altitude}, Lateral Position={drone.lateral_position}, Longitudinal Position={drone.longitudinal_position}\")\n",
        "\n"
      ]
    }
  ]
}