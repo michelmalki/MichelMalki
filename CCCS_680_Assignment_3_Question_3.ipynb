{
  "nbformat": 4,
  "nbformat_minor": 0,
  "metadata": {
    "colab": {
      "provenance": [],
      "authorship_tag": "ABX9TyOHj0GH8Y7wDZS4Aszas78Z",
      "include_colab_link": true
    },
    "kernelspec": {
      "name": "python3",
      "display_name": "Python 3"
    },
    "language_info": {
      "name": "python"
    }
  },
  "cells": [
    {
      "cell_type": "markdown",
      "metadata": {
        "id": "view-in-github",
        "colab_type": "text"
      },
      "source": [
        "<a href=\"https://colab.research.google.com/github/michelmalki/MichelMalki/blob/main/CCCS_680_Assignment_3_Question_3.ipynb\" target=\"_parent\"><img src=\"https://colab.research.google.com/assets/colab-badge.svg\" alt=\"Open In Colab\"/></a>"
      ]
    },
    {
      "cell_type": "code",
      "execution_count": 199,
      "metadata": {
        "colab": {
          "base_uri": "https://localhost:8080/",
          "height": 589
        },
        "id": "65zWGlgbD4aM",
        "outputId": "1d0d76bf-e282-446d-cfbe-a9948906fe6c"
      },
      "outputs": [
        {
          "output_type": "stream",
          "name": "stdout",
          "text": [
            "\u001b[33m\r0% [Working]\u001b[0m\r            \rHit:1 https://cloud.r-project.org/bin/linux/ubuntu jammy-cran40/ InRelease\n",
            "Hit:2 https://developer.download.nvidia.com/compute/cuda/repos/ubuntu2204/x86_64  InRelease\n",
            "Hit:3 http://security.ubuntu.com/ubuntu jammy-security InRelease\n",
            "Hit:4 http://archive.ubuntu.com/ubuntu jammy InRelease\n",
            "Hit:5 http://archive.ubuntu.com/ubuntu jammy-updates InRelease\n",
            "Hit:6 http://archive.ubuntu.com/ubuntu jammy-backports InRelease\n",
            "Hit:7 https://ppa.launchpadcontent.net/deadsnakes/ppa/ubuntu jammy InRelease\n",
            "Ign:8 https://r2u.stat.illinois.edu/ubuntu jammy InRelease\n",
            "Hit:9 https://ppa.launchpadcontent.net/graphics-drivers/ppa/ubuntu jammy InRelease\n",
            "Hit:10 https://r2u.stat.illinois.edu/ubuntu jammy Release\n",
            "Hit:11 https://ppa.launchpadcontent.net/ubuntugis/ppa/ubuntu jammy InRelease\n",
            "Reading package lists... Done\n",
            "Building dependency tree... Done\n",
            "Reading state information... Done\n",
            "45 packages can be upgraded. Run 'apt list --upgradable' to see them.\n",
            "\u001b[1;33mW: \u001b[0mSkipping acquire of configured file 'main/source/Sources' as repository 'https://r2u.stat.illinois.edu/ubuntu jammy InRelease' does not seem to provide it (sources.list entry misspelt?)\u001b[0m\n",
            "Requirement already satisfied: pyspark in /usr/local/lib/python3.10/dist-packages (3.5.1)\n",
            "Requirement already satisfied: py4j==0.10.9.7 in /usr/local/lib/python3.10/dist-packages (from pyspark) (0.10.9.7)\n",
            "Requirement already satisfied: py4j in /usr/local/lib/python3.10/dist-packages (0.10.9.7)\n"
          ]
        },
        {
          "output_type": "execute_result",
          "data": {
            "text/plain": [
              "<pyspark.sql.session.SparkSession at 0x7d932e9dab90>"
            ],
            "text/html": [
              "\n",
              "            <div>\n",
              "                <p><b>SparkSession - in-memory</b></p>\n",
              "                \n",
              "        <div>\n",
              "            <p><b>SparkContext</b></p>\n",
              "\n",
              "            <p><a href=\"http://405e5fe6689a:4040\">Spark UI</a></p>\n",
              "\n",
              "            <dl>\n",
              "              <dt>Version</dt>\n",
              "                <dd><code>v3.5.1</code></dd>\n",
              "              <dt>Master</dt>\n",
              "                <dd><code>local[*]</code></dd>\n",
              "              <dt>AppName</dt>\n",
              "                <dd><code>CCCS 680 Assignment 3 Question 3</code></dd>\n",
              "            </dl>\n",
              "        </div>\n",
              "        \n",
              "            </div>\n",
              "        "
            ]
          },
          "metadata": {},
          "execution_count": 199
        }
      ],
      "source": [
        "!sudo apt update\n",
        "!apt-get install openjdk-8-jdk-headless -qq > /dev/null\n",
        "!wget -q https://dlcdn.apache.org/spark/spark-3.5.1/spark-3.5.1-bin-hadoop3.tgz\n",
        "!tar xf spark-3.5.1-bin-hadoop3.tgz\n",
        "!pip install -q findspark\n",
        "!pip install pyspark\n",
        "!pip install py4j\n",
        "\n",
        "import os\n",
        "import sys\n",
        "\n",
        "import findspark\n",
        "findspark.init()\n",
        "findspark.find()\n",
        "\n",
        "import pyspark\n",
        "\n",
        "from pyspark.sql import DataFrame, SparkSession\n",
        "from typing import List\n",
        "import pyspark.sql.types as T\n",
        "import pyspark.sql.functions as F\n",
        "from pyspark.sql.functions import col, count\n",
        "\n",
        "spark= SparkSession \\\n",
        "       .builder \\\n",
        "       .appName(\"CCCS 680 Assignment 3 Question 3\") \\\n",
        "       .getOrCreate()\n",
        "\n",
        "spark"
      ]
    },
    {
      "cell_type": "code",
      "source": [
        "from google.colab import drive\n",
        "drive.mount('/content/drive', force_remount=True)"
      ],
      "metadata": {
        "colab": {
          "base_uri": "https://localhost:8080/"
        },
        "id": "vJTgIHLPEHmH",
        "outputId": "382e9699-c69d-4efa-94a7-a3ec5294103d"
      },
      "execution_count": 131,
      "outputs": [
        {
          "output_type": "stream",
          "name": "stdout",
          "text": [
            "Mounted at /content/drive\n"
          ]
        }
      ]
    },
    {
      "cell_type": "code",
      "source": [
        "access_log_df = spark.read.csv('/content/drive/My Drive/CCCS-680 Assignment 3/access_log.txt.gz', inferSchema=True, header=False, sep='\\t')"
      ],
      "metadata": {
        "id": "59yoWKf-EIeJ"
      },
      "execution_count": 200,
      "outputs": []
    },
    {
      "cell_type": "code",
      "source": [
        "access_log_df.show()"
      ],
      "metadata": {
        "colab": {
          "base_uri": "https://localhost:8080/"
        },
        "id": "H3L2hpU8JehL",
        "outputId": "c3839de3-f716-476a-e2f6-d3ca8b98456f"
      },
      "execution_count": 124,
      "outputs": [
        {
          "output_type": "stream",
          "name": "stdout",
          "text": [
            "+--------------------+\n",
            "|                 _c0|\n",
            "+--------------------+\n",
            "|10.223.157.186 - ...|\n",
            "|10.223.157.186 - ...|\n",
            "|10.223.157.186 - ...|\n",
            "|10.223.157.186 - ...|\n",
            "|10.223.157.186 - ...|\n",
            "|10.223.157.186 - ...|\n",
            "|10.223.157.186 - ...|\n",
            "|10.223.157.186 - ...|\n",
            "|10.223.157.186 - ...|\n",
            "|10.223.157.186 - ...|\n",
            "|10.223.157.186 - ...|\n",
            "|10.223.157.186 - ...|\n",
            "|10.223.157.186 - ...|\n",
            "|10.223.157.186 - ...|\n",
            "|10.223.157.186 - ...|\n",
            "|10.223.157.186 - ...|\n",
            "|10.223.157.186 - ...|\n",
            "|10.223.157.186 - ...|\n",
            "|10.223.157.186 - ...|\n",
            "|10.223.157.186 - ...|\n",
            "+--------------------+\n",
            "only showing top 20 rows\n",
            "\n"
          ]
        }
      ]
    },
    {
      "cell_type": "markdown",
      "source": [
        "## 3.A\n",
        "Display the number of hits for each different file on the web site"
      ],
      "metadata": {
        "id": "EDrg58syE8pN"
      }
    },
    {
      "cell_type": "code",
      "source": [
        "hits_df = access_log_df.groupBy(access_log_df._c0).count().orderBy(col('count'))\n",
        "hits_df.show(truncate=False)"
      ],
      "metadata": {
        "colab": {
          "base_uri": "https://localhost:8080/"
        },
        "id": "C4O6KAfAY83I",
        "outputId": "aaaf4df5-256b-4ae8-bb95-4f298087b19f"
      },
      "execution_count": 196,
      "outputs": [
        {
          "output_type": "stream",
          "name": "stdout",
          "text": [
            "+--------------------------------------------------------------------------------------------------------------------------+-----+\n",
            "|_c0                                                                                                                       |count|\n",
            "+--------------------------------------------------------------------------------------------------------------------------+-----+\n",
            "|10.223.157.186 - - [15/Jul/2009:15:50:35 -0700] \"GET /assets/js/the-associates.js HTTP/1.1\" 200 4492                      |1    |\n",
            "|10.223.157.186 - - [15/Jul/2009:20:50:33 -0700] \"GET /assets/img/home-logo.png HTTP/1.1\" 304 -                            |1    |\n",
            "|10.223.157.186 - - [15/Jul/2009:20:50:39 -0700] \"GET /favicon.ico HTTP/1.1\" 404 209                                       |1    |\n",
            "|10.82.30.199 - - [16/Jul/2009:03:00:29 -0700] \"GET /trailers/ HTTP/1.1\" 200 11508                                         |1    |\n",
            "|10.82.30.199 - - [16/Jul/2009:03:00:06 -0700] \"GET /assets/css/the-associates.css HTTP/1.1\" 200 15779                     |1    |\n",
            "|10.216.113.172 - - [16/Jul/2009:03:15:17 -0700] \"GET /assets/img/trailers-logo.png HTTP/1.1\" 200 3764                     |1    |\n",
            "|10.216.113.172 - - [16/Jul/2009:03:15:02 -0700] \"GET /assets/img/closelabel.gif HTTP/1.1\" 200 979                         |1    |\n",
            "|10.216.113.172 - - [28/Jul/2009:06:55:25 -0700] \"GET /assets/css/the-associates.css HTTP/1.1\" 304 -                       |1    |\n",
            "|10.216.113.172 - - [28/Jul/2009:06:52:50 -0700] \"GET /assets/js/lowpro.js HTTP/1.1\" 304 -                                 |1    |\n",
            "|10.216.113.172 - - [28/Jul/2009:06:55:36 -0700] \"GET /assets/css/reset.css HTTP/1.1\" 304 -                                |1    |\n",
            "|10.216.113.172 - - [28/Jul/2009:06:55:36 -0700] \"GET /assets/css/the-associates.css HTTP/1.1\" 304 -                       |1    |\n",
            "|10.211.47.159 - - [09/Aug/2009:21:38:56 -0700] \"GET /assets/img/dummy/secondary-news-1.jpg HTTP/1.1\" 304 -                |1    |\n",
            "|10.153.239.5 - - [29/Jul/2009:09:18:50 -0700] \"GET /assets/img/closelabel.gif HTTP/1.1\" 304 -                             |1    |\n",
            "|10.211.47.159 - - [10/Aug/2009:20:10:56 -0700] \"GET /images/filmpics/0000/0041/weirdsville1_thumb.jpeg HTTP/1.1\" 304 -    |1    |\n",
            "|10.153.239.5 - - [29/Jul/2009:09:20:07 -0700] \"GET /assets/img/home-logo.png HTTP/1.1\" 304 -                              |1    |\n",
            "|10.211.47.159 - - [10/Aug/2009:20:21:43 -0700] \"GET /assets/img/dummy/films/district-13/image-thumbs/1.jpg HTTP/1.1\" 304 -|1    |\n",
            "|10.82.30.199 - - [31/Jul/2009:13:20:54 -0700] \"GET /assets/img/search-button.gif HTTP/1.1\" 304 -                          |1    |\n",
            "|10.211.47.159 - - [10/Aug/2009:20:42:02 -0700] \"GET /assets/js/the-associates.js HTTP/1.1\" 304 -                          |1    |\n",
            "|10.211.47.159 - - [10/Aug/2009:19:57:35 -0700] \"GET /assets/js/the-associates.js HTTP/1.1\" 304 -                          |1    |\n",
            "|10.211.47.159 - - [10/Aug/2009:20:47:26 -0700] \"GET /assets/img/closelabel.gif HTTP/1.1\" 304 -                            |1    |\n",
            "+--------------------------------------------------------------------------------------------------------------------------+-----+\n",
            "only showing top 20 rows\n",
            "\n"
          ]
        }
      ]
    },
    {
      "cell_type": "markdown",
      "source": [
        "# 3.B\n",
        "Determine the number of hits to the site made by each different IP address"
      ],
      "metadata": {
        "id": "HPz3VWjzLhlg"
      }
    },
    {
      "cell_type": "code",
      "source": [
        "from pyspark.sql import SparkSession\n",
        "from pyspark.sql.functions import regexp_extract, col\n",
        "\n",
        "hits_df = access_log_df.groupBy('_c0').count().orderBy(col('count').desc())\n",
        "\n",
        "print(\"Hits from each IP address:\")\n",
        "hits_df.show(truncate=False)\n",
        "unique_ip_count = hits_df.count()\n",
        "spark.stop()"
      ],
      "metadata": {
        "colab": {
          "base_uri": "https://localhost:8080/"
        },
        "id": "NywIvslNZ5YH",
        "outputId": "b12fbb7c-fb4b-4758-f656-6fcd7090a696"
      },
      "execution_count": 201,
      "outputs": [
        {
          "output_type": "stream",
          "name": "stdout",
          "text": [
            "Hits from each IP address:\n",
            "+----------------------------------------------------------------------------------------------------------------------+-----+\n",
            "|_c0                                                                                                                   |count|\n",
            "+----------------------------------------------------------------------------------------------------------------------+-----+\n",
            "|10.247.111.104 - - [07/Jan/2010:04:27:51 -0800] \"GET /assets/img/banner/ten-years-banner-black.jpg HTTP/1.1\" 200 16846|10   |\n",
            "|10.221.179.195 - - [03/Jan/2010:08:34:14 -0800] \"GET /robots.txt HTTP/1.0\" 404 208                                    |6    |\n",
            "|10.214.246.177 - - [07/Jan/2010:20:25:23 -0800] \"GET /robots.txt HTTP/1.0\" 404 208                                    |5    |\n",
            "|10.196.218.47 - - [13/Jan/2010:09:27:03 -0800] \"GET /robots.txt HTTP/1.0\" 404 208                                     |5    |\n",
            "|10.121.241.75 - - [10/Jan/2010:19:48:19 -0800] \"GET /robots.txt HTTP/1.0\" 404 208                                     |5    |\n",
            "|10.121.241.75 - - [06/Jan/2010:23:29:06 -0800] \"GET /robots.txt HTTP/1.0\" 404 208                                     |5    |\n",
            "|10.175.35.155 - - [12/Jan/2010:09:25:04 -0800] \"GET /robots.txt HTTP/1.0\" 404 208                                     |5    |\n",
            "|10.64.234.82 - - [02/Jan/2010:18:28:11 -0800] \"GET /assets/img/banner/ten-years-banner-black.jpg HTTP/1.1\" 200 16846  |4    |\n",
            "|10.121.241.75 - - [06/Jan/2010:19:11:17 -0800] \"GET /robots.txt HTTP/1.0\" 404 208                                     |4    |\n",
            "|10.193.228.173 - - [05/Jan/2010:08:04:44 -0800] \"GET /assets/img/banner/ten-years-banner-black.jpg HTTP/1.1\" 304 -    |4    |\n",
            "|10.96.173.111 - - [05/Jan/2010:07:03:56 -0800] \"GET /assets/img/banner/ten-years-banner-black.jpg HTTP/1.1\" 304 -     |4    |\n",
            "|10.125.88.95 - - [06/Jan/2010:07:50:46 -0800] \"GET /assets/img/banner/ten-years-banner-black.jpg HTTP/1.1\" 200 16846  |4    |\n",
            "|10.218.46.53 - - [07/Jan/2010:06:41:34 -0800] \"GET /assets/img/banner/ten-years-banner-black.jpg HTTP/1.1\" 200 16846  |4    |\n",
            "|10.214.246.177 - - [05/Jan/2010:08:38:12 -0800] \"GET /robots.txt HTTP/1.0\" 404 208                                    |4    |\n",
            "|10.175.35.155 - - [14/Jan/2010:09:27:16 -0800] \"GET /robots.txt HTTP/1.0\" 404 208                                     |3    |\n",
            "|10.214.246.177 - - [04/Jan/2010:22:29:18 -0800] \"GET /robots.txt HTTP/1.0\" 404 208                                    |3    |\n",
            "|10.216.113.172 - - [12/Aug/2009:05:59:19 -0700] \"GET /release-schedule/ HTTP/1.1\" 200 9306                            |3    |\n",
            "|10.77.227.114 - - [06/Jan/2010:04:57:59 -0800] \"GET / HTTP/1.1\" 200 4098                                              |3    |\n",
            "|10.35.140.163 - - [14/Jan/2010:15:28:30 -0800] \"GET /assets/img/banner/ten-years-banner-black.jpg HTTP/1.1\" 200 16846 |3    |\n",
            "|10.127.207.74 - - [07/Jan/2010:09:19:15 -0800] \"GET /assets/img/banner/ten-years-banner-black.jpg HTTP/1.1\" 200 16846 |3    |\n",
            "+----------------------------------------------------------------------------------------------------------------------+-----+\n",
            "only showing top 20 rows\n",
            "\n"
          ]
        }
      ]
    },
    {
      "cell_type": "markdown",
      "source": [
        "# 3.C\n",
        "Find the most popular file on the web site. That is, the file whose path occurs\n",
        "most often in access_log."
      ],
      "metadata": {
        "id": "AdEwqAJ1cGMq"
      }
    },
    {
      "cell_type": "code",
      "source": [
        "from pyspark.sql import SparkSession\n",
        "from pyspark.sql.functions import split, regexp_extract, col\n",
        "\n",
        "\n",
        "hits_df = access_log_df.groupBy('_c0').count().orderBy(col('count').desc())\n",
        "most_popular_file = hits_df.first()\n",
        "N = 5\n",
        "print(f\"\\nTop {N} most popular files:\")\n",
        "hits_df.show(N, False)\n",
        "spark.stop()"
      ],
      "metadata": {
        "colab": {
          "base_uri": "https://localhost:8080/"
        },
        "id": "Jm0jtp5AcTIF",
        "outputId": "9851d5b1-a0aa-4f43-cf62-072d9d610375"
      },
      "execution_count": 197,
      "outputs": [
        {
          "output_type": "stream",
          "name": "stdout",
          "text": [
            "\n",
            "Top 5 most popular files:\n",
            "+----------------------------------------------------------------------------------------------------------------------+-----+\n",
            "|_c0                                                                                                                   |count|\n",
            "+----------------------------------------------------------------------------------------------------------------------+-----+\n",
            "|10.247.111.104 - - [07/Jan/2010:04:27:51 -0800] \"GET /assets/img/banner/ten-years-banner-black.jpg HTTP/1.1\" 200 16846|10   |\n",
            "|10.221.179.195 - - [03/Jan/2010:08:34:14 -0800] \"GET /robots.txt HTTP/1.0\" 404 208                                    |6    |\n",
            "|10.214.246.177 - - [07/Jan/2010:20:25:23 -0800] \"GET /robots.txt HTTP/1.0\" 404 208                                    |5    |\n",
            "|10.196.218.47 - - [13/Jan/2010:09:27:03 -0800] \"GET /robots.txt HTTP/1.0\" 404 208                                     |5    |\n",
            "|10.121.241.75 - - [10/Jan/2010:19:48:19 -0800] \"GET /robots.txt HTTP/1.0\" 404 208                                     |5    |\n",
            "+----------------------------------------------------------------------------------------------------------------------+-----+\n",
            "only showing top 5 rows\n",
            "\n"
          ]
        }
      ]
    }
  ]
}