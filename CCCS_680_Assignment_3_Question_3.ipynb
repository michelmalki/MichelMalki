{
  "nbformat": 4,
  "nbformat_minor": 0,
  "metadata": {
    "colab": {
      "provenance": [],
      "authorship_tag": "ABX9TyPsbgDbjnVQpgoSWdX16RJD",
      "include_colab_link": true
    },
    "kernelspec": {
      "name": "python3",
      "display_name": "Python 3"
    },
    "language_info": {
      "name": "python"
    }
  },
  "cells": [
    {
      "cell_type": "markdown",
      "metadata": {
        "id": "view-in-github",
        "colab_type": "text"
      },
      "source": [
        "<a href=\"https://colab.research.google.com/github/michelmalki/MichelMalki/blob/main/CCCS_680_Assignment_3_Question_3.ipynb\" target=\"_parent\"><img src=\"https://colab.research.google.com/assets/colab-badge.svg\" alt=\"Open In Colab\"/></a>"
      ]
    },
    {
      "cell_type": "code",
      "execution_count": 264,
      "metadata": {
        "colab": {
          "base_uri": "https://localhost:8080/",
          "height": 607
        },
        "id": "65zWGlgbD4aM",
        "outputId": "5c4937f1-b74a-4294-cb04-09814c94ef13"
      },
      "outputs": [
        {
          "output_type": "stream",
          "name": "stdout",
          "text": [
            "\u001b[33m\r0% [Working]\u001b[0m\r            \rHit:1 https://cloud.r-project.org/bin/linux/ubuntu jammy-cran40/ InRelease\n",
            "Hit:2 https://developer.download.nvidia.com/compute/cuda/repos/ubuntu2204/x86_64  InRelease\n",
            "Get:3 http://security.ubuntu.com/ubuntu jammy-security InRelease [129 kB]\n",
            "Hit:4 http://archive.ubuntu.com/ubuntu jammy InRelease\n",
            "Get:5 http://archive.ubuntu.com/ubuntu jammy-updates InRelease [128 kB]\n",
            "Ign:6 https://r2u.stat.illinois.edu/ubuntu jammy InRelease\n",
            "Hit:7 https://r2u.stat.illinois.edu/ubuntu jammy Release\n",
            "Hit:8 https://ppa.launchpadcontent.net/deadsnakes/ppa/ubuntu jammy InRelease\n",
            "Hit:10 https://ppa.launchpadcontent.net/graphics-drivers/ppa/ubuntu jammy InRelease\n",
            "Hit:11 https://ppa.launchpadcontent.net/ubuntugis/ppa/ubuntu jammy InRelease\n",
            "Hit:12 http://archive.ubuntu.com/ubuntu jammy-backports InRelease\n",
            "Fetched 257 kB in 2s (133 kB/s)\n",
            "Reading package lists... Done\n",
            "Building dependency tree... Done\n",
            "Reading state information... Done\n",
            "47 packages can be upgraded. Run 'apt list --upgradable' to see them.\n",
            "\u001b[1;33mW: \u001b[0mSkipping acquire of configured file 'main/source/Sources' as repository 'https://r2u.stat.illinois.edu/ubuntu jammy InRelease' does not seem to provide it (sources.list entry misspelt?)\u001b[0m\n",
            "Requirement already satisfied: pyspark in /usr/local/lib/python3.10/dist-packages (3.5.1)\n",
            "Requirement already satisfied: py4j==0.10.9.7 in /usr/local/lib/python3.10/dist-packages (from pyspark) (0.10.9.7)\n",
            "Requirement already satisfied: py4j in /usr/local/lib/python3.10/dist-packages (0.10.9.7)\n"
          ]
        },
        {
          "output_type": "execute_result",
          "data": {
            "text/plain": [
              "<pyspark.sql.session.SparkSession at 0x7edc16e5fca0>"
            ],
            "text/html": [
              "\n",
              "            <div>\n",
              "                <p><b>SparkSession - in-memory</b></p>\n",
              "                \n",
              "        <div>\n",
              "            <p><b>SparkContext</b></p>\n",
              "\n",
              "            <p><a href=\"http://2277400866e3:4040\">Spark UI</a></p>\n",
              "\n",
              "            <dl>\n",
              "              <dt>Version</dt>\n",
              "                <dd><code>v3.5.1</code></dd>\n",
              "              <dt>Master</dt>\n",
              "                <dd><code>local[*]</code></dd>\n",
              "              <dt>AppName</dt>\n",
              "                <dd><code>CCCS 680 Assignment 3 Question 3</code></dd>\n",
              "            </dl>\n",
              "        </div>\n",
              "        \n",
              "            </div>\n",
              "        "
            ]
          },
          "metadata": {},
          "execution_count": 264
        }
      ],
      "source": [
        "!sudo apt update\n",
        "!apt-get install openjdk-8-jdk-headless -qq > /dev/null\n",
        "!wget -q https://dlcdn.apache.org/spark/spark-3.5.1/spark-3.5.1-bin-hadoop3.tgz\n",
        "!tar xf spark-3.5.1-bin-hadoop3.tgz\n",
        "!pip install -q findspark\n",
        "!pip install pyspark\n",
        "!pip install py4j\n",
        "\n",
        "import os\n",
        "import sys\n",
        "\n",
        "import findspark\n",
        "findspark.init()\n",
        "findspark.find()\n",
        "\n",
        "import pyspark\n",
        "\n",
        "from pyspark.sql import DataFrame, SparkSession\n",
        "from typing import List\n",
        "import pyspark.sql.types as T\n",
        "import pyspark.sql.functions as F\n",
        "from pyspark.sql.functions import col, count\n",
        "\n",
        "spark= SparkSession \\\n",
        "       .builder \\\n",
        "       .appName(\"CCCS 680 Assignment 3 Question 3\") \\\n",
        "       .getOrCreate()\n",
        "\n",
        "spark"
      ]
    },
    {
      "cell_type": "code",
      "source": [
        "from google.colab import drive\n",
        "drive.mount('/content/drive', force_remount=True)"
      ],
      "metadata": {
        "colab": {
          "base_uri": "https://localhost:8080/"
        },
        "id": "vJTgIHLPEHmH",
        "outputId": "c351ae6a-9818-4846-b832-f96c170ef430"
      },
      "execution_count": 291,
      "outputs": [
        {
          "output_type": "stream",
          "name": "stdout",
          "text": [
            "Mounted at /content/drive\n"
          ]
        }
      ]
    },
    {
      "cell_type": "code",
      "source": [
        "access_log_df = spark.read.csv('/content/drive/My Drive/CCCS-680 Assignment 3/access_log.txt.gz', inferSchema=True, header=False, sep='\\t')"
      ],
      "metadata": {
        "id": "59yoWKf-EIeJ"
      },
      "execution_count": 292,
      "outputs": []
    },
    {
      "cell_type": "code",
      "source": [
        "access_log_df.show()\n"
      ],
      "metadata": {
        "colab": {
          "base_uri": "https://localhost:8080/"
        },
        "id": "H3L2hpU8JehL",
        "outputId": "1579a367-7017-4af1-de91-5bb1f26b3bc8"
      },
      "execution_count": 293,
      "outputs": [
        {
          "output_type": "stream",
          "name": "stdout",
          "text": [
            "+--------------------+\n",
            "|                 _c0|\n",
            "+--------------------+\n",
            "|10.223.157.186 - ...|\n",
            "|10.223.157.186 - ...|\n",
            "|10.223.157.186 - ...|\n",
            "|10.223.157.186 - ...|\n",
            "|10.223.157.186 - ...|\n",
            "|10.223.157.186 - ...|\n",
            "|10.223.157.186 - ...|\n",
            "|10.223.157.186 - ...|\n",
            "|10.223.157.186 - ...|\n",
            "|10.223.157.186 - ...|\n",
            "|10.223.157.186 - ...|\n",
            "|10.223.157.186 - ...|\n",
            "|10.223.157.186 - ...|\n",
            "|10.223.157.186 - ...|\n",
            "|10.223.157.186 - ...|\n",
            "|10.223.157.186 - ...|\n",
            "|10.223.157.186 - ...|\n",
            "|10.223.157.186 - ...|\n",
            "|10.223.157.186 - ...|\n",
            "|10.223.157.186 - ...|\n",
            "+--------------------+\n",
            "only showing top 20 rows\n",
            "\n"
          ]
        }
      ]
    },
    {
      "cell_type": "code",
      "source": [
        "from pyspark.sql.window import Window\n",
        "from pyspark.sql.functions import row_number\n",
        "windowSpec = Window.partitionBy().orderBy(\"web server\")\n",
        "\n",
        "hits = access_log_df.withColumn(\"count\",row_number().over(windowSpec))\n",
        "hits.show()"
      ],
      "metadata": {
        "id": "BIFnunLXtWqL",
        "outputId": "535d193d-7f75-406a-b98d-5ddce81c3d26",
        "colab": {
          "base_uri": "https://localhost:8080/"
        }
      },
      "execution_count": 305,
      "outputs": [
        {
          "output_type": "stream",
          "name": "stdout",
          "text": [
            "+------------+--------------------+--------------------+------+------+-----+\n",
            "|          ip|                date|             request|status|  size|count|\n",
            "+------------+--------------------+--------------------+------+------+-----+\n",
            "|10.1.181.142|07/Jan/2010:02:29...|/images/filmmedia...|   200| 34769|    1|\n",
            "|10.1.181.142|07/Jan/2010:02:37...|/images/filmpics/...|   200| 95218|    2|\n",
            "|10.1.181.142|07/Jan/2010:02:29...|/images/filmmedia...|   200| 29271|    3|\n",
            "|10.1.181.142|07/Jan/2010:02:28...|/assets/img/searc...|   200|   168|    4|\n",
            "|10.1.181.142|07/Jan/2010:02:29...|/images/filmmedia...|   200| 41952|    5|\n",
            "|10.1.181.142|07/Jan/2010:02:28...|                   /|   200|  4095|    6|\n",
            "|10.1.181.142|07/Jan/2010:02:29...|/images/filmpics/...|   200| 20970|    7|\n",
            "|10.1.181.142|07/Jan/2010:02:28...|/assets/css/combi...|   200|  6373|    8|\n",
            "|10.1.181.142|07/Jan/2010:02:29...|/images/filmpics/...|   200| 44779|    9|\n",
            "|10.1.181.142|07/Jan/2010:02:28...|/assets/img/play_...|   200| 10827|   10|\n",
            "|10.1.181.142|07/Jan/2010:02:29...|/images/filmpics/...|   200| 50493|   11|\n",
            "|10.1.181.142|07/Jan/2010:02:28...|/images/newspics/...|   200| 14259|   12|\n",
            "|10.1.181.142|07/Jan/2010:02:29...|/images/clientlog...|   200| 90875|   13|\n",
            "|10.1.181.142|07/Jan/2010:02:28...|/images/newspics/...|   200| 42735|   14|\n",
            "|10.1.181.142|07/Jan/2010:02:29...|/images/filmmedia...|   200|167307|   15|\n",
            "|10.1.181.142|07/Jan/2010:02:28...|/images/frontpage...|   200|160271|   16|\n",
            "|10.1.181.142|07/Jan/2010:02:29...|/images/filmpics/...|   200| 18467|   17|\n",
            "|10.1.181.142|07/Jan/2010:02:28...|/assets/img/banne...|   200| 17903|   18|\n",
            "|10.1.181.142|07/Jan/2010:02:29...|/images/filmpics/...|   200| 19127|   19|\n",
            "|10.1.181.142|07/Jan/2010:02:28...|/assets/img/home-...|   200|  3892|   20|\n",
            "+------------+--------------------+--------------------+------+------+-----+\n",
            "only showing top 20 rows\n",
            "\n"
          ]
        }
      ]
    },
    {
      "cell_type": "markdown",
      "source": [
        "## 3.A\n",
        "Display the number of hits for each different file on the web site"
      ],
      "metadata": {
        "id": "EDrg58syE8pN"
      }
    },
    {
      "cell_type": "code",
      "source": [
        "from pyspark.sql import SparkSession\n",
        "from pyspark.sql.functions import col, regexp_extract\n",
        "\n",
        "spark = SparkSession.builder.appName(\"WebLogAnalysis\").getOrCreate()\n",
        "log_pattern = r'^(\\S+) (\\S+) (\\S+) \\[([\\w:/]+\\s[+\\-]\\d{4})\\] \"(\\S+) (\\S+) (\\S+)\" (\\d{3}) (\\S+)'\n",
        "access_log_df = access_log_df.select(\n",
        "    regexp_extract(col(\"_c0\"), log_pattern, 1).alias('ip'),\n",
        "    regexp_extract(col(\"_c0\"), log_pattern, 4).alias('date'),\n",
        "    regexp_extract(col(\"_c0\"), log_pattern, 6).alias('request'),\n",
        "    regexp_extract(col(\"_c0\"), log_pattern, 8).alias('status'),\n",
        "    regexp_extract(col(\"_c0\"), log_pattern, 9).alias('size')\n",
        ")\n",
        "file_hits = access_log_df.groupBy('request').count().orderBy('count', ascending=False)\n",
        "print(\"Number of hits for each file:\")\n",
        "file_hits.show(truncate=False)\n",
        "spark.stop()"
      ],
      "metadata": {
        "colab": {
          "base_uri": "https://localhost:8080/"
        },
        "id": "f7vRtLb0n2nl",
        "outputId": "de948266-eec7-48f9-8142-61cd0d3d3842"
      },
      "execution_count": 243,
      "outputs": [
        {
          "output_type": "stream",
          "name": "stdout",
          "text": [
            "Number of hits for each file:\n",
            "+---------------------------------------------+-----+\n",
            "|request                                      |count|\n",
            "+---------------------------------------------+-----+\n",
            "|/                                            |3129 |\n",
            "|/assets/img/home-logo.png                    |3113 |\n",
            "|/assets/img/banner/ten-years-banner-grey.jpg |2783 |\n",
            "|/assets/img/banner/ten-years-banner.png      |2765 |\n",
            "|/assets/img/banner/ten-years-banner-white.jpg|2745 |\n",
            "|/assets/css/the-associates.css               |2457 |\n",
            "|/assets/js/the-associates.js                 |2456 |\n",
            "|/assets/css/960.css                          |2378 |\n",
            "|/assets/css/reset.css                        |2370 |\n",
            "|/assets/js/jquery.cycle.all.min.js           |2018 |\n",
            "|/assets/img/search-button.gif                |2000 |\n",
            "|/favicon.ico                                 |1953 |\n",
            "|/assets/js/jquery.easing.1.3.js              |1952 |\n",
            "|/assets/js/jquery.form.js                    |1633 |\n",
            "|/assets/img/banner/ten-years-banner-black.jpg|1515 |\n",
            "|/release-schedule/                           |1309 |\n",
            "|/assets/css/combined.css                     |1174 |\n",
            "|/assets/js/javascript_combined.js            |1095 |\n",
            "|/assets/img/release-schedule-logo.png        |950  |\n",
            "|/release-schedule                            |897  |\n",
            "+---------------------------------------------+-----+\n",
            "only showing top 20 rows\n",
            "\n"
          ]
        }
      ]
    },
    {
      "cell_type": "markdown",
      "source": [
        "# 3.B\n",
        "Determine the number of hits to the site made by each different IP address"
      ],
      "metadata": {
        "id": "HPz3VWjzLhlg"
      }
    },
    {
      "source": [
        "from pyspark.sql import SparkSession\n",
        "from pyspark.sql.functions import col, count\n",
        "\n",
        "ip_hits = access_log_df.groupBy('ip').agg(count('*').alias('num_hits'))\n",
        "ip_hits.orderBy(col('num_hits').desc()).show()"
      ],
      "cell_type": "code",
      "metadata": {
        "id": "il_fmJOD9owN",
        "outputId": "855ee0ef-4c0b-4e9b-f4c9-87685598ee66",
        "colab": {
          "base_uri": "https://localhost:8080/"
        }
      },
      "execution_count": 307,
      "outputs": [
        {
          "output_type": "stream",
          "name": "stdout",
          "text": [
            "+--------------+--------+\n",
            "|            ip|num_hits|\n",
            "+--------------+--------+\n",
            "|10.216.113.172|   41920|\n",
            "| 10.211.47.159|   19888|\n",
            "|  10.42.102.54|    1452|\n",
            "|10.173.141.213|    1114|\n",
            "| 10.125.183.18|    1028|\n",
            "|  10.124.93.38|     691|\n",
            "| 10.56.112.192|     588|\n",
            "|  10.80.135.35|     554|\n",
            "|  10.153.239.5|     547|\n",
            "|  10.207.248.6|     527|\n",
            "| 10.72.114.139|     526|\n",
            "| 10.142.13.234|     522|\n",
            "|  10.41.69.177|     516|\n",
            "|  10.3.133.216|     508|\n",
            "| 10.113.87.173|     479|\n",
            "|10.193.228.173|     472|\n",
            "| 10.76.153.132|     454|\n",
            "|  10.247.8.215|     440|\n",
            "|10.151.235.176|     423|\n",
            "| 10.96.173.111|     417|\n",
            "+--------------+--------+\n",
            "only showing top 20 rows\n",
            "\n"
          ]
        }
      ]
    },
    {
      "cell_type": "markdown",
      "source": [
        "# 3.C\n",
        "Find the most popular file on the web site. That is, the file whose path occurs\n",
        "most often in access_log."
      ],
      "metadata": {
        "id": "AdEwqAJ1cGMq"
      }
    },
    {
      "cell_type": "code",
      "source": [
        "from pyspark.sql import SparkSession\n",
        "from pyspark.sql.functions import split, regexp_extract, col\n",
        "\n",
        "\n",
        "hits_df = access_log_df.groupBy('_c0').count().orderBy(col('count').desc())\n",
        "most_popular_file = hits_df.first()\n",
        "N = 5\n",
        "print(f\"\\nTop {N} most popular files:\")\n",
        "hits_df.show(N, False)\n",
        "spark.stop()"
      ],
      "metadata": {
        "colab": {
          "base_uri": "https://localhost:8080/"
        },
        "id": "Jm0jtp5AcTIF",
        "outputId": "50fc2d7e-61ef-4780-e0fd-052b1ea098af"
      },
      "execution_count": 270,
      "outputs": [
        {
          "output_type": "stream",
          "name": "stdout",
          "text": [
            "\n",
            "Top 5 most popular files:\n",
            "+----------------------------------------------------------------------------------------------------------------------+-----+\n",
            "|_c0                                                                                                                   |count|\n",
            "+----------------------------------------------------------------------------------------------------------------------+-----+\n",
            "|10.247.111.104 - - [07/Jan/2010:04:27:51 -0800] \"GET /assets/img/banner/ten-years-banner-black.jpg HTTP/1.1\" 200 16846|10   |\n",
            "|10.221.179.195 - - [03/Jan/2010:08:34:14 -0800] \"GET /robots.txt HTTP/1.0\" 404 208                                    |6    |\n",
            "|10.214.246.177 - - [07/Jan/2010:20:25:23 -0800] \"GET /robots.txt HTTP/1.0\" 404 208                                    |5    |\n",
            "|10.196.218.47 - - [13/Jan/2010:09:27:03 -0800] \"GET /robots.txt HTTP/1.0\" 404 208                                     |5    |\n",
            "|10.121.241.75 - - [10/Jan/2010:19:48:19 -0800] \"GET /robots.txt HTTP/1.0\" 404 208                                     |5    |\n",
            "+----------------------------------------------------------------------------------------------------------------------+-----+\n",
            "only showing top 5 rows\n",
            "\n"
          ]
        }
      ]
    }
  ]
}