{
  "nbformat": 4,
  "nbformat_minor": 0,
  "metadata": {
    "colab": {
      "provenance": [],
      "authorship_tag": "ABX9TyMbpoEey4A5wsFqlBT52TRK",
      "include_colab_link": true
    },
    "kernelspec": {
      "name": "python3",
      "display_name": "Python 3"
    },
    "language_info": {
      "name": "python"
    }
  },
  "cells": [
    {
      "cell_type": "markdown",
      "metadata": {
        "id": "view-in-github",
        "colab_type": "text"
      },
      "source": [
        "<a href=\"https://colab.research.google.com/github/michelmalki/MichelMalki/blob/main/CCCS_680_Assignment_3_Question_3.ipynb\" target=\"_parent\"><img src=\"https://colab.research.google.com/assets/colab-badge.svg\" alt=\"Open In Colab\"/></a>"
      ]
    },
    {
      "cell_type": "code",
      "execution_count": 237,
      "metadata": {
        "colab": {
          "base_uri": "https://localhost:8080/",
          "height": 607
        },
        "id": "65zWGlgbD4aM",
        "outputId": "f9c50195-5087-4fa1-deff-a1495322a476"
      },
      "outputs": [
        {
          "output_type": "stream",
          "name": "stdout",
          "text": [
            "\u001b[33m\r0% [Working]\u001b[0m\r            \rHit:1 https://cloud.r-project.org/bin/linux/ubuntu jammy-cran40/ InRelease\n",
            "Hit:2 https://developer.download.nvidia.com/compute/cuda/repos/ubuntu2204/x86_64  InRelease\n",
            "Get:3 http://security.ubuntu.com/ubuntu jammy-security InRelease [129 kB]\n",
            "Hit:4 http://archive.ubuntu.com/ubuntu jammy InRelease\n",
            "Get:5 http://archive.ubuntu.com/ubuntu jammy-updates InRelease [128 kB]\n",
            "Ign:6 https://r2u.stat.illinois.edu/ubuntu jammy InRelease\n",
            "Hit:7 https://ppa.launchpadcontent.net/deadsnakes/ppa/ubuntu jammy InRelease\n",
            "Hit:8 https://r2u.stat.illinois.edu/ubuntu jammy Release\n",
            "Hit:9 https://ppa.launchpadcontent.net/graphics-drivers/ppa/ubuntu jammy InRelease\n",
            "Hit:11 https://ppa.launchpadcontent.net/ubuntugis/ppa/ubuntu jammy InRelease\n",
            "Hit:12 http://archive.ubuntu.com/ubuntu jammy-backports InRelease\n",
            "Fetched 257 kB in 2s (128 kB/s)\n",
            "Reading package lists... Done\n",
            "Building dependency tree... Done\n",
            "Reading state information... Done\n",
            "47 packages can be upgraded. Run 'apt list --upgradable' to see them.\n",
            "\u001b[1;33mW: \u001b[0mSkipping acquire of configured file 'main/source/Sources' as repository 'https://r2u.stat.illinois.edu/ubuntu jammy InRelease' does not seem to provide it (sources.list entry misspelt?)\u001b[0m\n",
            "Requirement already satisfied: pyspark in /usr/local/lib/python3.10/dist-packages (3.5.1)\n",
            "Requirement already satisfied: py4j==0.10.9.7 in /usr/local/lib/python3.10/dist-packages (from pyspark) (0.10.9.7)\n",
            "Requirement already satisfied: py4j in /usr/local/lib/python3.10/dist-packages (0.10.9.7)\n"
          ]
        },
        {
          "output_type": "execute_result",
          "data": {
            "text/plain": [
              "<pyspark.sql.session.SparkSession at 0x7edc16e7d360>"
            ],
            "text/html": [
              "\n",
              "            <div>\n",
              "                <p><b>SparkSession - in-memory</b></p>\n",
              "                \n",
              "        <div>\n",
              "            <p><b>SparkContext</b></p>\n",
              "\n",
              "            <p><a href=\"http://2277400866e3:4040\">Spark UI</a></p>\n",
              "\n",
              "            <dl>\n",
              "              <dt>Version</dt>\n",
              "                <dd><code>v3.5.1</code></dd>\n",
              "              <dt>Master</dt>\n",
              "                <dd><code>local[*]</code></dd>\n",
              "              <dt>AppName</dt>\n",
              "                <dd><code>LogFileAnalysis</code></dd>\n",
              "            </dl>\n",
              "        </div>\n",
              "        \n",
              "            </div>\n",
              "        "
            ]
          },
          "metadata": {},
          "execution_count": 237
        }
      ],
      "source": [
        "!sudo apt update\n",
        "!apt-get install openjdk-8-jdk-headless -qq > /dev/null\n",
        "!wget -q https://dlcdn.apache.org/spark/spark-3.5.1/spark-3.5.1-bin-hadoop3.tgz\n",
        "!tar xf spark-3.5.1-bin-hadoop3.tgz\n",
        "!pip install -q findspark\n",
        "!pip install pyspark\n",
        "!pip install py4j\n",
        "\n",
        "import os\n",
        "import sys\n",
        "\n",
        "import findspark\n",
        "findspark.init()\n",
        "findspark.find()\n",
        "\n",
        "import pyspark\n",
        "\n",
        "from pyspark.sql import DataFrame, SparkSession\n",
        "from typing import List\n",
        "import pyspark.sql.types as T\n",
        "import pyspark.sql.functions as F\n",
        "from pyspark.sql.functions import col, count\n",
        "\n",
        "spark= SparkSession \\\n",
        "       .builder \\\n",
        "       .appName(\"CCCS 680 Assignment 3 Question 3\") \\\n",
        "       .getOrCreate()\n",
        "\n",
        "spark"
      ]
    },
    {
      "cell_type": "code",
      "source": [
        "from google.colab import drive\n",
        "drive.mount('/content/drive', force_remount=True)"
      ],
      "metadata": {
        "colab": {
          "base_uri": "https://localhost:8080/"
        },
        "id": "vJTgIHLPEHmH",
        "outputId": "31d818a8-e513-4da1-c47b-62b31994b600"
      },
      "execution_count": 238,
      "outputs": [
        {
          "output_type": "stream",
          "name": "stdout",
          "text": [
            "Mounted at /content/drive\n"
          ]
        }
      ]
    },
    {
      "cell_type": "code",
      "source": [
        "access_log_df = spark.read.csv('/content/drive/My Drive/CCCS-680 Assignment 3/access_log.txt.gz', inferSchema=True, header=False, sep='\\t')"
      ],
      "metadata": {
        "id": "59yoWKf-EIeJ"
      },
      "execution_count": 239,
      "outputs": []
    },
    {
      "cell_type": "code",
      "source": [
        "access_log_df.show()"
      ],
      "metadata": {
        "colab": {
          "base_uri": "https://localhost:8080/"
        },
        "id": "H3L2hpU8JehL",
        "outputId": "f35b5485-7741-429b-b408-25c6002fa1e2"
      },
      "execution_count": 240,
      "outputs": [
        {
          "output_type": "stream",
          "name": "stdout",
          "text": [
            "+--------------------+\n",
            "|                 _c0|\n",
            "+--------------------+\n",
            "|10.223.157.186 - ...|\n",
            "|10.223.157.186 - ...|\n",
            "|10.223.157.186 - ...|\n",
            "|10.223.157.186 - ...|\n",
            "|10.223.157.186 - ...|\n",
            "|10.223.157.186 - ...|\n",
            "|10.223.157.186 - ...|\n",
            "|10.223.157.186 - ...|\n",
            "|10.223.157.186 - ...|\n",
            "|10.223.157.186 - ...|\n",
            "|10.223.157.186 - ...|\n",
            "|10.223.157.186 - ...|\n",
            "|10.223.157.186 - ...|\n",
            "|10.223.157.186 - ...|\n",
            "|10.223.157.186 - ...|\n",
            "|10.223.157.186 - ...|\n",
            "|10.223.157.186 - ...|\n",
            "|10.223.157.186 - ...|\n",
            "|10.223.157.186 - ...|\n",
            "|10.223.157.186 - ...|\n",
            "+--------------------+\n",
            "only showing top 20 rows\n",
            "\n"
          ]
        }
      ]
    },
    {
      "cell_type": "markdown",
      "source": [
        "## 3.A\n",
        "Display the number of hits for each different file on the web site"
      ],
      "metadata": {
        "id": "EDrg58syE8pN"
      }
    },
    {
      "cell_type": "code",
      "source": [
        "from pyspark.sql import SparkSession\n",
        "from pyspark.sql.functions import col, regexp_extract\n",
        "\n",
        "spark = SparkSession.builder.appName(\"WebLogAnalysis\").getOrCreate()\n",
        "log_pattern = r'^(\\S+) (\\S+) (\\S+) \\[([\\w:/]+\\s[+\\-]\\d{4})\\] \"(\\S+) (\\S+) (\\S+)\" (\\d{3}) (\\S+)'\n",
        "access_log_df = access_log_df.select(\n",
        "    regexp_extract(col(\"_c0\"), log_pattern, 1).alias('ip'),\n",
        "    regexp_extract(col(\"_c0\"), log_pattern, 4).alias('date'),\n",
        "    regexp_extract(col(\"_c0\"), log_pattern, 6).alias('request'),\n",
        "    regexp_extract(col(\"_c0\"), log_pattern, 8).alias('status'),\n",
        "    regexp_extract(col(\"_c0\"), log_pattern, 9).alias('size')\n",
        ")\n",
        "file_hits = access_log_df.groupBy('request').count().orderBy('count', ascending=False)\n",
        "print(\"Number of hits for each file:\")\n",
        "file_hits.show(truncate=False)\n",
        "spark.stop()"
      ],
      "metadata": {
        "id": "f7vRtLb0n2nl",
        "outputId": "de948266-eec7-48f9-8142-61cd0d3d3842",
        "colab": {
          "base_uri": "https://localhost:8080/"
        }
      },
      "execution_count": 243,
      "outputs": [
        {
          "output_type": "stream",
          "name": "stdout",
          "text": [
            "Number of hits for each file:\n",
            "+---------------------------------------------+-----+\n",
            "|request                                      |count|\n",
            "+---------------------------------------------+-----+\n",
            "|/                                            |3129 |\n",
            "|/assets/img/home-logo.png                    |3113 |\n",
            "|/assets/img/banner/ten-years-banner-grey.jpg |2783 |\n",
            "|/assets/img/banner/ten-years-banner.png      |2765 |\n",
            "|/assets/img/banner/ten-years-banner-white.jpg|2745 |\n",
            "|/assets/css/the-associates.css               |2457 |\n",
            "|/assets/js/the-associates.js                 |2456 |\n",
            "|/assets/css/960.css                          |2378 |\n",
            "|/assets/css/reset.css                        |2370 |\n",
            "|/assets/js/jquery.cycle.all.min.js           |2018 |\n",
            "|/assets/img/search-button.gif                |2000 |\n",
            "|/favicon.ico                                 |1953 |\n",
            "|/assets/js/jquery.easing.1.3.js              |1952 |\n",
            "|/assets/js/jquery.form.js                    |1633 |\n",
            "|/assets/img/banner/ten-years-banner-black.jpg|1515 |\n",
            "|/release-schedule/                           |1309 |\n",
            "|/assets/css/combined.css                     |1174 |\n",
            "|/assets/js/javascript_combined.js            |1095 |\n",
            "|/assets/img/release-schedule-logo.png        |950  |\n",
            "|/release-schedule                            |897  |\n",
            "+---------------------------------------------+-----+\n",
            "only showing top 20 rows\n",
            "\n"
          ]
        }
      ]
    },
    {
      "cell_type": "code",
      "source": [
        "hits_df = access_log_df.groupBy(access_log_df._c0).count().orderBy(col('count'))\n",
        "hits_df.show(truncate=False)"
      ],
      "metadata": {
        "colab": {
          "base_uri": "https://localhost:8080/"
        },
        "id": "C4O6KAfAY83I",
        "outputId": "aaaf4df5-256b-4ae8-bb95-4f298087b19f"
      },
      "execution_count": null,
      "outputs": [
        {
          "output_type": "stream",
          "name": "stdout",
          "text": [
            "+--------------------------------------------------------------------------------------------------------------------------+-----+\n",
            "|_c0                                                                                                                       |count|\n",
            "+--------------------------------------------------------------------------------------------------------------------------+-----+\n",
            "|10.223.157.186 - - [15/Jul/2009:15:50:35 -0700] \"GET /assets/js/the-associates.js HTTP/1.1\" 200 4492                      |1    |\n",
            "|10.223.157.186 - - [15/Jul/2009:20:50:33 -0700] \"GET /assets/img/home-logo.png HTTP/1.1\" 304 -                            |1    |\n",
            "|10.223.157.186 - - [15/Jul/2009:20:50:39 -0700] \"GET /favicon.ico HTTP/1.1\" 404 209                                       |1    |\n",
            "|10.82.30.199 - - [16/Jul/2009:03:00:29 -0700] \"GET /trailers/ HTTP/1.1\" 200 11508                                         |1    |\n",
            "|10.82.30.199 - - [16/Jul/2009:03:00:06 -0700] \"GET /assets/css/the-associates.css HTTP/1.1\" 200 15779                     |1    |\n",
            "|10.216.113.172 - - [16/Jul/2009:03:15:17 -0700] \"GET /assets/img/trailers-logo.png HTTP/1.1\" 200 3764                     |1    |\n",
            "|10.216.113.172 - - [16/Jul/2009:03:15:02 -0700] \"GET /assets/img/closelabel.gif HTTP/1.1\" 200 979                         |1    |\n",
            "|10.216.113.172 - - [28/Jul/2009:06:55:25 -0700] \"GET /assets/css/the-associates.css HTTP/1.1\" 304 -                       |1    |\n",
            "|10.216.113.172 - - [28/Jul/2009:06:52:50 -0700] \"GET /assets/js/lowpro.js HTTP/1.1\" 304 -                                 |1    |\n",
            "|10.216.113.172 - - [28/Jul/2009:06:55:36 -0700] \"GET /assets/css/reset.css HTTP/1.1\" 304 -                                |1    |\n",
            "|10.216.113.172 - - [28/Jul/2009:06:55:36 -0700] \"GET /assets/css/the-associates.css HTTP/1.1\" 304 -                       |1    |\n",
            "|10.211.47.159 - - [09/Aug/2009:21:38:56 -0700] \"GET /assets/img/dummy/secondary-news-1.jpg HTTP/1.1\" 304 -                |1    |\n",
            "|10.153.239.5 - - [29/Jul/2009:09:18:50 -0700] \"GET /assets/img/closelabel.gif HTTP/1.1\" 304 -                             |1    |\n",
            "|10.211.47.159 - - [10/Aug/2009:20:10:56 -0700] \"GET /images/filmpics/0000/0041/weirdsville1_thumb.jpeg HTTP/1.1\" 304 -    |1    |\n",
            "|10.153.239.5 - - [29/Jul/2009:09:20:07 -0700] \"GET /assets/img/home-logo.png HTTP/1.1\" 304 -                              |1    |\n",
            "|10.211.47.159 - - [10/Aug/2009:20:21:43 -0700] \"GET /assets/img/dummy/films/district-13/image-thumbs/1.jpg HTTP/1.1\" 304 -|1    |\n",
            "|10.82.30.199 - - [31/Jul/2009:13:20:54 -0700] \"GET /assets/img/search-button.gif HTTP/1.1\" 304 -                          |1    |\n",
            "|10.211.47.159 - - [10/Aug/2009:20:42:02 -0700] \"GET /assets/js/the-associates.js HTTP/1.1\" 304 -                          |1    |\n",
            "|10.211.47.159 - - [10/Aug/2009:19:57:35 -0700] \"GET /assets/js/the-associates.js HTTP/1.1\" 304 -                          |1    |\n",
            "|10.211.47.159 - - [10/Aug/2009:20:47:26 -0700] \"GET /assets/img/closelabel.gif HTTP/1.1\" 304 -                            |1    |\n",
            "+--------------------------------------------------------------------------------------------------------------------------+-----+\n",
            "only showing top 20 rows\n",
            "\n"
          ]
        }
      ]
    },
    {
      "cell_type": "markdown",
      "source": [
        "# 3.B\n",
        "Determine the number of hits to the site made by each different IP address"
      ],
      "metadata": {
        "id": "HPz3VWjzLhlg"
      }
    },
    {
      "cell_type": "code",
      "source": [
        "from pyspark.sql import SparkSession\n",
        "from pyspark.sql.functions import regexp_extract, col\n",
        "\n",
        "hits_df = access_log_df.groupBy('_c0').count().orderBy(col('count').desc())\n",
        "\n",
        "print(\"Hits from each IP address:\")\n",
        "hits_df.show(truncate=False)\n",
        "unique_ip_count = hits_df.count()\n",
        "spark.stop()"
      ],
      "metadata": {
        "colab": {
          "base_uri": "https://localhost:8080/"
        },
        "id": "NywIvslNZ5YH",
        "outputId": "b12fbb7c-fb4b-4758-f656-6fcd7090a696"
      },
      "execution_count": null,
      "outputs": [
        {
          "output_type": "stream",
          "name": "stdout",
          "text": [
            "Hits from each IP address:\n",
            "+----------------------------------------------------------------------------------------------------------------------+-----+\n",
            "|_c0                                                                                                                   |count|\n",
            "+----------------------------------------------------------------------------------------------------------------------+-----+\n",
            "|10.247.111.104 - - [07/Jan/2010:04:27:51 -0800] \"GET /assets/img/banner/ten-years-banner-black.jpg HTTP/1.1\" 200 16846|10   |\n",
            "|10.221.179.195 - - [03/Jan/2010:08:34:14 -0800] \"GET /robots.txt HTTP/1.0\" 404 208                                    |6    |\n",
            "|10.214.246.177 - - [07/Jan/2010:20:25:23 -0800] \"GET /robots.txt HTTP/1.0\" 404 208                                    |5    |\n",
            "|10.196.218.47 - - [13/Jan/2010:09:27:03 -0800] \"GET /robots.txt HTTP/1.0\" 404 208                                     |5    |\n",
            "|10.121.241.75 - - [10/Jan/2010:19:48:19 -0800] \"GET /robots.txt HTTP/1.0\" 404 208                                     |5    |\n",
            "|10.121.241.75 - - [06/Jan/2010:23:29:06 -0800] \"GET /robots.txt HTTP/1.0\" 404 208                                     |5    |\n",
            "|10.175.35.155 - - [12/Jan/2010:09:25:04 -0800] \"GET /robots.txt HTTP/1.0\" 404 208                                     |5    |\n",
            "|10.64.234.82 - - [02/Jan/2010:18:28:11 -0800] \"GET /assets/img/banner/ten-years-banner-black.jpg HTTP/1.1\" 200 16846  |4    |\n",
            "|10.121.241.75 - - [06/Jan/2010:19:11:17 -0800] \"GET /robots.txt HTTP/1.0\" 404 208                                     |4    |\n",
            "|10.193.228.173 - - [05/Jan/2010:08:04:44 -0800] \"GET /assets/img/banner/ten-years-banner-black.jpg HTTP/1.1\" 304 -    |4    |\n",
            "|10.96.173.111 - - [05/Jan/2010:07:03:56 -0800] \"GET /assets/img/banner/ten-years-banner-black.jpg HTTP/1.1\" 304 -     |4    |\n",
            "|10.125.88.95 - - [06/Jan/2010:07:50:46 -0800] \"GET /assets/img/banner/ten-years-banner-black.jpg HTTP/1.1\" 200 16846  |4    |\n",
            "|10.218.46.53 - - [07/Jan/2010:06:41:34 -0800] \"GET /assets/img/banner/ten-years-banner-black.jpg HTTP/1.1\" 200 16846  |4    |\n",
            "|10.214.246.177 - - [05/Jan/2010:08:38:12 -0800] \"GET /robots.txt HTTP/1.0\" 404 208                                    |4    |\n",
            "|10.175.35.155 - - [14/Jan/2010:09:27:16 -0800] \"GET /robots.txt HTTP/1.0\" 404 208                                     |3    |\n",
            "|10.214.246.177 - - [04/Jan/2010:22:29:18 -0800] \"GET /robots.txt HTTP/1.0\" 404 208                                    |3    |\n",
            "|10.216.113.172 - - [12/Aug/2009:05:59:19 -0700] \"GET /release-schedule/ HTTP/1.1\" 200 9306                            |3    |\n",
            "|10.77.227.114 - - [06/Jan/2010:04:57:59 -0800] \"GET / HTTP/1.1\" 200 4098                                              |3    |\n",
            "|10.35.140.163 - - [14/Jan/2010:15:28:30 -0800] \"GET /assets/img/banner/ten-years-banner-black.jpg HTTP/1.1\" 200 16846 |3    |\n",
            "|10.127.207.74 - - [07/Jan/2010:09:19:15 -0800] \"GET /assets/img/banner/ten-years-banner-black.jpg HTTP/1.1\" 200 16846 |3    |\n",
            "+----------------------------------------------------------------------------------------------------------------------+-----+\n",
            "only showing top 20 rows\n",
            "\n"
          ]
        }
      ]
    },
    {
      "cell_type": "markdown",
      "source": [
        "# 3.C\n",
        "Find the most popular file on the web site. That is, the file whose path occurs\n",
        "most often in access_log."
      ],
      "metadata": {
        "id": "AdEwqAJ1cGMq"
      }
    },
    {
      "cell_type": "code",
      "source": [
        "from pyspark.sql import SparkSession\n",
        "from pyspark.sql.functions import split, regexp_extract, col\n",
        "\n",
        "\n",
        "hits_df = access_log_df.groupBy('_c0').count().orderBy(col('count').desc())\n",
        "most_popular_file = hits_df.first()\n",
        "N = 5\n",
        "print(f\"\\nTop {N} most popular files:\")\n",
        "hits_df.show(N, False)\n",
        "spark.stop()"
      ],
      "metadata": {
        "colab": {
          "base_uri": "https://localhost:8080/"
        },
        "id": "Jm0jtp5AcTIF",
        "outputId": "9851d5b1-a0aa-4f43-cf62-072d9d610375"
      },
      "execution_count": null,
      "outputs": [
        {
          "output_type": "stream",
          "name": "stdout",
          "text": [
            "\n",
            "Top 5 most popular files:\n",
            "+----------------------------------------------------------------------------------------------------------------------+-----+\n",
            "|_c0                                                                                                                   |count|\n",
            "+----------------------------------------------------------------------------------------------------------------------+-----+\n",
            "|10.247.111.104 - - [07/Jan/2010:04:27:51 -0800] \"GET /assets/img/banner/ten-years-banner-black.jpg HTTP/1.1\" 200 16846|10   |\n",
            "|10.221.179.195 - - [03/Jan/2010:08:34:14 -0800] \"GET /robots.txt HTTP/1.0\" 404 208                                    |6    |\n",
            "|10.214.246.177 - - [07/Jan/2010:20:25:23 -0800] \"GET /robots.txt HTTP/1.0\" 404 208                                    |5    |\n",
            "|10.196.218.47 - - [13/Jan/2010:09:27:03 -0800] \"GET /robots.txt HTTP/1.0\" 404 208                                     |5    |\n",
            "|10.121.241.75 - - [10/Jan/2010:19:48:19 -0800] \"GET /robots.txt HTTP/1.0\" 404 208                                     |5    |\n",
            "+----------------------------------------------------------------------------------------------------------------------+-----+\n",
            "only showing top 5 rows\n",
            "\n"
          ]
        }
      ]
    }
  ]
}