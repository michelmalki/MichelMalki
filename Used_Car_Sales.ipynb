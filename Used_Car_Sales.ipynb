{
  "nbformat": 4,
  "nbformat_minor": 0,
  "metadata": {
    "colab": {
      "provenance": [],
      "authorship_tag": "ABX9TyPm+POnwbUYdx6A4G7DNJSD",
      "include_colab_link": true
    },
    "kernelspec": {
      "name": "python3",
      "display_name": "Python 3"
    },
    "language_info": {
      "name": "python"
    }
  },
  "cells": [
    {
      "cell_type": "markdown",
      "metadata": {
        "id": "view-in-github",
        "colab_type": "text"
      },
      "source": [
        "<a href=\"https://colab.research.google.com/github/michelmalki/MichelMalki/blob/main/Used_Car_Sales.ipynb\" target=\"_parent\"><img src=\"https://colab.research.google.com/assets/colab-badge.svg\" alt=\"Open In Colab\"/></a>"
      ]
    },
    {
      "cell_type": "code",
      "source": [
        "import pandas as pd\n",
        "import numpy as np\n",
        "from google.colab import files\n",
        "url = 'https://raw.githubusercontent.com/nabilbeit/McGill/main/Toyota_Used_Cars_.csv'\n",
        "df = pd.read_csv(url)\n",
        "print(df.head(10))\n"
      ],
      "metadata": {
        "colab": {
          "base_uri": "https://localhost:8080/"
        },
        "id": "J_2b-5F_iImi",
        "outputId": "b24cb808-15ad-44ab-89a7-32cad46edd9b"
      },
      "execution_count": 21,
      "outputs": [
        {
          "output_type": "stream",
          "name": "stdout",
          "text": [
            "   Price  Age     KM FuelType   HP  MetColor  Automatic    CC  Doors  Weight  \\\n",
            "0  13500   23  46986   Diesel   90         1          0  2000      3    1165   \n",
            "1  13750   23  72937   Diesel   90         1          0  2000      3    1165   \n",
            "2  13950   24  41711   Diesel   90         1          0  2000      3    1165   \n",
            "3  14950   26  48000   Diesel   90         0          0  2000      3    1165   \n",
            "4  13750   30  38500   Diesel   90         0          0  2000      3    1170   \n",
            "5  12950   32  61000   Diesel   90         0          0  2000      3    1170   \n",
            "6  16900   27  94612   Diesel   90         1          0  2000      3    1245   \n",
            "7  18600   30  75889   Diesel   90         1          0  2000      3    1245   \n",
            "8  21500   27  19700   Petrol  192         0          0  1800      3    1185   \n",
            "9  12950   23  71138   Diesel   69         0          0  1900      3    1105   \n",
            "\n",
            "   Mileage  \n",
            "0    29196  \n",
            "1    45321  \n",
            "2    25918  \n",
            "3    29826  \n",
            "4    23923  \n",
            "5    37904  \n",
            "6    58789  \n",
            "7    47155  \n",
            "8    12241  \n",
            "9    44203  \n"
          ]
        }
      ]
    },
    {
      "cell_type": "code",
      "source": [
        "df.select_dtypes(include=['object']).columns\n",
        "df.select_dtypes(include=['int64','float64']).columns\n"
      ],
      "metadata": {
        "colab": {
          "base_uri": "https://localhost:8080/"
        },
        "id": "c1jGRHhKktyH",
        "outputId": "c63bc76e-ddb3-4007-8f41-af70719afd00"
      },
      "execution_count": 24,
      "outputs": [
        {
          "output_type": "execute_result",
          "data": {
            "text/plain": [
              "Index(['Price', 'Age', 'KM', 'HP', 'MetColor', 'Automatic', 'CC', 'Doors',\n",
              "       'Weight', 'Mileage'],\n",
              "      dtype='object')"
            ]
          },
          "metadata": {},
          "execution_count": 24
        }
      ]
    },
    {
      "cell_type": "code",
      "source": [
        "print(\"Number of Rows:\", df.shape[0])\n",
        "print(\"Number of Columns:\", df.shape[1])\n"
      ],
      "metadata": {
        "colab": {
          "base_uri": "https://localhost:8080/"
        },
        "id": "jmf-i1pjlNW1",
        "outputId": "0c9b4f13-1cc1-43ef-a554-07973fd006c1"
      },
      "execution_count": 25,
      "outputs": [
        {
          "output_type": "stream",
          "name": "stdout",
          "text": [
            "Number of Rows: 1198\n",
            "Number of Columns: 11\n"
          ]
        }
      ]
    },
    {
      "cell_type": "code",
      "source": [
        "import matplotlib.pyplot as plt\n",
        "df['Price'].describe()\n",
        "print(df['Price'].describe())\n",
        "plt.figure(figsize=(5, 3))\n",
        "plt.hist(df['Price'], bins = 25)\n",
        "plt.title('Sale Price Distribution')\n",
        "plt.xlabel('Sale Price')\n",
        "plt.ylabel('Frequency')\n",
        "plt.show()\n",
        "print(\"Skewness after removing outliers:\", df['Price'].skew())"
      ],
      "metadata": {
        "colab": {
          "base_uri": "https://localhost:8080/",
          "height": 507
        },
        "id": "plEy523nl5Ah",
        "outputId": "329b488e-2479-429b-b666-e29032bbe6af"
      },
      "execution_count": 28,
      "outputs": [
        {
          "output_type": "stream",
          "name": "stdout",
          "text": [
            "count     1198.000000\n",
            "mean     11243.260434\n",
            "std       3743.745345\n",
            "min       4350.000000\n",
            "25%       8950.000000\n",
            "50%      10250.000000\n",
            "75%      12450.000000\n",
            "max      32500.000000\n",
            "Name: Price, dtype: float64\n"
          ]
        },
        {
          "output_type": "display_data",
          "data": {
            "text/plain": [
              "<Figure size 500x300 with 1 Axes>"
            ],
            "image/png": "[encoded data removed]"
          },
          "metadata": {}
        },
        {
          "output_type": "stream",
          "name": "stdout",
          "text": [
            "Skewness after removing outliers: 1.5339668515613194\n"
          ]
        }
      ]
    }
  ]
}