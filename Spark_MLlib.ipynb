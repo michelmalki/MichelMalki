{
  "nbformat": 4,
  "nbformat_minor": 0,
  "metadata": {
    "colab": {
      "provenance": [],
      "authorship_tag": "ABX9TyNDOOHLOTnwnu47a11AF6aH",
      "include_colab_link": true
    },
    "kernelspec": {
      "name": "python3",
      "display_name": "Python 3"
    },
    "language_info": {
      "name": "python"
    }
  },
  "cells": [
    {
      "cell_type": "markdown",
      "metadata": {
        "id": "view-in-github",
        "colab_type": "text"
      },
      "source": [
        "<a href=\"https://colab.research.google.com/github/michelmalki/MichelMalki/blob/main/Spark_MLlib.ipynb\" target=\"_parent\"><img src=\"https://colab.research.google.com/assets/colab-badge.svg\" alt=\"Open In Colab\"/></a>"
      ]
    },
    {
      "cell_type": "code",
      "source": [
        "!pip install pyspark"
      ],
      "metadata": {
        "colab": {
          "base_uri": "https://localhost:8080/"
        },
        "id": "wegAPoaMwqBj",
        "outputId": "701662f6-c449-4ead-cf8e-ab7aabbe1dd8"
      },
      "execution_count": 4,
      "outputs": [
        {
          "output_type": "stream",
          "name": "stdout",
          "text": [
            "Collecting pyspark\n",
            "  Downloading pyspark-3.5.1.tar.gz (317.0 MB)\n",
            "\u001b[2K     \u001b[90m━━━━━━━━━━━━━━━━━━━━━━━━━━━━━━━━━━━━━━━━\u001b[0m \u001b[32m317.0/317.0 MB\u001b[0m \u001b[31m4.4 MB/s\u001b[0m eta \u001b[36m0:00:00\u001b[0m\n",
            "\u001b[?25h  Preparing metadata (setup.py) ... \u001b[?25l\u001b[?25hdone\n",
            "Requirement already satisfied: py4j==0.10.9.7 in /usr/local/lib/python3.10/dist-packages (from pyspark) (0.10.9.7)\n",
            "Building wheels for collected packages: pyspark\n",
            "  Building wheel for pyspark (setup.py) ... \u001b[?25l\u001b[?25hdone\n",
            "  Created wheel for pyspark: filename=pyspark-3.5.1-py2.py3-none-any.whl size=317488491 sha256=c85e6d371ce24dc3a9e3995d8336c931cf4273faff3015e779b2cb99e663ac53\n",
            "  Stored in directory: /root/.cache/pip/wheels/80/1d/60/2c256ed38dddce2fdd93be545214a63e02fbd8d74fb0b7f3a6\n",
            "Successfully built pyspark\n",
            "Installing collected packages: pyspark\n",
            "Successfully installed pyspark-3.5.1\n"
          ]
        }
      ]
    },
    {
      "source": [
        "from pyspark.sql import SparkSession\n",
        "\n",
        "# Create a SparkSession\n",
        "spark = SparkSession.builder.appName(\"SentimentAnalysis\").getOrCreate()\n",
        "tweet_schema = \"id int, label double, tweet string\"\n",
        "tweets_df = spark.read.csv(\"sentiment_analysis.csv\", header=True, schema=tweet_schema)\n",
        "tweets_df.show()"
      ],
      "cell_type": "code",
      "metadata": {
        "colab": {
          "base_uri": "https://localhost:8080/"
        },
        "id": "i8ppP7pHxelb",
        "outputId": "f2aaef7f-235c-4120-8161-9358a78e1b73"
      },
      "execution_count": 22,
      "outputs": [
        {
          "output_type": "stream",
          "name": "stdout",
          "text": [
            "+---+-----+--------------------+\n",
            "| id|label|               tweet|\n",
            "+---+-----+--------------------+\n",
            "|  1|  0.0|#fingerprint #Pre...|\n",
            "|  2|  0.0|Finally a transpa...|\n",
            "|  3|  0.0|We love this! Wou...|\n",
            "|  4|  0.0|I'm wired I know ...|\n",
            "|  5|  1.0|What amazing serv...|\n",
            "|  6|  1.0|iPhone software u...|\n",
            "|  7|  0.0|Happy for us .. #...|\n",
            "|  8|  0.0|New Type C charge...|\n",
            "|  9|  0.0|Bout to go shoppi...|\n",
            "| 10|  0.0|Photo: #fun #self...|\n",
            "| 11|  1.0|hey #apple when y...|\n",
            "| 12|  1.0|Ha! Not heavy mac...|\n",
            "| 13|  1.0|Contemplating giv...|\n",
            "| 14|  0.0|I just made anoth...|\n",
            "| 15|  1.0|@shaqlockholmes @...|\n",
            "| 16|  0.0|From #DeepEllum t...|\n",
            "| 17|  0.0|Like and Share if...|\n",
            "| 18|  0.0|Go crazy !! #ipho...|\n",
            "| 19|  1.0|The reason I don'...|\n",
            "| 20|  1.0|How is the apple ...|\n",
            "+---+-----+--------------------+\n",
            "only showing top 20 rows\n",
            "\n"
          ]
        }
      ]
    },
    {
      "cell_type": "code",
      "source": [
        "training_data, test_data = tweets_df.randomSplit([0.8, 0.2], seed=33)\n",
        "\n",
        "print('Training Data: ', training_data.count())\n",
        "print('Test data: ', test_data.count())"
      ],
      "metadata": {
        "colab": {
          "base_uri": "https://localhost:8080/"
        },
        "id": "OmUtOenlQgOU",
        "outputId": "0b187f46-574e-41c9-8b18-e7f891800132"
      },
      "execution_count": 23,
      "outputs": [
        {
          "output_type": "stream",
          "name": "stdout",
          "text": [
            "Training Data:  6260\n",
            "Test data:  1660\n"
          ]
        }
      ]
    },
    {
      "cell_type": "code",
      "source": [
        "from pyspark.ml import Pipeline\n",
        "from pyspark.ml.feature import Tokenizer, HashingTF, IDF\n",
        "from pyspark.ml.classification import LogisticRegression\n",
        "\n",
        "# from our tweet, create a list of works (tokens)\n",
        "tokenizer = Tokenizer(inputCol=\"tweet\", outputCol=\"words\")\n",
        "wordsData = tokenizer.transform(training_data)\n",
        "display(wordsData.head(5))"
      ],
      "metadata": {
        "colab": {
          "base_uri": "https://localhost:8080/",
          "height": 218
        },
        "id": "KV0DkyI6hjQe",
        "outputId": "baa1d5ef-396c-4334-87d0-37aea7411ad9"
      },
      "execution_count": 28,
      "outputs": [
        {
          "output_type": "display_data",
          "data": {
            "text/plain": [
              "[Row(id=1, label=0.0, tweet='#fingerprint #Pregnancy Test https://goo.gl/h1MfQV #android #apps #beautiful #cute #health #igers #iphoneonly #iphonesia #iphone', words=['#fingerprint', '#pregnancy', 'test', 'https://goo.gl/h1mfqv', '#android', '#apps', '#beautiful', '#cute', '#health', '#igers', '#iphoneonly', '#iphonesia', '#iphone']),\n",
              " Row(id=3, label=0.0, tweet='We love this! Would you go? #talk #makememories #unplug #relax #iphone #smartphone #wifi #connect... http://fb.me/6N3LsUpCu', words=['we', 'love', 'this!', 'would', 'you', 'go?', '#talk', '#makememories', '#unplug', '#relax', '#iphone', '#smartphone', '#wifi', '#connect...', 'http://fb.me/6n3lsupcu']),\n",
              " Row(id=4, label=0.0, tweet=\"I'm wired I know I'm George I was made that way ;) #iphone #cute #daventry #home http://instagr.am/p/Li_5_ujS4k/\", words=[\"i'm\", 'wired', 'i', 'know', \"i'm\", 'george', 'i', 'was', 'made', 'that', 'way', ';)', '#iphone', '#cute', '#daventry', '#home', 'http://instagr.am/p/li_5_ujs4k/']),\n",
              " Row(id=5, label=1.0, tweet=\"What amazing service! Apple won't even talk to me about a question I have unless I pay them $19.95 for their stupid support!\", words=['what', 'amazing', 'service!', 'apple', \"won't\", 'even', 'talk', 'to', 'me', 'about', 'a', 'question', 'i', 'have', 'unless', 'i', 'pay', 'them', '$19.95', 'for', 'their', 'stupid', 'support!']),\n",
              " Row(id=6, label=1.0, tweet='iPhone software update fucked up my phone big time Stupid iPhones', words=['iphone', 'software', 'update', 'fucked', 'up', 'my', 'phone', 'big', 'time', 'stupid', 'iphones'])]"
            ]
          },
          "metadata": {}
        }
      ]
    },
    {
      "cell_type": "code",
      "source": [
        "\n",
        "\n",
        "# map the sequence of words to their term frequency\n",
        "hashing_term_frequency = HashingTF(inputCol=\"words\", outputCol=\"rawFeatures\", numFeatures=20)\n",
        "\n",
        "# calculate the IDF for each TF mapping (i.e. how rare is that term in the whole dataset?)\n",
        "inverse_doc_frequency = IDF(inputCol=\"rawFeatures\", outputCol=\"features\")\n",
        "\n",
        "# Create a new logistic regression object for the model\n",
        "log_regression_model = LogisticRegression(maxIter=10, regParam=0.3, labelCol = 'label')\n",
        "\n",
        "# Construct pipeline, and fit to training data\n",
        "lr_pipeline = Pipeline(stages=[tokenizer, hashing_term_frequency, inverse_doc_frequency, log_regression_model]).fit(training_data)\n",
        ""
      ],
      "metadata": {
        "id": "W6S-T2V9RS-C"
      },
      "execution_count": 29,
      "outputs": []
    },
    {
      "cell_type": "code",
      "source": [
        "from pyspark.mllib.evaluation import BinaryClassificationMetrics\n",
        "\n",
        "def test_and_viz(lr_pipeline):\n",
        "\n",
        "    # model evaluation\n",
        "    predictions = lr_pipeline.transform(test_data)\n",
        "    predictionAndLabels = predictions.select(\"label\", \"prediction\").rdd\n",
        "    metrics = BinaryClassificationMetrics(predictionAndLabels)\n",
        "    print(\"Area under ROC = %s\" % metrics.areaUnderROC)\n",
        "\n",
        "    import matplotlib.pyplot as plt\n",
        "    ## Plot the ROC curve; no need for pandas, because this uses the modelSummary object\n",
        "    modelSummary = lr_pipeline.stages[-1].summary\n",
        "\n",
        "    plt.plot([0, 1], [0, 1], 'r--')\n",
        "    plt.plot(modelSummary.roc.select('FPR').collect(),\n",
        "            modelSummary.roc.select('TPR').collect())\n",
        "    plt.xlabel('False Positive Rate')\n",
        "    plt.ylabel('True Positive Rate')\n",
        "    plt.show()\n",
        "\n",
        "test_and_viz(lr_pipeline)"
      ],
      "metadata": {
        "colab": {
          "base_uri": "https://localhost:8080/",
          "height": 504
        },
        "id": "938OfVYAgUTw",
        "outputId": "45c71756-2165-4059-b14d-f771dcd35a5b"
      },
      "execution_count": 26,
      "outputs": [
        {
          "output_type": "stream",
          "name": "stderr",
          "text": [
            "/usr/local/lib/python3.10/dist-packages/pyspark/sql/context.py:158: FutureWarning: Deprecated in 3.0.0. Use SparkSession.builder.getOrCreate() instead.\n",
            "  warnings.warn(\n"
          ]
        },
        {
          "output_type": "stream",
          "name": "stdout",
          "text": [
            "Area under ROC = 0.7270763114683261\n"
          ]
        },
        {
          "output_type": "display_data",
          "data": {
            "text/plain": [
              "<Figure size 640x480 with 1 Axes>"
            ],
            "image/png": "[encoded data removed]"
          },
          "metadata": {}
        }
      ]
    }
  ]
}